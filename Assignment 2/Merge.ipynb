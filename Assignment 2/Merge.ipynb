{
 "cells": [
  {
   "cell_type": "code",
   "execution_count": 2,
   "metadata": {
    "collapsed": true
   },
   "outputs": [],
   "source": [
    "# State Tax Data added from http://www.census.gov/govs/statetax/\n",
    "import pandas as pd\n",
    "\n",
    "a = pd.read_csv(\"salaries_1.csv\")\n",
    "b = pd.read_csv(\"stateTax.csv\")\n",
    "# b = b.dropna(axis=1)\n",
    "merged = a.merge(b, on='State')\n",
    "merged.to_csv(\"output.csv\", index=False)"
   ]
  },
  {
   "cell_type": "code",
   "execution_count": 3,
   "metadata": {
    "collapsed": false
   },
   "outputs": [
    {
     "name": "stdout",
     "output_type": "stream",
     "text": [
      "(2222, 29)\n",
      "(50, 26)\n",
      "(2210, 54)\n"
     ]
    }
   ],
   "source": [
    "print (a.shape)\n",
    "print (b.shape)\n",
    "print (merged.shape)\n"
   ]
  },
  {
   "cell_type": "code",
   "execution_count": 4,
   "metadata": {
    "collapsed": false
   },
   "outputs": [
    {
     "name": "stdout",
     "output_type": "stream",
     "text": [
      "(2210, 54)\n",
      "(43582, 8)\n",
      "(2210, 61)\n"
     ]
    }
   ],
   "source": [
    "# usData = pd.read_csv(\"US.csv\", sep='\\t')\n",
    "a = pd.read_csv(\"output.csv\")\n",
    "b = pd.read_csv(\"us_postal_codes.csv\")\n",
    "merged = a.merge(b, on='Zip')\n",
    "merged.to_csv(\"output2.csv\", index=False)\n",
    "print (a.shape)\n",
    "print (b.shape)\n",
    "print (merged.shape)"
   ]
  },
  {
   "cell_type": "code",
   "execution_count": 5,
   "metadata": {
    "collapsed": false
   },
   "outputs": [
    {
     "data": {
      "text/html": [
       "<div>\n",
       "<table border=\"1\" class=\"dataframe\">\n",
       "  <thead>\n",
       "    <tr style=\"text-align: right;\">\n",
       "      <th></th>\n",
       "      <th>Function</th>\n",
       "      <th>sup1</th>\n",
       "      <th>sup2</th>\n",
       "      <th>sup3</th>\n",
       "      <th>sup4</th>\n",
       "      <th>sup5</th>\n",
       "      <th>salary</th>\n",
       "      <th>gender</th>\n",
       "      <th>disabled</th>\n",
       "      <th>race</th>\n",
       "      <th>...</th>\n",
       "      <th>T51</th>\n",
       "      <th>T53</th>\n",
       "      <th>T99</th>\n",
       "      <th>Place Name</th>\n",
       "      <th>State_y</th>\n",
       "      <th>State Abbreviation</th>\n",
       "      <th>County</th>\n",
       "      <th>Latitude</th>\n",
       "      <th>Longitude</th>\n",
       "      <th>Unnamed: 7</th>\n",
       "    </tr>\n",
       "  </thead>\n",
       "  <tbody>\n",
       "    <tr>\n",
       "      <th>0</th>\n",
       "      <td>position1</td>\n",
       "      <td>1</td>\n",
       "      <td>1</td>\n",
       "      <td>0</td>\n",
       "      <td>20</td>\n",
       "      <td>1</td>\n",
       "      <td>38000.0</td>\n",
       "      <td>Man</td>\n",
       "      <td>False</td>\n",
       "      <td>Caucasian</td>\n",
       "      <td>...</td>\n",
       "      <td>10698</td>\n",
       "      <td>0</td>\n",
       "      <td>0</td>\n",
       "      <td>Albany</td>\n",
       "      <td>Georgia</td>\n",
       "      <td>GA</td>\n",
       "      <td>Dougherty</td>\n",
       "      <td>31.5789</td>\n",
       "      <td>-84.2118</td>\n",
       "      <td>NaN</td>\n",
       "    </tr>\n",
       "    <tr>\n",
       "      <th>1</th>\n",
       "      <td>position20</td>\n",
       "      <td>0</td>\n",
       "      <td>0</td>\n",
       "      <td>0</td>\n",
       "      <td>5</td>\n",
       "      <td>1</td>\n",
       "      <td>33000.0</td>\n",
       "      <td>Man</td>\n",
       "      <td>False</td>\n",
       "      <td>Caucasian</td>\n",
       "      <td>...</td>\n",
       "      <td>10698</td>\n",
       "      <td>0</td>\n",
       "      <td>0</td>\n",
       "      <td>Albany</td>\n",
       "      <td>Georgia</td>\n",
       "      <td>GA</td>\n",
       "      <td>Dougherty</td>\n",
       "      <td>31.5789</td>\n",
       "      <td>-84.2118</td>\n",
       "      <td>NaN</td>\n",
       "    </tr>\n",
       "    <tr>\n",
       "      <th>2</th>\n",
       "      <td>position1</td>\n",
       "      <td>1</td>\n",
       "      <td>0</td>\n",
       "      <td>0</td>\n",
       "      <td>12</td>\n",
       "      <td>0</td>\n",
       "      <td>45000.0</td>\n",
       "      <td>Man</td>\n",
       "      <td>False</td>\n",
       "      <td>Caucasian</td>\n",
       "      <td>...</td>\n",
       "      <td>10698</td>\n",
       "      <td>0</td>\n",
       "      <td>0</td>\n",
       "      <td>Dalton</td>\n",
       "      <td>Georgia</td>\n",
       "      <td>GA</td>\n",
       "      <td>Whitfield</td>\n",
       "      <td>34.7635</td>\n",
       "      <td>-84.9875</td>\n",
       "      <td>NaN</td>\n",
       "    </tr>\n",
       "    <tr>\n",
       "      <th>3</th>\n",
       "      <td>position6</td>\n",
       "      <td>0</td>\n",
       "      <td>0</td>\n",
       "      <td>0</td>\n",
       "      <td>10</td>\n",
       "      <td>0</td>\n",
       "      <td>29000.0</td>\n",
       "      <td>Woman</td>\n",
       "      <td>False</td>\n",
       "      <td>Caucasian</td>\n",
       "      <td>...</td>\n",
       "      <td>10698</td>\n",
       "      <td>0</td>\n",
       "      <td>0</td>\n",
       "      <td>Dalton</td>\n",
       "      <td>Georgia</td>\n",
       "      <td>GA</td>\n",
       "      <td>Whitfield</td>\n",
       "      <td>34.7635</td>\n",
       "      <td>-84.9875</td>\n",
       "      <td>NaN</td>\n",
       "    </tr>\n",
       "    <tr>\n",
       "      <th>4</th>\n",
       "      <td>position1</td>\n",
       "      <td>2</td>\n",
       "      <td>0</td>\n",
       "      <td>5</td>\n",
       "      <td>100</td>\n",
       "      <td>1</td>\n",
       "      <td>62000.0</td>\n",
       "      <td>Woman</td>\n",
       "      <td>False</td>\n",
       "      <td>Caucasian</td>\n",
       "      <td>...</td>\n",
       "      <td>10698</td>\n",
       "      <td>0</td>\n",
       "      <td>0</td>\n",
       "      <td>Savannah</td>\n",
       "      <td>Georgia</td>\n",
       "      <td>GA</td>\n",
       "      <td>Chatham</td>\n",
       "      <td>31.9959</td>\n",
       "      <td>-81.2358</td>\n",
       "      <td>NaN</td>\n",
       "    </tr>\n",
       "  </tbody>\n",
       "</table>\n",
       "<p>5 rows × 61 columns</p>\n",
       "</div>"
      ],
      "text/plain": [
       "     Function  sup1  sup2  sup3  sup4  sup5   salary gender disabled  \\\n",
       "0   position1     1     1     0    20     1  38000.0    Man    False   \n",
       "1  position20     0     0     0     5     1  33000.0    Man    False   \n",
       "2   position1     1     0     0    12     0  45000.0    Man    False   \n",
       "3   position6     0     0     0    10     0  29000.0  Woman    False   \n",
       "4   position1     2     0     5   100     1  62000.0  Woman    False   \n",
       "\n",
       "        race     ...        T51  T53  T99 Place Name  State_y  \\\n",
       "0  Caucasian     ...      10698    0    0     Albany  Georgia   \n",
       "1  Caucasian     ...      10698    0    0     Albany  Georgia   \n",
       "2  Caucasian     ...      10698    0    0     Dalton  Georgia   \n",
       "3  Caucasian     ...      10698    0    0     Dalton  Georgia   \n",
       "4  Caucasian     ...      10698    0    0   Savannah  Georgia   \n",
       "\n",
       "  State Abbreviation     County  Latitude  Longitude  Unnamed: 7  \n",
       "0                 GA  Dougherty   31.5789   -84.2118         NaN  \n",
       "1                 GA  Dougherty   31.5789   -84.2118         NaN  \n",
       "2                 GA  Whitfield   34.7635   -84.9875         NaN  \n",
       "3                 GA  Whitfield   34.7635   -84.9875         NaN  \n",
       "4                 GA    Chatham   31.9959   -81.2358         NaN  \n",
       "\n",
       "[5 rows x 61 columns]"
      ]
     },
     "execution_count": 5,
     "metadata": {},
     "output_type": "execute_result"
    }
   ],
   "source": [
    "merged.head(5)"
   ]
  },
  {
   "cell_type": "code",
   "execution_count": null,
   "metadata": {
    "collapsed": true
   },
   "outputs": [],
   "source": []
  }
 ],
 "metadata": {
  "kernelspec": {
   "display_name": "Python 3",
   "language": "python",
   "name": "python3"
  },
  "language_info": {
   "codemirror_mode": {
    "name": "ipython",
    "version": 3
   },
   "file_extension": ".py",
   "mimetype": "text/x-python",
   "name": "python",
   "nbconvert_exporter": "python",
   "pygments_lexer": "ipython3",
   "version": "3.5.1"
  }
 },
 "nbformat": 4,
 "nbformat_minor": 0
}
