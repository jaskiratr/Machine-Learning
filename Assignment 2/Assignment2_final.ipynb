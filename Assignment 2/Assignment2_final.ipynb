{
 "cells": [
  {
   "cell_type": "code",
   "execution_count": 1,
   "metadata": {
    "collapsed": false
   },
   "outputs": [],
   "source": [
    "#Kitchen Sink Model\n",
    "# State Tax Collections http://www2.census.gov/govs/statetax/14staxcd.txt\n",
    "# Geo Data http://download.geonames.org/export/dump/\n",
    "# Subsidized Households 2008 http://www.HUDuser.org/portal/picture2008/2008_tract.zip\n",
    "# Zip Codes https://www.aggdata.com/node/86\n",
    "# Unemployment Rates http://www.bls.gov/lau/laucntycur14.txt\n",
    "import numpy as np\n",
    "import pandas as pd\n",
    "import matplotlib.pyplot as plt\n",
    "%matplotlib inline"
   ]
  },
  {
   "cell_type": "code",
   "execution_count": 2,
   "metadata": {
    "collapsed": false
   },
   "outputs": [
    {
     "data": {
      "text/plain": [
       "(1444, 152)"
      ]
     },
     "execution_count": 2,
     "metadata": {},
     "output_type": "execute_result"
    }
   ],
   "source": [
    "sal = pd.read_csv('../Data/salaries_parent.csv')\n",
    "sal.shape"
   ]
  },
  {
   "cell_type": "code",
   "execution_count": 3,
   "metadata": {
    "collapsed": false,
    "scrolled": false
   },
   "outputs": [
    {
     "data": {
      "text/html": [
       "<div>\n",
       "<table border=\"1\" class=\"dataframe\">\n",
       "  <thead>\n",
       "    <tr style=\"text-align: right;\">\n",
       "      <th></th>\n",
       "      <th>Zip</th>\n",
       "      <th>B19013_001</th>\n",
       "      <th>no_male_hs_p</th>\n",
       "      <th>no_female_hs_p</th>\n",
       "      <th>at_least_hs_male_p</th>\n",
       "      <th>at_least_hs_female_p</th>\n",
       "      <th>at_least_bach_male_p</th>\n",
       "      <th>at_least_bach_female_p</th>\n",
       "      <th>male_unemployment</th>\n",
       "      <th>female_unemployment</th>\n",
       "      <th>...</th>\n",
       "      <th>T51</th>\n",
       "      <th>T53</th>\n",
       "      <th>T99</th>\n",
       "      <th>Place Name</th>\n",
       "      <th>State_y</th>\n",
       "      <th>State Abbreviation</th>\n",
       "      <th>County</th>\n",
       "      <th>Latitude</th>\n",
       "      <th>Longitude</th>\n",
       "      <th>Unnamed: 60</th>\n",
       "    </tr>\n",
       "  </thead>\n",
       "  <tbody>\n",
       "    <tr>\n",
       "      <th>0</th>\n",
       "      <td>1003</td>\n",
       "      <td>NaN</td>\n",
       "      <td>0.0</td>\n",
       "      <td>0.0</td>\n",
       "      <td>100.0</td>\n",
       "      <td>100.0</td>\n",
       "      <td>35.46798</td>\n",
       "      <td>76.470588</td>\n",
       "      <td>6.92323</td>\n",
       "      <td>7.939714</td>\n",
       "      <td>...</td>\n",
       "      <td>246850</td>\n",
       "      <td>0</td>\n",
       "      <td>197503</td>\n",
       "      <td>Amherst</td>\n",
       "      <td>Massachusetts</td>\n",
       "      <td>MA</td>\n",
       "      <td>Hampshire</td>\n",
       "      <td>42.3919</td>\n",
       "      <td>-72.5248</td>\n",
       "      <td>NaN</td>\n",
       "    </tr>\n",
       "    <tr>\n",
       "      <th>1</th>\n",
       "      <td>1003</td>\n",
       "      <td>NaN</td>\n",
       "      <td>0.0</td>\n",
       "      <td>0.0</td>\n",
       "      <td>100.0</td>\n",
       "      <td>100.0</td>\n",
       "      <td>35.46798</td>\n",
       "      <td>76.470588</td>\n",
       "      <td>6.92323</td>\n",
       "      <td>7.939714</td>\n",
       "      <td>...</td>\n",
       "      <td>246850</td>\n",
       "      <td>0</td>\n",
       "      <td>197503</td>\n",
       "      <td>Amherst</td>\n",
       "      <td>Massachusetts</td>\n",
       "      <td>MA</td>\n",
       "      <td>Hampshire</td>\n",
       "      <td>42.3919</td>\n",
       "      <td>-72.5248</td>\n",
       "      <td>NaN</td>\n",
       "    </tr>\n",
       "    <tr>\n",
       "      <th>2</th>\n",
       "      <td>1003</td>\n",
       "      <td>NaN</td>\n",
       "      <td>0.0</td>\n",
       "      <td>0.0</td>\n",
       "      <td>100.0</td>\n",
       "      <td>100.0</td>\n",
       "      <td>35.46798</td>\n",
       "      <td>76.470588</td>\n",
       "      <td>6.92323</td>\n",
       "      <td>7.939714</td>\n",
       "      <td>...</td>\n",
       "      <td>246850</td>\n",
       "      <td>0</td>\n",
       "      <td>197503</td>\n",
       "      <td>Amherst</td>\n",
       "      <td>Massachusetts</td>\n",
       "      <td>MA</td>\n",
       "      <td>Hampshire</td>\n",
       "      <td>42.3919</td>\n",
       "      <td>-72.5248</td>\n",
       "      <td>NaN</td>\n",
       "    </tr>\n",
       "    <tr>\n",
       "      <th>3</th>\n",
       "      <td>1003</td>\n",
       "      <td>NaN</td>\n",
       "      <td>0.0</td>\n",
       "      <td>0.0</td>\n",
       "      <td>100.0</td>\n",
       "      <td>100.0</td>\n",
       "      <td>35.46798</td>\n",
       "      <td>76.470588</td>\n",
       "      <td>6.92323</td>\n",
       "      <td>7.939714</td>\n",
       "      <td>...</td>\n",
       "      <td>246850</td>\n",
       "      <td>0</td>\n",
       "      <td>197503</td>\n",
       "      <td>Amherst</td>\n",
       "      <td>Massachusetts</td>\n",
       "      <td>MA</td>\n",
       "      <td>Hampshire</td>\n",
       "      <td>42.3919</td>\n",
       "      <td>-72.5248</td>\n",
       "      <td>NaN</td>\n",
       "    </tr>\n",
       "    <tr>\n",
       "      <th>4</th>\n",
       "      <td>1003</td>\n",
       "      <td>NaN</td>\n",
       "      <td>0.0</td>\n",
       "      <td>0.0</td>\n",
       "      <td>100.0</td>\n",
       "      <td>100.0</td>\n",
       "      <td>35.46798</td>\n",
       "      <td>76.470588</td>\n",
       "      <td>6.92323</td>\n",
       "      <td>7.939714</td>\n",
       "      <td>...</td>\n",
       "      <td>246850</td>\n",
       "      <td>0</td>\n",
       "      <td>197503</td>\n",
       "      <td>Amherst</td>\n",
       "      <td>Massachusetts</td>\n",
       "      <td>MA</td>\n",
       "      <td>Hampshire</td>\n",
       "      <td>42.3919</td>\n",
       "      <td>-72.5248</td>\n",
       "      <td>NaN</td>\n",
       "    </tr>\n",
       "  </tbody>\n",
       "</table>\n",
       "<p>5 rows × 152 columns</p>\n",
       "</div>"
      ],
      "text/plain": [
       "    Zip  B19013_001  no_male_hs_p  no_female_hs_p  at_least_hs_male_p  \\\n",
       "0  1003         NaN           0.0             0.0               100.0   \n",
       "1  1003         NaN           0.0             0.0               100.0   \n",
       "2  1003         NaN           0.0             0.0               100.0   \n",
       "3  1003         NaN           0.0             0.0               100.0   \n",
       "4  1003         NaN           0.0             0.0               100.0   \n",
       "\n",
       "   at_least_hs_female_p  at_least_bach_male_p  at_least_bach_female_p  \\\n",
       "0                 100.0              35.46798               76.470588   \n",
       "1                 100.0              35.46798               76.470588   \n",
       "2                 100.0              35.46798               76.470588   \n",
       "3                 100.0              35.46798               76.470588   \n",
       "4                 100.0              35.46798               76.470588   \n",
       "\n",
       "   male_unemployment  female_unemployment     ...          T51  T53     T99  \\\n",
       "0            6.92323             7.939714     ...       246850    0  197503   \n",
       "1            6.92323             7.939714     ...       246850    0  197503   \n",
       "2            6.92323             7.939714     ...       246850    0  197503   \n",
       "3            6.92323             7.939714     ...       246850    0  197503   \n",
       "4            6.92323             7.939714     ...       246850    0  197503   \n",
       "\n",
       "   Place Name        State_y  State Abbreviation     County  Latitude  \\\n",
       "0     Amherst  Massachusetts                  MA  Hampshire   42.3919   \n",
       "1     Amherst  Massachusetts                  MA  Hampshire   42.3919   \n",
       "2     Amherst  Massachusetts                  MA  Hampshire   42.3919   \n",
       "3     Amherst  Massachusetts                  MA  Hampshire   42.3919   \n",
       "4     Amherst  Massachusetts                  MA  Hampshire   42.3919   \n",
       "\n",
       "   Longitude  Unnamed: 60  \n",
       "0   -72.5248          NaN  \n",
       "1   -72.5248          NaN  \n",
       "2   -72.5248          NaN  \n",
       "3   -72.5248          NaN  \n",
       "4   -72.5248          NaN  \n",
       "\n",
       "[5 rows x 152 columns]"
      ]
     },
     "execution_count": 3,
     "metadata": {},
     "output_type": "execute_result"
    }
   ],
   "source": [
    "sal.head(5)"
   ]
  },
  {
   "cell_type": "code",
   "execution_count": 4,
   "metadata": {
    "collapsed": false
   },
   "outputs": [
    {
     "data": {
      "text/plain": [
       "(1412, 153)"
      ]
     },
     "execution_count": 4,
     "metadata": {},
     "output_type": "execute_result"
    }
   ],
   "source": [
    "# eliminate rows with missing Y values (NaN)\n",
    "sal['missingSalary'] = pd.isnull(sal['salary'])\n",
    "sal2 = sal[(sal.missingSalary == False)]\n",
    "sal2.shape"
   ]
  },
  {
   "cell_type": "code",
   "execution_count": 5,
   "metadata": {
    "collapsed": false,
    "scrolled": true
   },
   "outputs": [
    {
     "name": "stderr",
     "output_type": "stream",
     "text": [
      "C:\\Anaconda3\\lib\\site-packages\\pandas\\core\\generic.py:3178: SettingWithCopyWarning: \n",
      "A value is trying to be set on a copy of a slice from a DataFrame\n",
      "\n",
      "See the caveats in the documentation: http://pandas.pydata.org/pandas-docs/stable/indexing.html#indexing-view-versus-copy\n",
      "  self._update_inplace(new_data)\n"
     ]
    },
    {
     "data": {
      "text/plain": [
       "True"
      ]
     },
     "execution_count": 5,
     "metadata": {},
     "output_type": "execute_result"
    }
   ],
   "source": [
    "#Fill the missing values with mean value\n",
    "sal2.fillna(sal2.mean(), inplace=True)\n",
    "sal2.isnull().values.any()"
   ]
  },
  {
   "cell_type": "code",
   "execution_count": 6,
   "metadata": {
    "collapsed": false
   },
   "outputs": [
    {
     "name": "stderr",
     "output_type": "stream",
     "text": [
      "C:\\Anaconda3\\lib\\site-packages\\ipykernel\\__main__.py:7: SettingWithCopyWarning: \n",
      "A value is trying to be set on a copy of a slice from a DataFrame\n",
      "\n",
      "See the caveats in the documentation: http://pandas.pydata.org/pandas-docs/stable/indexing.html#indexing-view-versus-copy\n"
     ]
    },
    {
     "data": {
      "text/plain": [
       "(1412, 135)"
      ]
     },
     "execution_count": 6,
     "metadata": {},
     "output_type": "execute_result"
    }
   ],
   "source": [
    "# list of X vars to include\n",
    "# Split into Numerica & Categorical\n",
    "numerics = ['int16', 'int32', 'int64', 'float16', 'float32', 'float64']\n",
    "X_numeric = sal2.select_dtypes(include=numerics)\n",
    "\n",
    "# Remove Y salary from numerical X Vars \n",
    "X_numeric.drop('salary', axis=1, inplace=True) \n",
    "\n",
    "X_categorical = sal2.select_dtypes(exclude=numerics)\n",
    "X_numeric.shape"
   ]
  },
  {
   "cell_type": "code",
   "execution_count": 7,
   "metadata": {
    "collapsed": false
   },
   "outputs": [],
   "source": [
    "# impute missing values in numerical features\n",
    "# DOC: http://scikit-learn.org/stable/modules/preprocessing.html\n",
    "from sklearn.preprocessing import Imputer\n",
    "imp = Imputer()\n",
    "imp.fit(X_numeric)\n",
    "X_numeric_imputed = imp.transform(X_numeric)"
   ]
  },
  {
   "cell_type": "code",
   "execution_count": 8,
   "metadata": {
    "collapsed": false
   },
   "outputs": [],
   "source": [
    "# Create numeric dummy features from categorical set\n",
    "X_dummy_features = []\n",
    "for i in X_categorical.columns:\n",
    "    temp_dummies = pd.get_dummies(X_categorical[i])\n",
    "    X_dummy_features.append(temp_dummies)\n",
    "X_dummy_features = pd.concat(X_dummy_features, axis=1)\n",
    "X_dummy_features = X_dummy_features.as_matrix()\n"
   ]
  },
  {
   "cell_type": "code",
   "execution_count": 9,
   "metadata": {
    "collapsed": false
   },
   "outputs": [],
   "source": [
    "X = np.concatenate((X_dummy_features, X_numeric_imputed), axis=1)"
   ]
  },
  {
   "cell_type": "code",
   "execution_count": 10,
   "metadata": {
    "collapsed": false
   },
   "outputs": [
    {
     "data": {
      "text/plain": [
       "(1412, 753)"
      ]
     },
     "execution_count": 10,
     "metadata": {},
     "output_type": "execute_result"
    }
   ],
   "source": [
    "# y is salary\n",
    "y = sal2.iloc[:, 98].values\n",
    "X.shape"
   ]
  },
  {
   "cell_type": "code",
   "execution_count": 11,
   "metadata": {
    "collapsed": false
   },
   "outputs": [],
   "source": [
    "# create training and test sets\n",
    "from sklearn.cross_validation import train_test_split\n",
    "\n",
    "X_train, X_test, y_train, y_test = train_test_split(\n",
    "         X, y, test_size=0.3, random_state=1)"
   ]
  },
  {
   "cell_type": "code",
   "execution_count": 12,
   "metadata": {
    "collapsed": false
   },
   "outputs": [],
   "source": [
    "def modelPerformance ():\n",
    "    ### MODEL PERFORMANCE ###\n",
    "    \n",
    "\n",
    "    # The Mean Squared Error\n",
    "    print(\"Mean Squared Error, training data: %d\"\n",
    "          % np.mean((regr.predict(X_train) - y_train) ** 2))\n",
    "    print(\"Mean Squared Error, test data: %d\"\n",
    "          % np.mean((regr.predict(X_test) - y_test) ** 2))\n",
    "    print(30 * '* ')\n",
    "\n",
    "    # Variance score\n",
    "    print('Variance score, training data: %.2f' % regr.score(X_train, y_train))\n",
    "    print('Variance score, test data: %.2f' % regr.score(X_test, y_test))\n",
    "    print(30 * '* ')\n",
    "\n",
    "    ### GRAPHS: DISTRIBUTION OF ERROR ###\n",
    "    print('Distribution of prediction error on training data:')\n",
    "    predError = regr.predict(X_train) - y_train\n",
    "    plt.hist(predError)\n",
    "    plt.xlim(-80000, 80000)\n",
    "    plt.show()\n",
    "\n",
    "    print('Distribution of prediction error on test data:')\n",
    "    predError = regr.predict(X_test) - y_test\n",
    "    plt.hist(predError)\n",
    "    plt.xlim(-80000, 80000)\n",
    "    plt.show()"
   ]
  },
  {
   "cell_type": "code",
   "execution_count": 13,
   "metadata": {
    "collapsed": true
   },
   "outputs": [],
   "source": [
    "from sklearn import datasets, linear_model\n",
    "# DOC: http://scikit-learn.org/stable/modules/generated/sklearn.linear_model.LinearRegression.html"
   ]
  },
  {
   "cell_type": "code",
   "execution_count": 14,
   "metadata": {
    "collapsed": false,
    "scrolled": true
   },
   "outputs": [
    {
     "name": "stdout",
     "output_type": "stream",
     "text": [
      "Intercept: \n",
      " 50221.7290513\n",
      "Mean Squared Error, training data: 56781848\n",
      "Mean Squared Error, test data: 85327104\n",
      "* * * * * * * * * * * * * * * * * * * * * * * * * * * * * * \n",
      "Variance score, training data: 0.82\n",
      "Variance score, test data: 0.79\n",
      "* * * * * * * * * * * * * * * * * * * * * * * * * * * * * * \n",
      "Distribution of prediction error on training data:\n"
     ]
    },
    {
     "data": {
      "image/png": "[encoded data removed]",
      "text/plain": [
       "<matplotlib.figure.Figure at 0x19f7ba04898>"
      ]
     },
     "metadata": {},
     "output_type": "display_data"
    },
    {
     "name": "stdout",
     "output_type": "stream",
     "text": [
      "Distribution of prediction error on test data:\n"
     ]
    },
    {
     "data": {
      "image/png": "[encoded data removed]",
      "text/plain": [
       "<matplotlib.figure.Figure at 0x19f00f7b4a8>"
      ]
     },
     "metadata": {},
     "output_type": "display_data"
    }
   ],
   "source": [
    "# Create linear regression object\n",
    "regr = linear_model.LinearRegression()\n",
    "\n",
    "# Train the model using the training sets\n",
    "X_train_no_intercept = X_train\n",
    "X_train = X_train.reshape(-1, X_train.shape[1])\n",
    "regr.fit(X_train, y_train)\n",
    "\n",
    "# The intercept\n",
    "print('Intercept: \\n', regr.intercept_)\n",
    "\n",
    "modelPerformance()"
   ]
  },
  {
   "cell_type": "code",
   "execution_count": 22,
   "metadata": {
    "collapsed": false,
    "scrolled": false
   },
   "outputs": [
    {
     "name": "stdout",
     "output_type": "stream",
     "text": [
      "Mean Squared Error, training data: 59823301\n",
      "Mean Squared Error, test data: 82965476\n",
      "* * * * * * * * * * * * * * * * * * * * * * * * * * * * * * \n",
      "Variance score, training data: 0.81\n",
      "Variance score, test data: 0.80\n",
      "* * * * * * * * * * * * * * * * * * * * * * * * * * * * * * \n",
      "Distribution of prediction error on training data:\n"
     ]
    },
    {
     "data": {
      "image/png": "[encoded data removed]",
      "text/plain": [
       "<matplotlib.figure.Figure at 0x19f015d3ac8>"
      ]
     },
     "metadata": {},
     "output_type": "display_data"
    },
    {
     "name": "stdout",
     "output_type": "stream",
     "text": [
      "Distribution of prediction error on test data:\n"
     ]
    },
    {
     "data": {
      "image/png": "[encoded data removed]",
      "text/plain": [
       "<matplotlib.figure.Figure at 0x19f01676c88>"
      ]
     },
     "metadata": {},
     "output_type": "display_data"
    }
   ],
   "source": [
    "## RIDGE REGRESSION\n",
    "# DOC: http://scikit-learn.org/stable/modules/generated/sklearn.linear_model.Ridge.html\n",
    "\n",
    "# Create linear regression object\n",
    "regr = linear_model.Ridge(alpha=15)\n",
    "# regr = linear_model.BayesianRidge(normalize=True)  # Lower RSS\n",
    "\n",
    "# Train the model using the training sets\n",
    "X_train_no_intercept = X_train\n",
    "X_train = X_train.reshape(-1, X_train.shape[1])\n",
    "regr.fit(X_train, y_train)\n",
    "\n",
    "modelPerformance()"
   ]
  },
  {
   "cell_type": "code",
   "execution_count": null,
   "metadata": {
    "collapsed": true
   },
   "outputs": [],
   "source": []
  }
 ],
 "metadata": {
  "kernelspec": {
   "display_name": "Python 3",
   "language": "python",
   "name": "python3"
  },
  "language_info": {
   "codemirror_mode": {
    "name": "ipython",
    "version": 3
   },
   "file_extension": ".py",
   "mimetype": "text/x-python",
   "name": "python",
   "nbconvert_exporter": "python",
   "pygments_lexer": "ipython3",
   "version": "3.5.1"
  }
 },
 "nbformat": 4,
 "nbformat_minor": 0
}
