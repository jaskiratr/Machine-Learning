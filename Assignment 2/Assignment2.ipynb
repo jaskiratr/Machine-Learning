{
 "cells": [
  {
   "cell_type": "code",
   "execution_count": 12,
   "metadata": {
    "collapsed": true
   },
   "outputs": [],
   "source": [
    "# State Tax Collections http://www2.census.gov/govs/statetax/14staxcd.txt\n",
    "# Geo Data http://download.geonames.org/export/dump/\n",
    "# Subsidized Households 2008 http://www.HUDuser.org/portal/picture2008/2008_tract.zip\n",
    "# Zip Codes https://www.aggdata.com/node/86\n",
    "# Unemployment Rates http://www.bls.gov/lau/laucntycur14.txt\n",
    "import numpy as np\n",
    "import pandas as pd\n",
    "import matplotlib.pyplot as plt\n",
    "%matplotlib inline"
   ]
  },
  {
   "cell_type": "code",
   "execution_count": 13,
   "metadata": {
    "collapsed": false
   },
   "outputs": [
    {
     "data": {
      "text/plain": [
       "(1444, 152)"
      ]
     },
     "execution_count": 13,
     "metadata": {},
     "output_type": "execute_result"
    }
   ],
   "source": [
    "sal = pd.read_csv('../Data/salaries_parent.csv')\n",
    "sal.shape"
   ]
  },
  {
   "cell_type": "code",
   "execution_count": 14,
   "metadata": {
    "collapsed": false,
    "scrolled": true
   },
   "outputs": [
    {
     "data": {
      "text/html": [
       "<div>\n",
       "<table border=\"1\" class=\"dataframe\">\n",
       "  <thead>\n",
       "    <tr style=\"text-align: right;\">\n",
       "      <th></th>\n",
       "      <th>Zip</th>\n",
       "      <th>B19013_001</th>\n",
       "      <th>no_male_hs_p</th>\n",
       "      <th>no_female_hs_p</th>\n",
       "      <th>at_least_hs_male_p</th>\n",
       "      <th>at_least_hs_female_p</th>\n",
       "      <th>at_least_bach_male_p</th>\n",
       "      <th>at_least_bach_female_p</th>\n",
       "      <th>male_unemployment</th>\n",
       "      <th>female_unemployment</th>\n",
       "      <th>...</th>\n",
       "      <th>T51</th>\n",
       "      <th>T53</th>\n",
       "      <th>T99</th>\n",
       "      <th>Place Name</th>\n",
       "      <th>State_y</th>\n",
       "      <th>State Abbreviation</th>\n",
       "      <th>County</th>\n",
       "      <th>Latitude</th>\n",
       "      <th>Longitude</th>\n",
       "      <th>Unnamed: 60</th>\n",
       "    </tr>\n",
       "  </thead>\n",
       "  <tbody>\n",
       "    <tr>\n",
       "      <th>0</th>\n",
       "      <td>1003</td>\n",
       "      <td>NaN</td>\n",
       "      <td>0.0</td>\n",
       "      <td>0.0</td>\n",
       "      <td>100.0</td>\n",
       "      <td>100.0</td>\n",
       "      <td>35.46798</td>\n",
       "      <td>76.470588</td>\n",
       "      <td>6.92323</td>\n",
       "      <td>7.939714</td>\n",
       "      <td>...</td>\n",
       "      <td>246850</td>\n",
       "      <td>0</td>\n",
       "      <td>197503</td>\n",
       "      <td>Amherst</td>\n",
       "      <td>Massachusetts</td>\n",
       "      <td>MA</td>\n",
       "      <td>Hampshire</td>\n",
       "      <td>42.3919</td>\n",
       "      <td>-72.5248</td>\n",
       "      <td>NaN</td>\n",
       "    </tr>\n",
       "    <tr>\n",
       "      <th>1</th>\n",
       "      <td>1003</td>\n",
       "      <td>NaN</td>\n",
       "      <td>0.0</td>\n",
       "      <td>0.0</td>\n",
       "      <td>100.0</td>\n",
       "      <td>100.0</td>\n",
       "      <td>35.46798</td>\n",
       "      <td>76.470588</td>\n",
       "      <td>6.92323</td>\n",
       "      <td>7.939714</td>\n",
       "      <td>...</td>\n",
       "      <td>246850</td>\n",
       "      <td>0</td>\n",
       "      <td>197503</td>\n",
       "      <td>Amherst</td>\n",
       "      <td>Massachusetts</td>\n",
       "      <td>MA</td>\n",
       "      <td>Hampshire</td>\n",
       "      <td>42.3919</td>\n",
       "      <td>-72.5248</td>\n",
       "      <td>NaN</td>\n",
       "    </tr>\n",
       "    <tr>\n",
       "      <th>2</th>\n",
       "      <td>1003</td>\n",
       "      <td>NaN</td>\n",
       "      <td>0.0</td>\n",
       "      <td>0.0</td>\n",
       "      <td>100.0</td>\n",
       "      <td>100.0</td>\n",
       "      <td>35.46798</td>\n",
       "      <td>76.470588</td>\n",
       "      <td>6.92323</td>\n",
       "      <td>7.939714</td>\n",
       "      <td>...</td>\n",
       "      <td>246850</td>\n",
       "      <td>0</td>\n",
       "      <td>197503</td>\n",
       "      <td>Amherst</td>\n",
       "      <td>Massachusetts</td>\n",
       "      <td>MA</td>\n",
       "      <td>Hampshire</td>\n",
       "      <td>42.3919</td>\n",
       "      <td>-72.5248</td>\n",
       "      <td>NaN</td>\n",
       "    </tr>\n",
       "    <tr>\n",
       "      <th>3</th>\n",
       "      <td>1003</td>\n",
       "      <td>NaN</td>\n",
       "      <td>0.0</td>\n",
       "      <td>0.0</td>\n",
       "      <td>100.0</td>\n",
       "      <td>100.0</td>\n",
       "      <td>35.46798</td>\n",
       "      <td>76.470588</td>\n",
       "      <td>6.92323</td>\n",
       "      <td>7.939714</td>\n",
       "      <td>...</td>\n",
       "      <td>246850</td>\n",
       "      <td>0</td>\n",
       "      <td>197503</td>\n",
       "      <td>Amherst</td>\n",
       "      <td>Massachusetts</td>\n",
       "      <td>MA</td>\n",
       "      <td>Hampshire</td>\n",
       "      <td>42.3919</td>\n",
       "      <td>-72.5248</td>\n",
       "      <td>NaN</td>\n",
       "    </tr>\n",
       "    <tr>\n",
       "      <th>4</th>\n",
       "      <td>1003</td>\n",
       "      <td>NaN</td>\n",
       "      <td>0.0</td>\n",
       "      <td>0.0</td>\n",
       "      <td>100.0</td>\n",
       "      <td>100.0</td>\n",
       "      <td>35.46798</td>\n",
       "      <td>76.470588</td>\n",
       "      <td>6.92323</td>\n",
       "      <td>7.939714</td>\n",
       "      <td>...</td>\n",
       "      <td>246850</td>\n",
       "      <td>0</td>\n",
       "      <td>197503</td>\n",
       "      <td>Amherst</td>\n",
       "      <td>Massachusetts</td>\n",
       "      <td>MA</td>\n",
       "      <td>Hampshire</td>\n",
       "      <td>42.3919</td>\n",
       "      <td>-72.5248</td>\n",
       "      <td>NaN</td>\n",
       "    </tr>\n",
       "  </tbody>\n",
       "</table>\n",
       "<p>5 rows × 152 columns</p>\n",
       "</div>"
      ],
      "text/plain": [
       "    Zip  B19013_001  no_male_hs_p  no_female_hs_p  at_least_hs_male_p  \\\n",
       "0  1003         NaN           0.0             0.0               100.0   \n",
       "1  1003         NaN           0.0             0.0               100.0   \n",
       "2  1003         NaN           0.0             0.0               100.0   \n",
       "3  1003         NaN           0.0             0.0               100.0   \n",
       "4  1003         NaN           0.0             0.0               100.0   \n",
       "\n",
       "   at_least_hs_female_p  at_least_bach_male_p  at_least_bach_female_p  \\\n",
       "0                 100.0              35.46798               76.470588   \n",
       "1                 100.0              35.46798               76.470588   \n",
       "2                 100.0              35.46798               76.470588   \n",
       "3                 100.0              35.46798               76.470588   \n",
       "4                 100.0              35.46798               76.470588   \n",
       "\n",
       "   male_unemployment  female_unemployment     ...          T51  T53     T99  \\\n",
       "0            6.92323             7.939714     ...       246850    0  197503   \n",
       "1            6.92323             7.939714     ...       246850    0  197503   \n",
       "2            6.92323             7.939714     ...       246850    0  197503   \n",
       "3            6.92323             7.939714     ...       246850    0  197503   \n",
       "4            6.92323             7.939714     ...       246850    0  197503   \n",
       "\n",
       "   Place Name        State_y  State Abbreviation     County  Latitude  \\\n",
       "0     Amherst  Massachusetts                  MA  Hampshire   42.3919   \n",
       "1     Amherst  Massachusetts                  MA  Hampshire   42.3919   \n",
       "2     Amherst  Massachusetts                  MA  Hampshire   42.3919   \n",
       "3     Amherst  Massachusetts                  MA  Hampshire   42.3919   \n",
       "4     Amherst  Massachusetts                  MA  Hampshire   42.3919   \n",
       "\n",
       "   Longitude  Unnamed: 60  \n",
       "0   -72.5248          NaN  \n",
       "1   -72.5248          NaN  \n",
       "2   -72.5248          NaN  \n",
       "3   -72.5248          NaN  \n",
       "4   -72.5248          NaN  \n",
       "\n",
       "[5 rows x 152 columns]"
      ]
     },
     "execution_count": 14,
     "metadata": {},
     "output_type": "execute_result"
    }
   ],
   "source": [
    "sal.head(5)"
   ]
  },
  {
   "cell_type": "code",
   "execution_count": 15,
   "metadata": {
    "collapsed": false
   },
   "outputs": [
    {
     "data": {
      "text/plain": [
       "Zip                                                               5.465744e+04\n",
       "B19013_001                                                        4.768131e+04\n",
       "no_male_hs_p                                                      9.085053e+00\n",
       "no_female_hs_p                                                    8.216080e+00\n",
       "at_least_hs_male_p                                                9.091495e+01\n",
       "at_least_hs_female_p                                              9.178392e+01\n",
       "at_least_bach_male_p                                              4.441843e+01\n",
       "at_least_bach_female_p                                            4.946938e+01\n",
       "male_unemployment                                                 6.126710e+00\n",
       "female_unemployment                                               5.986530e+00\n",
       "snap                                                              1.092064e+01\n",
       "renter                                                            5.686790e+01\n",
       "median_rent                                                       8.978499e+02\n",
       "foreign_born                                                      1.058272e+01\n",
       "Value for Owner-Occupied Housing Units:  Total:                   3.091736e+03\n",
       "Value for Owner-Occupied Housing Units:  Less than $10,000        3.996399e+01\n",
       "Value for Owner-Occupied Housing Units:  $10,000 to $14,999       2.112258e+01\n",
       "Value for Owner-Occupied Housing Units:  $15,000 to $19,999       2.540512e+01\n",
       "Value for Owner-Occupied Housing Units:  $20,000 to $24,999       1.516690e+01\n",
       "Value for Owner-Occupied Housing Units:  $25,000 to $29,999       1.322645e+01\n",
       "Value for Owner-Occupied Housing Units:  $30,000 to $34,999       1.762535e+01\n",
       "Value for Owner-Occupied Housing Units:  $35,000 to $39,999       1.441482e+01\n",
       "Value for Owner-Occupied Housing Units:  $40,000 to $49,999       3.240374e+01\n",
       "Value for Owner-Occupied Housing Units:  $50,000 to $59,999       4.661150e+01\n",
       "Value for Owner-Occupied Housing Units:  $60,000 to $69,999       5.576870e+01\n",
       "Value for Owner-Occupied Housing Units:  $70,000 to $79,999       6.311981e+01\n",
       "Value for Owner-Occupied Housing Units:  $80,000 to $89,999       8.134626e+01\n",
       "Value for Owner-Occupied Housing Units:  $90,000 to $99,999       8.409765e+01\n",
       "Value for Owner-Occupied Housing Units:  $100,000 to $124,999     2.377348e+02\n",
       "Value for Owner-Occupied Housing Units:  $125,000 to $149,999     2.432500e+02\n",
       "                                                                      ...     \n",
       "instBudget                                                        4.129466e+06\n",
       "instSize                                                          2.262125e+04\n",
       "T01                                                               4.769890e+05\n",
       "T09                                                               1.165635e+07\n",
       "T10                                                               2.538724e+05\n",
       "T11                                                               1.421991e+05\n",
       "T12                                                               6.994682e+05\n",
       "T13                                                               1.651855e+06\n",
       "T14                                                               4.559275e+03\n",
       "T15                                                               5.057282e+05\n",
       "T16                                                               5.740336e+05\n",
       "T19                                                               1.410835e+06\n",
       "T20                                                               2.958644e+04\n",
       "T21                                                               7.875606e+03\n",
       "T22                                                               1.727795e+05\n",
       "T23                                                               4.590444e+04\n",
       "T24                                                               9.773103e+05\n",
       "T25                                                               9.606874e+04\n",
       "T27                                                               4.657637e+04\n",
       "T28                                                               6.352277e+05\n",
       "T29                                                               5.121134e+04\n",
       "T40                                                               1.131068e+07\n",
       "T41                                                               1.568252e+06\n",
       "T50                                                               1.093826e+05\n",
       "T51                                                               2.228921e+05\n",
       "T53                                                               6.653698e+05\n",
       "T99                                                               6.684843e+04\n",
       "Latitude                                                          3.849942e+01\n",
       "Longitude                                                        -9.344837e+01\n",
       "Unnamed: 60                                                                NaN\n",
       "dtype: float64"
      ]
     },
     "execution_count": 15,
     "metadata": {},
     "output_type": "execute_result"
    }
   ],
   "source": [
    "sal.mean()"
   ]
  },
  {
   "cell_type": "code",
   "execution_count": 16,
   "metadata": {
    "collapsed": false
   },
   "outputs": [
    {
     "data": {
      "text/plain": [
       "(1412, 153)"
      ]
     },
     "execution_count": 16,
     "metadata": {},
     "output_type": "execute_result"
    }
   ],
   "source": [
    "# eliminate rows with missing Y values (NaN)\n",
    "sal['missingSalary'] = pd.isnull(sal['salary'])\n",
    "sal2 = sal[(sal.missingSalary == False)]\n",
    "sal2.shape"
   ]
  },
  {
   "cell_type": "code",
   "execution_count": 17,
   "metadata": {
    "collapsed": false
   },
   "outputs": [
    {
     "data": {
      "text/plain": [
       "Zip                                                               5.445178e+04\n",
       "B19013_001                                                        4.753726e+04\n",
       "no_male_hs_p                                                      8.709738e+00\n",
       "no_female_hs_p                                                    8.205198e+00\n",
       "at_least_hs_male_p                                                9.129026e+01\n",
       "at_least_hs_female_p                                              9.179480e+01\n",
       "at_least_bach_male_p                                              4.492534e+01\n",
       "at_least_bach_female_p                                            4.949808e+01\n",
       "male_unemployment                                                 6.185822e+00\n",
       "female_unemployment                                               6.009028e+00\n",
       "snap                                                              1.096319e+01\n",
       "renter                                                            5.689759e+01\n",
       "median_rent                                                       8.972642e+02\n",
       "foreign_born                                                      1.026200e+01\n",
       "Value for Owner-Occupied Housing Units:  Total:                   3.113390e+03\n",
       "Value for Owner-Occupied Housing Units:  Less than $10,000        4.046246e+01\n",
       "Value for Owner-Occupied Housing Units:  $10,000 to $14,999       2.136615e+01\n",
       "Value for Owner-Occupied Housing Units:  $15,000 to $19,999       2.550212e+01\n",
       "Value for Owner-Occupied Housing Units:  $20,000 to $24,999       1.521459e+01\n",
       "Value for Owner-Occupied Housing Units:  $25,000 to $29,999       1.341856e+01\n",
       "Value for Owner-Occupied Housing Units:  $30,000 to $34,999       1.774008e+01\n",
       "Value for Owner-Occupied Housing Units:  $35,000 to $39,999       1.430878e+01\n",
       "Value for Owner-Occupied Housing Units:  $40,000 to $49,999       3.264943e+01\n",
       "Value for Owner-Occupied Housing Units:  $50,000 to $59,999       4.690156e+01\n",
       "Value for Owner-Occupied Housing Units:  $60,000 to $69,999       5.592068e+01\n",
       "Value for Owner-Occupied Housing Units:  $70,000 to $79,999       6.338527e+01\n",
       "Value for Owner-Occupied Housing Units:  $80,000 to $89,999       8.204674e+01\n",
       "Value for Owner-Occupied Housing Units:  $90,000 to $99,999       8.473867e+01\n",
       "Value for Owner-Occupied Housing Units:  $100,000 to $124,999     2.404703e+02\n",
       "Value for Owner-Occupied Housing Units:  $125,000 to $149,999     2.457805e+02\n",
       "                                                                      ...     \n",
       "instSize                                                          2.256723e+04\n",
       "T01                                                               4.665582e+05\n",
       "T09                                                               1.167621e+07\n",
       "T10                                                               2.528808e+05\n",
       "T11                                                               1.418665e+05\n",
       "T12                                                               7.015823e+05\n",
       "T13                                                               1.657789e+06\n",
       "T14                                                               4.588911e+03\n",
       "T15                                                               5.062845e+05\n",
       "T16                                                               5.754139e+05\n",
       "T19                                                               1.418188e+06\n",
       "T20                                                               2.864230e+04\n",
       "T21                                                               7.899011e+03\n",
       "T22                                                               1.741541e+05\n",
       "T23                                                               4.593960e+04\n",
       "T24                                                               9.830547e+05\n",
       "T25                                                               9.632422e+04\n",
       "T27                                                               4.692029e+04\n",
       "T28                                                               6.393979e+05\n",
       "T29                                                               4.994647e+04\n",
       "T40                                                               1.145061e+07\n",
       "T41                                                               1.588204e+06\n",
       "T50                                                               1.088505e+05\n",
       "T51                                                               2.208721e+05\n",
       "T53                                                               6.670288e+05\n",
       "T99                                                               6.779894e+04\n",
       "Latitude                                                          3.844009e+01\n",
       "Longitude                                                        -9.332890e+01\n",
       "Unnamed: 60                                                                NaN\n",
       "missingSalary                                                     0.000000e+00\n",
       "dtype: float64"
      ]
     },
     "execution_count": 17,
     "metadata": {},
     "output_type": "execute_result"
    }
   ],
   "source": [
    "sal2.mean()"
   ]
  },
  {
   "cell_type": "code",
   "execution_count": 18,
   "metadata": {
    "collapsed": false,
    "scrolled": true
   },
   "outputs": [
    {
     "name": "stderr",
     "output_type": "stream",
     "text": [
      "C:\\Anaconda3\\lib\\site-packages\\pandas\\core\\generic.py:3178: SettingWithCopyWarning: \n",
      "A value is trying to be set on a copy of a slice from a DataFrame\n",
      "\n",
      "See the caveats in the documentation: http://pandas.pydata.org/pandas-docs/stable/indexing.html#indexing-view-versus-copy\n",
      "  self._update_inplace(new_data)\n"
     ]
    },
    {
     "data": {
      "text/plain": [
       "True"
      ]
     },
     "execution_count": 18,
     "metadata": {},
     "output_type": "execute_result"
    }
   ],
   "source": [
    "sal2.fillna(sal2.mean(), inplace=True)\n",
    "sal2.isnull().values.any()"
   ]
  },
  {
   "cell_type": "code",
   "execution_count": 19,
   "metadata": {
    "collapsed": false
   },
   "outputs": [
    {
     "name": "stderr",
     "output_type": "stream",
     "text": [
      "C:\\Anaconda3\\lib\\site-packages\\ipykernel\\__main__.py:9: SettingWithCopyWarning: \n",
      "A value is trying to be set on a copy of a slice from a DataFrame\n",
      "\n",
      "See the caveats in the documentation: http://pandas.pydata.org/pandas-docs/stable/indexing.html#indexing-view-versus-copy\n"
     ]
    },
    {
     "data": {
      "text/plain": [
       "(1412, 135)"
      ]
     },
     "execution_count": 19,
     "metadata": {},
     "output_type": "execute_result"
    }
   ],
   "source": [
    "# list of X vars to include\n",
    "# X_numeric_features = ['sup1', 'sup2', 'sup3', 'sup4', 'sup5', 'disabled', 'yearsInPosition', \n",
    "#          'yearsInProfession', 'age', 'cred1', 'cred2', 'inst1', 'inst2', 'inst3', 'inst4', 'inst5', 'instBudget', 'instSize']\n",
    "# X_numeric = sal2[X_numeric_features]\n",
    "# X_categorical_features = ['Function', 'gender', 'race', 'highestDegree', 'Category', 'instType']\n",
    "# X_categorical = sal2[X_categorical_features]\n",
    "numerics = ['int16', 'int32', 'int64', 'float16', 'float32', 'float64']\n",
    "X_numeric = sal2.select_dtypes(include=numerics)\n",
    "X_numeric.drop('salary', axis=1, inplace=True)\n",
    "X_categorical = sal2.select_dtypes(exclude=numerics)\n",
    "X_numeric.shape"
   ]
  },
  {
   "cell_type": "code",
   "execution_count": 20,
   "metadata": {
    "collapsed": false
   },
   "outputs": [],
   "source": [
    "# impute missing values in numerical features\n",
    "# DOC: http://scikit-learn.org/stable/modules/preprocessing.html\n",
    "\n",
    "from sklearn.preprocessing import Imputer\n",
    "imp = Imputer()\n",
    "imp.fit(X_numeric)\n",
    "X_numeric_imputed = imp.transform(X_numeric)"
   ]
  },
  {
   "cell_type": "code",
   "execution_count": 21,
   "metadata": {
    "collapsed": false
   },
   "outputs": [],
   "source": [
    "# create dummy variables for each of the categorical features\n",
    "# DOC: http://pandas.pydata.org/pandas-docs/stable/generated/pandas.get_dummies.html\n",
    "\n",
    "# Function_dummies = pd.get_dummies(X_categorical['Function'])\n",
    "# gender_dummies = pd.get_dummies(X_categorical['gender'])\n",
    "# race_dummies = pd.get_dummies(X_categorical['race'])\n",
    "# highestDegree_dummies = pd.get_dummies(X_categorical['highestDegree'])\n",
    "# Category_dummies = pd.get_dummies(X_categorical['Category'])\n",
    "# instType_dummies = pd.get_dummies(X_categorical['instType'])\n",
    "\n",
    "# X_dummy_features = pd.concat([Function_dummies, gender_dummies, race_dummies, highestDegree_dummies, Category_dummies, instType_dummies], axis=1)\n",
    "\n",
    "# # convert to ndarray\n",
    "# X_dummy_features = X_dummy_features.as_matrix()"
   ]
  },
  {
   "cell_type": "code",
   "execution_count": 22,
   "metadata": {
    "collapsed": false
   },
   "outputs": [],
   "source": [
    "X_dummy_features = []\n",
    "for i in X_categorical.columns:\n",
    "    temp_dummies = pd.get_dummies(X_categorical[i])\n",
    "    X_dummy_features.append(temp_dummies)\n",
    "X_dummy_features = pd.concat(X_dummy_features, axis=1)\n",
    "# X_dummy_features.shape\n",
    "X_dummy_features = X_dummy_features.as_matrix()\n"
   ]
  },
  {
   "cell_type": "code",
   "execution_count": 23,
   "metadata": {
    "collapsed": false
   },
   "outputs": [],
   "source": [
    "X = np.concatenate((X_dummy_features, X_numeric_imputed), axis=1)\n"
   ]
  },
  {
   "cell_type": "code",
   "execution_count": 24,
   "metadata": {
    "collapsed": false
   },
   "outputs": [
    {
     "name": "stdout",
     "output_type": "stream",
     "text": [
      "[ 77308.  70863.  56557. ...,  49088.  32000.  32000.]\n"
     ]
    }
   ],
   "source": [
    "# y is salary\n",
    "y = sal2.iloc[:, 98].values\n",
    "print(y)"
   ]
  },
  {
   "cell_type": "code",
   "execution_count": 25,
   "metadata": {
    "collapsed": true
   },
   "outputs": [],
   "source": [
    "# create training and test sets\n",
    "from sklearn.cross_validation import train_test_split\n",
    "\n",
    "X_train, X_test, y_train, y_test = train_test_split(\n",
    "         X, y, test_size=0.3, random_state=0)"
   ]
  },
  {
   "cell_type": "code",
   "execution_count": 26,
   "metadata": {
    "collapsed": true
   },
   "outputs": [],
   "source": [
    "# keep track of variance on test data, to graph\n",
    "var_to_graph = {}\n",
    "# bring residual sum of squares from regression1.ipynb\n",
    "var_to_graph['simpReg'] = 265376883.08"
   ]
  },
  {
   "cell_type": "code",
   "execution_count": 27,
   "metadata": {
    "collapsed": true
   },
   "outputs": [],
   "source": [
    "from sklearn import datasets, linear_model\n",
    "# DOC: http://scikit-learn.org/stable/modules/generated/sklearn.linear_model.LinearRegression.html"
   ]
  },
  {
   "cell_type": "code",
   "execution_count": 28,
   "metadata": {
    "collapsed": false,
    "scrolled": false
   },
   "outputs": [
    {
     "name": "stdout",
     "output_type": "stream",
     "text": [
      "Intercept: \n",
      " 50987.7822484\n",
      "Coefficients: \n",
      " [ -1.30306581e+04  -2.52732680e+04  -2.61683276e+04  -2.46496953e+04\n",
      "  -2.18756987e+04  -1.65196043e+04  -2.78921893e+04  -2.93763306e+04\n",
      "  -2.65229185e+04  -2.02299878e+04  -2.38995778e+04  -2.43736834e+04\n",
      "  -2.77885631e+04  -2.90363448e+04  -2.37306971e+04  -2.23553130e+04\n",
      "  -2.74231322e+04  -3.02844107e+04  -2.50440274e+04  -2.66543261e+04\n",
      "   4.44869093e-06  -1.97914732e+04  -2.55969939e+04  -2.11969432e+04\n",
      "  -2.68093381e+04  -2.46885358e+04  -2.20278050e+04  -2.81397437e+04\n",
      "  -3.62931297e+03  -4.34563420e+03   5.45491829e+02  -5.45491830e+02\n",
      "   7.88770621e+02   3.58530771e+03  -1.65190126e+03   3.22977783e+03\n",
      "  -2.59929655e+03  -1.02799579e+03   1.85659078e+03  -1.61108041e+03\n",
      "   1.61108041e+03  -3.99082443e+02   3.99082444e+02   6.40798339e+02\n",
      "   1.62146254e+03   1.07575783e+04   5.87720009e+03  -4.20892290e+03\n",
      "  -1.63810330e+03   1.56606194e+03   6.02351837e+02   1.19933417e+01\n",
      "  -5.42742656e+02   2.28148183e+02  -1.40230284e+03  -1.08483663e+03\n",
      "   2.02100453e+02  -3.56194269e+02   4.96462662e+02   7.24172609e+02\n",
      "   7.69149235e+02   3.51329881e+02   5.66555997e+02  -1.54704884e+03\n",
      "   2.93753113e+02   7.93023906e+02  -1.71187152e+02   7.39491085e+02\n",
      "  -6.38744507e+02  -2.05026496e+01  -1.89599030e+02   7.85937127e+02\n",
      "  -7.40658501e+02  -1.14074649e+03  -4.54453245e+02  -5.50402714e+02\n",
      "  -1.37761874e+03  -1.61956597e+03   2.30279298e+03  -1.39864241e+02\n",
      "  -6.71620575e+02  -4.31646185e-09   1.07759398e+03   4.20589935e+02\n",
      "  -1.74779778e+03  -5.91855457e+02   9.63337352e+02   1.07246537e+03\n",
      "   3.46727609e+02  -9.49531632e+02  -4.18319765e+01  -7.90045723e+02\n",
      "  -9.13636094e+02  -4.98975331e+02   8.20729786e+02   3.83203293e+02\n",
      "  -5.73603310e+02   1.70109896e+03  -5.90038555e+02   6.15913179e+02\n",
      "   1.19708148e+03   6.38301522e+02  -7.08124174e+02  -1.88447302e-09\n",
      "   1.19961524e+02  -7.67193306e+02  -1.88747157e+02  -1.67024814e+01\n",
      "  -1.90319996e+02  -5.97913855e+02   8.66660121e+02   1.46537237e+02\n",
      "  -2.00394072e+01  -3.47977726e+03  -5.41852186e+02   4.09085339e+01\n",
      "  -4.84327612e+02  -9.86034712e+02  -6.03391314e+02  -1.23000782e+03\n",
      "   2.19895181e+02   1.45528853e+03  -5.82076609e-11   3.13935630e+01\n",
      "  -1.42538501e+02  -2.51020538e-10  -1.26409367e+02  -4.13473573e+02\n",
      "  -1.05793143e+03   3.86305833e+02   8.78019780e+02  -1.07705179e+03\n",
      "   7.88428833e+02   2.93409973e+02   1.02163116e+03  -9.95636487e+02\n",
      "  -1.74480030e+02  -1.09636302e+02  -9.82027411e+02   4.91007076e+02\n",
      "   1.94641991e+03   1.45408317e+03  -1.42264672e+03  -3.56521923e-10\n",
      "  -7.07847764e+02   4.42923920e-10   1.44392454e+03  -7.20881994e+02\n",
      "   4.03137205e+01   1.94308714e+02   9.67349962e+02  -1.11724818e+02\n",
      "   1.52055604e+03  -1.55317400e+03   8.56729822e+02   1.07538589e+03\n",
      "   2.31434549e+02   8.85048086e+02  -2.74214444e+02   1.38485274e+03\n",
      "   5.42896654e+02  -3.41433818e+02   4.96152731e+02   5.52101784e+02\n",
      "   3.12632200e+02   1.86193318e+03  -3.88186154e+01   3.61135880e+02\n",
      "  -9.62058597e+02   6.27817757e+02  -1.51891679e+01   7.81284933e+02\n",
      "   4.25996387e+02   2.77442388e+02  -1.27581905e+03   1.30002534e+03\n",
      "   1.25635887e+03   9.25091981e+02   5.99268954e+02   1.89012365e+03\n",
      "  -6.02986087e+02  -1.44347392e+03  -8.13847763e+01  -3.62671239e+03\n",
      "   9.45498329e+02   2.54974334e+03   5.65490726e+02  -9.31062203e+01\n",
      "  -2.58466040e+02  -6.97957009e+02   8.37806296e+02  -5.10468933e+02\n",
      "  -2.78886286e+03   2.73577214e+02  -1.21828389e+03  -2.10024490e+03\n",
      "   2.72719156e+02   6.68582382e+01   1.13521742e+03  -7.71705517e+02\n",
      "   2.27191188e+02   8.20729786e+02   2.93753113e+02   8.15329933e+01\n",
      "  -5.90038555e+02  -1.95374953e+01   1.25854255e+02   3.36037766e+01\n",
      "   7.80855608e+02  -1.67024814e+01   6.81388560e+02   5.22400639e+02\n",
      "  -6.85969668e-02  -1.83680507e+02  -1.75717284e+02   4.08205427e+02\n",
      "  -1.66287853e+02   4.46411958e+02   5.49949368e+01  -3.78721132e+02\n",
      "   2.29110902e+02   2.61342670e+02  -3.12984546e+02  -5.31831730e+02\n",
      "  -7.08124174e+02   4.03137205e+01  -4.18319764e+01  -1.90319996e+02\n",
      "  -8.44660841e+01   2.88294336e+02  -6.08611633e+02  -2.67006357e+01\n",
      "   4.09085339e+01  -6.44052274e+02  -7.13011316e+02   1.56260231e+02\n",
      "   6.42832149e+01   1.73367616e+02  -1.55889489e+01  -9.53350560e+01\n",
      "   0.00000000e+00   1.78950928e+03  -1.78950928e+03  -4.62146802e+03\n",
      "   5.06877280e+03  -1.63810330e+03   1.56606194e+03   6.02351837e+02\n",
      "   1.19933417e+01  -5.42742656e+02   2.28148183e+02  -1.40230284e+03\n",
      "  -1.08483663e+03   2.02100453e+02  -3.56194269e+02   4.96462662e+02\n",
      "   7.24172609e+02   7.69149235e+02   3.51329881e+02   1.13204672e+03\n",
      "  -1.54704884e+03   2.93753113e+02   7.93023906e+02  -1.71187152e+02\n",
      "   7.39491085e+02  -6.38744507e+02  -2.05026496e+01  -1.89599030e+02\n",
      "   7.85937126e+02  -7.40658501e+02  -1.14074649e+03  -4.54453245e+02\n",
      "  -5.50402714e+02  -1.37761874e+03  -1.61956597e+03  -9.82027411e+02\n",
      "  -1.39864241e+02  -6.71620575e+02   0.00000000e+00   1.07759398e+03\n",
      "   4.20589935e+02  -1.74779778e+03  -5.91855457e+02   9.63337352e+02\n",
      "   1.07246537e+03   3.46727609e+02  -9.49531632e+02  -4.18319764e+01\n",
      "  -7.90045723e+02  -9.13636094e+02  -4.98975331e+02   8.20729786e+02\n",
      "   3.83203293e+02  -5.73603310e+02   1.70109896e+03  -5.90038555e+02\n",
      "   6.15913179e+02   1.19708148e+03   6.38301522e+02  -7.08124174e+02\n",
      "   0.00000000e+00   1.19961524e+02  -7.67193306e+02  -1.67024814e+01\n",
      "  -1.90319996e+02  -5.97913855e+02  -9.86034712e+02   8.66660121e+02\n",
      "   1.46537237e+02  -2.00394072e+01  -3.47977726e+03  -5.41852186e+02\n",
      "   4.09085339e+01  -4.84327612e+02  -6.03391314e+02  -1.23000782e+03\n",
      "   2.19895181e+02   1.45528853e+03   3.13935630e+01  -1.42538501e+02\n",
      "   0.00000000e+00  -1.26409367e+02  -4.13473573e+02  -1.05793143e+03\n",
      "   3.86305833e+02   8.78019780e+02  -1.07705179e+03   7.88428833e+02\n",
      "   2.30279298e+03   2.93409973e+02   1.02163116e+03  -9.95636487e+02\n",
      "  -1.74480030e+02  -1.09636302e+02   4.91007076e+02   1.94641991e+03\n",
      "   1.45408317e+03  -1.42264672e+03   0.00000000e+00  -1.88747157e+02\n",
      "  -7.07847764e+02   0.00000000e+00   1.44392454e+03  -7.20881994e+02\n",
      "   4.03137205e+01   1.94308714e+02   9.67349962e+02  -1.11724818e+02\n",
      "   1.52055604e+03  -1.55317400e+03   8.56729822e+02   1.07538589e+03\n",
      "   2.31434549e+02   8.85048086e+02  -2.74214444e+02   5.42896654e+02\n",
      "  -3.41433818e+02   4.96152731e+02   1.89012365e+03   5.52101784e+02\n",
      "   3.12632200e+02   1.86193318e+03  -3.88186154e+01   3.61135880e+02\n",
      "  -9.62058597e+02   6.27817757e+02  -1.51891679e+01   7.81284933e+02\n",
      "   4.25996387e+02   2.77442388e+02  -1.27581905e+03   1.30002534e+03\n",
      "   1.25635887e+03   9.25091981e+02   5.99268954e+02  -6.02986087e+02\n",
      "  -1.44347392e+03  -8.13847763e+01  -3.62671239e+03   9.45498329e+02\n",
      "   2.54974334e+03   0.00000000e+00  -9.31062203e+01  -2.58466040e+02\n",
      "  -6.97957009e+02   1.38485274e+03   8.37806296e+02  -5.10468933e+02\n",
      "  -2.78886286e+03   2.73577214e+02  -1.21828389e+03  -2.10024490e+03\n",
      "   2.72719156e+02   6.68582382e+01   1.13521742e+03  -7.71705517e+02\n",
      "   2.27191188e+02   2.93753113e+02   8.20729786e+02  -5.90038555e+02\n",
      "   8.15329933e+01  -1.95374953e+01   1.25854255e+02   3.36037766e+01\n",
      "   7.80855608e+02  -1.67024814e+01   5.22400639e+02  -6.85969668e-02\n",
      "  -1.83680507e+02   6.81388560e+02  -1.75717284e+02   4.08205427e+02\n",
      "  -1.66287853e+02   5.49949368e+01   4.46411958e+02  -3.78721132e+02\n",
      "   2.29110902e+02  -3.12984546e+02   2.61342670e+02   4.03137205e+01\n",
      "  -4.18319764e+01  -1.90319996e+02  -8.44660841e+01  -5.31831730e+02\n",
      "  -7.08124174e+02   2.88294336e+02  -6.08611633e+02  -2.67006357e+01\n",
      "   4.09085339e+01  -6.44052274e+02  -7.13011316e+02   1.56260231e+02\n",
      "   6.42832149e+01   1.73367616e+02  -1.55889489e+01  -9.53350560e+01\n",
      "   8.20729786e+02   2.93753113e+02   8.15329933e+01  -5.90038555e+02\n",
      "  -1.95374953e+01   1.25854255e+02   3.36037766e+01   7.80855608e+02\n",
      "  -1.67024814e+01   6.81388560e+02   5.22400639e+02  -6.85969668e-02\n",
      "  -1.83680507e+02  -1.75717284e+02   4.08205427e+02  -1.66287853e+02\n",
      "   4.46411958e+02   5.49949368e+01  -3.78721132e+02   2.29110902e+02\n",
      "   2.61342670e+02  -3.12984546e+02  -5.31831730e+02  -7.08124174e+02\n",
      "   4.03137205e+01  -4.18319764e+01  -1.90319996e+02  -8.44660841e+01\n",
      "   2.88294336e+02  -6.08611633e+02  -2.67006357e+01   4.09085339e+01\n",
      "  -6.44052274e+02  -7.13011316e+02   1.56260231e+02   6.42832149e+01\n",
      "   1.73367616e+02  -1.55889489e+01  -9.53350560e+01  -6.03391314e+02\n",
      "   6.38301522e+02  -7.67193306e+02  -9.82027411e+02   2.02100453e+02\n",
      "   4.96462662e+02   2.73577214e+02   5.65490726e+02   5.66555997e+02\n",
      "  -6.97957009e+02   3.61135880e+02  -1.05793143e+03   8.78019780e+02\n",
      "  -5.50402714e+02  -1.63810330e+03  -6.02986087e+02  -1.08483663e+03\n",
      "   9.67349962e+02   1.25635887e+03  -1.88747157e+02   1.89012365e+03\n",
      "  -1.89599030e+02   2.77442388e+02  -1.14074649e+03  -5.90038555e+02\n",
      "  -7.40658501e+02  -1.55317400e+03  -2.74214444e+02   0.00000000e+00\n",
      "   1.45408317e+03  -5.91855457e+02  -3.56194269e+02   6.02351837e+02\n",
      "   1.49560225e+03   1.07246537e+03   7.88428833e+02  -1.44347392e+03\n",
      "  -1.11724818e+02   8.42370128e+02   8.20729786e+02   3.83203293e+02\n",
      "  -1.61956597e+03  -1.42538501e+02   1.19961524e+02   6.68582382e+01\n",
      "  -1.37761874e+03  -1.07705179e+03  -7.08124174e+02   7.85937126e+02\n",
      "   3.18786316e+02   2.28148183e+02  -1.58394857e+03  -1.67024814e+01\n",
      "   7.81284933e+02  -9.95636487e+02  -7.90045723e+02  -3.62671239e+03\n",
      "  -1.90319996e+02  -1.40230284e+03  -6.92123225e+02   2.93753113e+02\n",
      "   1.46537237e+02  -5.41852186e+02   3.51329881e+02   1.30002534e+03\n",
      "  -4.84327612e+02  -1.23000782e+03  -9.49531632e+02  -2.58466040e+02\n",
      "   2.93409973e+02  -4.98975331e+02   4.91007076e+02   2.17424500e+03\n",
      "   8.37806296e+02  -4.13473573e+02  -9.13636094e+02   8.66660121e+02\n",
      "  -5.10468933e+02   0.00000000e+00   2.30279298e+03   1.02163116e+03\n",
      "   9.25091981e+02   1.54279399e+02  -1.27581905e+03  -7.20881994e+02\n",
      "   2.72719156e+02   0.00000000e+00   3.13935630e+01  -7.07847764e+02\n",
      "  -1.39864241e+02  -3.41433818e+02  -1.74480030e+02   1.13521742e+03\n",
      "  -1.42264672e+03   1.94308714e+02   1.19933417e+01   1.52055604e+03\n",
      "  -4.54453245e+02   5.42896654e+02   1.86193318e+03   1.10258879e+02\n",
      "  -5.73603310e+02   1.07538589e+03   7.24172609e+02   1.38485274e+03\n",
      "   3.86305833e+02   1.94641991e+03   4.96152731e+02  -8.81188743e+02\n",
      "  -9.62058597e+02   6.27817757e+02  -1.51891679e+01   2.80482638e+02\n",
      "   4.25996387e+02   1.07759398e+03  -2.10024490e+03   2.54974334e+03\n",
      "   5.52101784e+02   3.46727609e+02   3.12632200e+02  -9.31062203e+01\n",
      "  -5.42742656e+02  -4.18319764e+01  -2.52571928e+02   6.15913179e+02\n",
      "   1.56606194e+03  -2.78886286e+03  -2.00394072e+01   7.69149235e+02\n",
      "   9.45498329e+02  -1.74779778e+03   8.85048086e+02  -1.21828389e+03\n",
      "   7.39491085e+02  -1.73776977e+03   2.27191188e+02   9.63337352e+02\n",
      "  -1.54704884e+03   0.00000000e+00   2.31434549e+02   1.19708148e+03\n",
      "  -7.71705517e+02   4.20589935e+02   0.00000000e+00   4.58076661e-01\n",
      "  -1.88661158e-01   2.56045956e+00   1.31070380e+02  -2.56045957e+00\n",
      "  -1.31070380e+02   1.31145080e+02  -3.32684019e+01  -1.18110015e+02\n",
      "  -4.28530083e+02  -2.82535468e+02  -1.13710077e+02   5.70004750e+00\n",
      "  -1.43131965e+02  -4.92081757e+00   4.98131773e+00  -1.02831773e+01\n",
      "   5.16661215e+01  -2.12210225e-01  -4.68916948e+01  -2.06853610e+00\n",
      "  -7.63635438e+01   5.68421181e+00   4.10940308e+01  -2.60831712e+01\n",
      "  -2.97931320e+00   9.46411340e+00   1.39973609e+01  -2.92302953e-01\n",
      "   1.84548129e+01  -4.90526457e+00  -1.29629408e+01   1.16702103e+01\n",
      "  -9.74544418e+00   1.52211396e+01   4.34483612e+00  -7.94731566e+00\n",
      "   1.00943890e+01   9.14155119e+00   2.54758644e+00  -3.18009295e+00\n",
      "   5.62496392e+00  -2.69685748e+00  -5.95958443e+00  -5.10013842e+00\n",
      "   9.63237677e+00  -1.06536828e+01  -1.26496018e+01   2.09785069e+01\n",
      "  -1.60636851e+01  -4.62947619e+00   7.45751268e+00  -1.18923757e+01\n",
      "   3.40423779e+01  -3.34768108e+01   1.74979270e+00   1.20665157e+01\n",
      "  -2.24328433e+01  -1.05318319e+01  -6.61159307e+01   5.52082795e+01\n",
      "   7.14243534e+01  -1.02541794e+01  -1.51214882e+00  -1.62196515e+01\n",
      "   3.69529875e+01  -2.87937643e+01   2.64446388e+01   2.31371136e+00\n",
      "   1.08019192e+00   7.86563762e+00   6.23123840e+00  -8.42720376e+00\n",
      "  -3.96220555e+00  -5.03883716e+00   1.42238443e+01  -8.23433742e+00\n",
      "  -7.53967467e+00   1.96918915e+01   2.15752186e+00   3.87606621e+01\n",
      "  -5.16481040e+01   9.14951901e+00  -4.57812154e+01   3.12731670e+01\n",
      "  -1.19211152e+00  -2.08200559e+01   1.64287990e+02   1.24681242e+01\n",
      "  -1.24681242e+01   3.32486789e+01  -8.61873222e+01   1.62041501e+03\n",
      "   6.81289754e+02  -4.98626233e+02   1.19287542e+01   5.60153378e+00\n",
      "   2.11998048e+02   2.74838109e+02   1.83024726e+02  -9.80879693e+01\n",
      "   1.38845139e+02   4.94531877e+02   3.03339377e+00   3.19974246e+01\n",
      "  -5.65826151e-04   2.51316336e-01  -9.96559016e-03  -1.02659773e-03\n",
      "  -5.72693402e-02   1.13181040e-02   4.66071330e-02   2.89480220e-02\n",
      "  -7.33868914e-01   1.02994266e-02   3.09737816e-02  -3.95012003e-03\n",
      "   2.87091106e-01   1.49708388e-01  -3.54882776e-02  -2.96595818e-01\n",
      "  -1.78514374e-02  -2.10100062e-01  -7.63351439e-02  -4.29553874e-02\n",
      "  -2.23776629e-02   8.65913398e-04   8.61588884e-03  -3.42532771e-02\n",
      "  -5.37578070e-04   5.03592702e-04  -4.09697760e-02   9.79424316e+02\n",
      "   4.59723145e+02]\n",
      "Residual sum of squares, training data: 57319450.73\n",
      "Residual sum of squares, test data: 81629776.52\n",
      "Variance score, training data: 0.83\n",
      "Distribution of prediction error on training data:\n"
     ]
    },
    {
     "data": {
      "image/png": "[encoded data removed]",
      "text/plain": [
       "<matplotlib.figure.Figure at 0x16e2a4fc160>"
      ]
     },
     "metadata": {},
     "output_type": "display_data"
    },
    {
     "name": "stdout",
     "output_type": "stream",
     "text": [
      "Distribution of prediction error on test data:\n"
     ]
    },
    {
     "data": {
      "image/png": "[encoded data removed]",
      "text/plain": [
       "<matplotlib.figure.Figure at 0x16e2a5b7438>"
      ]
     },
     "metadata": {},
     "output_type": "display_data"
    }
   ],
   "source": [
    "# Create linear regression object\n",
    "regr = linear_model.LinearRegression()\n",
    "\n",
    "# Train the model using the training sets\n",
    "X_train_no_intercept = X_train\n",
    "X_train = X_train.reshape(-1, X_train.shape[1])\n",
    "regr.fit(X_train, y_train)\n",
    "\n",
    "# The intercept\n",
    "print('Intercept: \\n', regr.intercept_)\n",
    "# The coefficients\n",
    "print('Coefficients: \\n', regr.coef_)\n",
    "# The mean square error\n",
    "print(\"Residual sum of squares, training data: %.2f\"\n",
    "      % np.mean((regr.predict(X_train) - y_train) ** 2))\n",
    "print(\"Residual sum of squares, test data: %.2f\"\n",
    "      % np.mean((regr.predict(X_test) - y_test) ** 2))\n",
    "var_to_graph['multReg_linear'] = np.mean((regr.predict(X_test) - y_test) ** 2)\n",
    "# Explained variance score: 1 is perfect prediction\n",
    "print('Variance score, training data: %.2f' % regr.score(X_train, y_train))\n",
    "#vector of prediction error\n",
    "print('Distribution of prediction error on training data:')\n",
    "predError = regr.predict(X_train) - y_train\n",
    "plt.hist(predError)\n",
    "plt.show()\n",
    "\n",
    "print('Distribution of prediction error on test data:')\n",
    "predError = regr.predict(X_test) - y_test\n",
    "plt.hist(predError)\n",
    "plt.show()"
   ]
  },
  {
   "cell_type": "code",
   "execution_count": 29,
   "metadata": {
    "collapsed": true
   },
   "outputs": [],
   "source": [
    "from sklearn.preprocessing import PolynomialFeatures\n",
    "# DOC: http://scikit-learn.org/stable/modules/preprocessing.html\n",
    "\n",
    "poly = PolynomialFeatures(2)\n",
    "X_poly = poly.fit_transform(X)"
   ]
  },
  {
   "cell_type": "code",
   "execution_count": 30,
   "metadata": {
    "collapsed": false
   },
   "outputs": [],
   "source": [
    "# create training and test sets\n",
    "from sklearn.cross_validation import train_test_split\n",
    "\n",
    "X_train, X_test, y_train, y_test = train_test_split(\n",
    "         X_poly, y, test_size=0.3, random_state=0)"
   ]
  },
  {
   "cell_type": "code",
   "execution_count": 31,
   "metadata": {
    "collapsed": false
   },
   "outputs": [
    {
     "name": "stdout",
     "output_type": "stream",
     "text": [
      "Intercept: \n",
      " 23481.0611532\n",
      "Coefficients: \n",
      " [  4.30657072e+01   1.13719825e+02  -1.94831046e+02 ...,   1.17340379e-02\n",
      "  -3.98862338e-03   3.93028088e-04]\n",
      "Residual sum of squares, training data: 0.00\n",
      "Residual sum of squares, test data: 503583211.41\n",
      "Variance score, training data: 1.00\n",
      "Distribution of prediction error on training data:\n"
     ]
    },
    {
     "data": {
      "image/png": "[encoded data removed]",
      "text/plain": [
       "<matplotlib.figure.Figure at 0x16e27d755f8>"
      ]
     },
     "metadata": {},
     "output_type": "display_data"
    },
    {
     "name": "stdout",
     "output_type": "stream",
     "text": [
      "Distribution of prediction error on test data:\n"
     ]
    },
    {
     "data": {
      "image/png": "[encoded data removed]",
      "text/plain": [
       "<matplotlib.figure.Figure at 0x16e2a89e3c8>"
      ]
     },
     "metadata": {},
     "output_type": "display_data"
    }
   ],
   "source": [
    "## POLYNOMINAL \n",
    "# Create linear regression object\n",
    "poly = linear_model.LinearRegression(normalize=True)\n",
    "\n",
    "# Train the model using the training sets\n",
    "X_train_no_intercept = X_train\n",
    "X_train = X_train.reshape(-1, X_train.shape[1])\n",
    "poly.fit(X_train, y_train)\n",
    "\n",
    "# The intercept\n",
    "print('Intercept: \\n', poly.intercept_)\n",
    "# The coefficients\n",
    "print('Coefficients: \\n', poly.coef_)\n",
    "# The mean square error\n",
    "print(\"Residual sum of squares, training data: %.2f\"\n",
    "      % np.mean((poly.predict(X_train) - y_train) ** 2))\n",
    "print(\"Residual sum of squares, test data: %.2f\"\n",
    "      % np.mean((poly.predict(X_test) - y_test) ** 2))\n",
    "var_to_graph['multReg_poly'] = np.mean((poly.predict(X_test) - y_test) ** 2)\n",
    "# Explained variance score: 1 is perfect prediction\n",
    "print('Variance score, training data: %.2f' % poly.score(X_train, y_train))\n",
    "#vector of prediction error\n",
    "print('Distribution of prediction error on training data:')\n",
    "predError = poly.predict(X_train) - y_train\n",
    "plt.hist(predError)\n",
    "plt.show()\n",
    "\n",
    "print('Distribution of prediction error on test data:')\n",
    "predError = poly.predict(X_test) - y_test\n",
    "plt.hist(predError)\n",
    "plt.show()"
   ]
  },
  {
   "cell_type": "code",
   "execution_count": 32,
   "metadata": {
    "collapsed": false,
    "scrolled": false
   },
   "outputs": [
    {
     "name": "stdout",
     "output_type": "stream",
     "text": [
      "Intercept: \n",
      " 17798.1238858\n",
      "Coefficients: \n",
      " [  9.05553678e+03  -2.31314889e+03  -2.92261391e+03  -1.40423257e+03\n",
      "   1.05082535e+03   6.04143164e+03  -4.79305973e+03  -5.41919224e+03\n",
      "  -3.21539285e+03   2.07703678e+03  -7.44184695e+02  -1.53115461e+03\n",
      "  -4.53578115e+03  -5.42863779e+03  -6.39844304e+02   4.94663274e+02\n",
      "  -3.31554412e+03  -7.18984115e+03  -1.88024591e+03  -3.12538852e+03\n",
      "   0.00000000e+00   2.87211818e+03  -2.48958418e+03   1.69649279e+03\n",
      "  -3.57499704e+03  -1.63712496e+03   9.68674222e+02  -4.86386511e+03\n",
      "  -1.90545913e+03  -2.50680620e+03   4.61025704e+02  -4.61025704e+02\n",
      "   1.07373498e+02   2.80955274e+03  -1.85468681e+03   2.66396807e+03\n",
      "  -2.93837017e+03  -6.68101583e+02   1.13152016e+03  -1.81621418e+03\n",
      "   1.81621418e+03  -1.96790854e+02   1.96790854e+02  -8.30161239e+02\n",
      "   2.26569322e+02   8.50834522e+03   4.45858088e+03  -5.51838842e+03\n",
      "  -9.36412151e+02   4.69136688e+02   1.34737988e+02   1.50234019e+02\n",
      "   6.90218089e+01   4.14027086e+01  -6.97357284e+02  -7.28416474e+02\n",
      "   9.83816895e+01  -3.82814854e+02   1.73025638e+02   7.93957020e+01\n",
      "   1.21804989e+03   3.79044302e+02   6.41546955e+02  -1.41861573e+03\n",
      "   1.17987442e+02   4.68317736e+02  -5.59517392e+01   5.92439299e+02\n",
      "  -3.28386780e+02   1.26116899e+02  -4.47737770e+01   1.13449345e+03\n",
      "  -5.02229630e+02  -5.40615458e+02  -6.89014912e+02  -4.14089439e+02\n",
      "  -1.04547020e+03  -1.29778649e+03   1.38150044e+03  -1.26572212e+02\n",
      "  -3.57682722e+02   0.00000000e+00   8.33003552e+02   2.31087937e+02\n",
      "  -5.76302592e+02  -4.16405514e+02   2.94292990e+02   5.47893314e+02\n",
      "   1.11364417e+02  -5.26703639e+02  -1.87368443e+02  -3.14629238e+02\n",
      "  -6.59151222e+02  -2.57710162e+02   6.83215027e+02   1.55190124e+02\n",
      "  -2.58811790e+02   1.14754299e+03  -4.75369533e+02  -1.69791661e+02\n",
      "   7.90518979e+02  -5.01535130e+01  -6.38676421e+02   0.00000000e+00\n",
      "   1.49675822e+02  -2.88163672e+02  -1.01038086e+03  -1.19713747e+02\n",
      "  -6.25570844e+01  -2.77710513e+02   3.10306826e+02  -5.80678481e+02\n",
      "  -4.01849776e+02  -2.44995285e+03  -4.05944852e+02   3.22284000e+02\n",
      "  -2.04716811e+02  -8.05051423e+02  -4.30189082e+02  -7.00228605e+02\n",
      "  -9.45105882e+01   1.32255297e+03   0.00000000e+00   2.63690722e+02\n",
      "   8.88237365e+02   0.00000000e+00  -8.96289539e+01  -4.53206699e+01\n",
      "  -9.81402409e+02   2.41539914e+02   3.58846906e+02  -6.17758218e+02\n",
      "   7.55124905e+02   8.15577220e+02   5.18860147e+01  -4.21227666e+02\n",
      "   5.21745700e+01  -1.81573051e+02  -1.07527626e+03   2.94375515e+02\n",
      "   1.58905431e+03   1.48218141e+02  -1.02672175e+03   0.00000000e+00\n",
      "  -9.40893398e+02   0.00000000e+00   8.64747504e+02  -3.65761952e+02\n",
      "  -3.61000807e+01  -1.11867199e+02   9.72464041e+02  -1.73508749e+02\n",
      "   1.17606587e+03  -1.13308929e+03   4.14444265e+02   7.27409282e+02\n",
      "   6.50914258e+01   2.85527231e+02  -2.95273969e+02   9.57400391e+02\n",
      "   4.32781482e+02   3.26497273e+02   3.53259718e+02   5.84271593e+02\n",
      "  -2.13041778e+02   1.49103393e+03   6.33784681e+01   5.34472739e+02\n",
      "  -9.52927505e+02   5.44408389e+02   1.01846499e+02   7.39496998e+02\n",
      "  -1.24759762e+02   5.10030443e+00  -9.29041742e+02   1.37930501e+03\n",
      "   1.05128587e+03   4.18222584e+02   2.77025275e+02   1.23037840e+03\n",
      "   5.21185897e+02  -9.90724847e+02   8.30884762e+02  -2.78327804e+03\n",
      "   7.98673970e+02   2.21601610e+03   2.44334896e+02   1.96965345e+02\n",
      "  -3.54144103e+02  -6.37412024e+02   7.05958959e+02  -5.24160271e+02\n",
      "  -1.73234894e+03   6.50349143e+01  -6.22417292e+02  -1.72647665e+03\n",
      "   3.14794004e+02   1.53401156e+02   7.91485869e+02  -5.12987772e+02\n",
      "   6.08986531e+01   6.83215027e+02   1.17987442e+02  -1.50243494e+02\n",
      "  -4.75369533e+02   3.92504159e+00   2.00705643e+02   3.64202739e+01\n",
      "   4.64976441e+02  -1.19713747e+02   3.21346880e+02   5.58066238e+02\n",
      "  -1.69958595e+01  -1.55050405e+02   2.61391818e+02   4.70295803e+02\n",
      "   2.45641269e+01   3.05897290e+02   2.68123633e+02  -2.11433943e+02\n",
      "   4.89836565e+01  -5.89592678e+01  -1.52293711e+02  -3.32376806e+02\n",
      "  -6.38676421e+02  -3.61000807e+01  -1.87368443e+02  -6.25570844e+01\n",
      "  -8.74959460e+01   1.98401173e+02  -4.39283212e+02  -5.72169939e+01\n",
      "   3.22284000e+02  -7.33788689e+02  -5.18189567e+02   7.72360557e+00\n",
      "   4.30443520e+01   1.52833547e+02   2.57807090e+01  -8.28534954e+01\n",
      "   0.00000000e+00   1.35777473e+03  -1.35777473e+03  -2.13986635e+03\n",
      "   2.44059339e+03  -9.36412151e+02   4.69136688e+02   1.34737988e+02\n",
      "   1.50234019e+02   6.90218089e+01   4.14027086e+01  -6.97357284e+02\n",
      "  -7.28416474e+02   9.83816895e+01  -3.82814854e+02   1.73025638e+02\n",
      "   7.93957020e+01   1.21804989e+03   3.79044302e+02   8.85881852e+02\n",
      "  -1.41861573e+03   1.17987442e+02   4.68317736e+02  -5.59517392e+01\n",
      "   5.92439299e+02  -3.28386780e+02   1.26116899e+02  -4.47737770e+01\n",
      "   1.13449345e+03  -5.02229630e+02  -5.40615458e+02  -6.89014912e+02\n",
      "  -4.14089439e+02  -1.04547020e+03  -1.29778649e+03  -1.07527626e+03\n",
      "  -1.26572212e+02  -3.57682722e+02   0.00000000e+00   8.33003552e+02\n",
      "   2.31087937e+02  -5.76302592e+02  -4.16405514e+02   2.94292990e+02\n",
      "   5.47893314e+02   1.11364417e+02  -5.26703639e+02  -1.87368443e+02\n",
      "  -3.14629238e+02  -6.59151222e+02  -2.57710162e+02   6.83215027e+02\n",
      "   1.55190124e+02  -2.58811790e+02   1.14754299e+03  -4.75369533e+02\n",
      "  -1.69791661e+02   7.90518979e+02  -5.01535130e+01  -6.38676421e+02\n",
      "   0.00000000e+00   1.49675822e+02  -2.88163672e+02  -1.19713747e+02\n",
      "  -6.25570844e+01  -2.77710513e+02  -8.05051423e+02   3.10306826e+02\n",
      "  -5.80678481e+02  -4.01849776e+02  -2.44995285e+03  -4.05944852e+02\n",
      "   3.22284000e+02  -2.04716811e+02  -4.30189082e+02  -7.00228605e+02\n",
      "  -9.45105882e+01   1.32255297e+03   2.63690722e+02   8.88237365e+02\n",
      "   0.00000000e+00  -8.96289539e+01  -4.53206699e+01  -9.81402409e+02\n",
      "   2.41539914e+02   3.58846906e+02  -6.17758218e+02   7.55124905e+02\n",
      "   1.38150044e+03   8.15577220e+02   5.18860147e+01  -4.21227666e+02\n",
      "   5.21745700e+01  -1.81573051e+02   2.94375515e+02   1.58905431e+03\n",
      "   1.48218141e+02  -1.02672175e+03   0.00000000e+00  -1.01038086e+03\n",
      "  -9.40893398e+02   0.00000000e+00   8.64747504e+02  -3.65761952e+02\n",
      "  -3.61000807e+01  -1.11867199e+02   9.72464041e+02  -1.73508749e+02\n",
      "   1.17606587e+03  -1.13308929e+03   4.14444265e+02   7.27409282e+02\n",
      "   6.50914258e+01   2.85527231e+02  -2.95273969e+02   4.32781482e+02\n",
      "   3.26497273e+02   3.53259718e+02   1.23037840e+03   5.84271593e+02\n",
      "  -2.13041778e+02   1.49103393e+03   6.33784681e+01   5.34472739e+02\n",
      "  -9.52927505e+02   5.44408389e+02   1.01846499e+02   7.39496998e+02\n",
      "  -1.24759762e+02   5.10030443e+00  -9.29041742e+02   1.37930501e+03\n",
      "   1.05128587e+03   4.18222584e+02   2.77025275e+02   5.21185897e+02\n",
      "  -9.90724847e+02   8.30884762e+02  -2.78327804e+03   7.98673970e+02\n",
      "   2.21601610e+03   0.00000000e+00   1.96965345e+02  -3.54144103e+02\n",
      "  -6.37412024e+02   9.57400391e+02   7.05958959e+02  -5.24160271e+02\n",
      "  -1.73234894e+03   6.50349143e+01  -6.22417292e+02  -1.72647665e+03\n",
      "   3.14794004e+02   1.53401156e+02   7.91485869e+02  -5.12987772e+02\n",
      "   6.08986531e+01   1.17987442e+02   6.83215027e+02  -4.75369533e+02\n",
      "  -1.50243494e+02   3.92504158e+00   2.00705643e+02   3.64202739e+01\n",
      "   4.64976441e+02  -1.19713747e+02   5.58066238e+02  -1.69958595e+01\n",
      "  -1.55050405e+02   3.21346880e+02   2.61391818e+02   4.70295803e+02\n",
      "   2.45641269e+01   2.68123633e+02   3.05897290e+02  -2.11433943e+02\n",
      "   4.89836565e+01  -1.52293711e+02  -5.89592678e+01  -3.61000807e+01\n",
      "  -1.87368443e+02  -6.25570844e+01  -8.74959460e+01  -3.32376806e+02\n",
      "  -6.38676421e+02   1.98401173e+02  -4.39283212e+02  -5.72169939e+01\n",
      "   3.22284000e+02  -7.33788689e+02  -5.18189567e+02   7.72360557e+00\n",
      "   4.30443520e+01   1.52833547e+02   2.57807090e+01  -8.28534954e+01\n",
      "   6.83215027e+02   1.17987442e+02  -1.50243494e+02  -4.75369533e+02\n",
      "   3.92504158e+00   2.00705643e+02   3.64202739e+01   4.64976441e+02\n",
      "  -1.19713747e+02   3.21346880e+02   5.58066238e+02  -1.69958595e+01\n",
      "  -1.55050405e+02   2.61391818e+02   4.70295803e+02   2.45641269e+01\n",
      "   3.05897290e+02   2.68123633e+02  -2.11433943e+02   4.89836565e+01\n",
      "  -5.89592678e+01  -1.52293711e+02  -3.32376806e+02  -6.38676421e+02\n",
      "  -3.61000807e+01  -1.87368443e+02  -6.25570844e+01  -8.74959460e+01\n",
      "   1.98401173e+02  -4.39283212e+02  -5.72169939e+01   3.22284000e+02\n",
      "  -7.33788689e+02  -5.18189567e+02   7.72360557e+00   4.30443520e+01\n",
      "   1.52833547e+02   2.57807090e+01  -8.28534954e+01  -4.30189082e+02\n",
      "  -5.01535130e+01  -2.88163672e+02  -1.07527626e+03   9.83816895e+01\n",
      "   1.73025638e+02   6.50349143e+01   2.44334896e+02   6.41546955e+02\n",
      "  -6.37412024e+02   5.34472739e+02  -9.81402409e+02   3.58846906e+02\n",
      "  -4.14089439e+02  -9.36412151e+02   5.21185897e+02  -7.28416474e+02\n",
      "   9.72464041e+02   1.05128587e+03  -1.01038086e+03   1.23037840e+03\n",
      "  -4.47737770e+01   5.10030443e+00  -5.40615458e+02  -4.75369533e+02\n",
      "  -5.02229630e+02  -1.13308929e+03  -2.95273969e+02   0.00000000e+00\n",
      "   1.48218141e+02  -4.16405514e+02  -3.82814854e+02   1.34737988e+02\n",
      "   1.28645289e+03   5.47893314e+02   7.55124905e+02  -9.90724847e+02\n",
      "  -1.73508749e+02   7.84037890e+02   6.83215027e+02   1.55190124e+02\n",
      "  -1.29778649e+03   8.88237365e+02   1.49675822e+02   1.53401156e+02\n",
      "  -1.04547020e+03  -6.17758218e+02  -6.38676421e+02   1.13449345e+03\n",
      "   4.93962030e+01   4.14027086e+01  -1.08276194e+03  -1.19713747e+02\n",
      "   7.39496998e+02  -4.21227666e+02  -3.14629238e+02  -2.78327804e+03\n",
      "  -6.25570844e+01  -6.97357284e+02  -2.31565823e+02   1.17987442e+02\n",
      "  -5.80678481e+02  -4.05944852e+02   3.79044302e+02   1.37930501e+03\n",
      "  -2.04716811e+02  -7.00228605e+02  -5.26703639e+02  -3.54144103e+02\n",
      "   8.15577220e+02  -2.57710162e+02   2.94375515e+02   1.18956282e+03\n",
      "   7.05958959e+02  -4.53206699e+01  -6.59151222e+02   3.10306826e+02\n",
      "  -5.24160271e+02   0.00000000e+00   1.38150044e+03   5.18860147e+01\n",
      "   4.18222584e+02   1.39930956e+02  -9.29041742e+02  -3.65761952e+02\n",
      "   3.14794004e+02   0.00000000e+00   2.63690722e+02  -9.40893398e+02\n",
      "  -1.26572212e+02   3.26497273e+02   5.21745700e+01   7.91485869e+02\n",
      "  -1.02672175e+03  -1.11867199e+02   1.50234019e+02   1.17606587e+03\n",
      "  -6.89014912e+02   4.32781482e+02   1.49103393e+03  -2.76083639e+02\n",
      "  -2.58811790e+02   7.27409282e+02   7.93957020e+01   9.57400391e+02\n",
      "   2.41539914e+02   1.58905431e+03   3.53259718e+02  -7.20659422e+02\n",
      "  -9.52927505e+02   5.44408389e+02   1.01846499e+02   2.27629072e+02\n",
      "  -1.24759762e+02   8.33003552e+02  -1.72647665e+03   2.21601610e+03\n",
      "   5.84271593e+02   1.11364417e+02  -2.13041778e+02   1.96965345e+02\n",
      "   6.90218089e+01  -1.87368443e+02   7.74933023e+02  -1.69791661e+02\n",
      "   4.69136688e+02  -1.73234894e+03  -4.01849776e+02   1.21804989e+03\n",
      "   7.98673970e+02  -5.76302592e+02   2.85527231e+02  -6.22417292e+02\n",
      "   5.92439299e+02  -9.80125862e+02   6.08986531e+01   2.94292990e+02\n",
      "  -1.41861573e+03   0.00000000e+00   6.50914258e+01   7.90518979e+02\n",
      "  -5.12987772e+02   2.31087937e+02   0.00000000e+00   3.94659401e-01\n",
      "  -2.01343970e-01  -2.96986229e+01   1.07531011e+02   2.96986229e+01\n",
      "  -1.07531011e+02   8.77569315e+01  -3.78589010e+01  -1.75433806e+02\n",
      "  -2.59336894e+02  -3.77046253e+02  -8.40616996e+01   7.01804794e+00\n",
      "  -2.62872285e+01  -5.01252832e+00   3.30685357e+00  -2.63383308e+01\n",
      "   5.32182981e+01   5.00816980e+00  -4.77745030e+01   1.83076127e+01\n",
      "  -6.79593616e+01   1.58785862e+01   2.15659266e+01  -2.78767617e+01\n",
      "  -6.09187166e+00   1.04069987e+01   2.24501901e+01   5.99020331e-01\n",
      "   1.46397155e+01  -4.57026271e+00  -1.41065939e+01   1.10575890e+01\n",
      "  -9.66807070e+00   1.19032958e+01   2.95635863e+00  -3.73540704e+00\n",
      "  -3.07812598e+00   1.48884297e+01   1.69186025e+00   4.10247213e-02\n",
      "   1.52103281e+00  -1.06665917e+01  -9.68102414e+00  -9.07533587e-01\n",
      "   8.53816827e+00  -1.15756408e+01  -6.94047709e+00   1.54406470e+01\n",
      "  -1.35048330e+01  -6.10613818e+00   7.00145615e+00  -6.33982653e+00\n",
      "   3.51226850e+01  -2.59351848e+01  -4.60681934e+00   1.51214205e+00\n",
      "  -2.74245389e+01  -9.47031237e+00  -5.26566591e+01   4.44239117e+01\n",
      "   7.61770151e+01  -2.27098022e+00  -1.19249588e+00  -9.36926865e+00\n",
      "   3.23321630e+01  -2.32452829e+01   2.40916106e+01   4.04473539e-01\n",
      "   4.05079133e+00   4.17537277e+00   5.24519031e+00  -1.00603069e+01\n",
      "  -1.85842256e+00  -1.20748077e+00   1.21459843e+01  -1.57157526e+00\n",
      "  -4.32900543e+00   2.25538586e+01  -1.99574659e+00   3.35055195e+01\n",
      "  -5.11209045e+01   1.02397738e+00  -4.00017304e+01   2.32357285e+01\n",
      "  -3.39164884e+00  -1.58057665e+01   2.85136548e+02   6.59730642e+00\n",
      "  -6.59730683e+00   8.26960063e+01  -1.32641519e+02   1.72127882e+03\n",
      "   6.68723282e+02  -5.22082610e+02   9.60171371e+00   1.20705634e+00\n",
      "   1.76891188e+02   3.03875980e+02   1.90489667e+02  -2.46311253e+02\n",
      "   5.40949319e+01   3.80735573e+02   5.36961006e+00   4.92943785e+01\n",
      "  -2.34963119e-04   2.30910645e-01  -7.24578526e-03  -1.03118715e-03\n",
      "  -4.26246010e-02   1.42944585e-02   3.55297669e-02   2.50494870e-02\n",
      "  -8.93146336e-01   3.41617100e-03   3.60363863e-02  -3.60135594e-03\n",
      "   2.62624738e-01   5.45760051e-02  -2.74842033e-02  -2.89126351e-01\n",
      "  -1.29082457e-02  -1.74024818e-01  -6.61337661e-02  -3.55996550e-02\n",
      "  -5.21299682e-02   7.10729819e-04   6.98389459e-03  -2.98999744e-02\n",
      "   4.90138198e-03   7.15338077e-04  -3.47864361e-02   7.11116663e+02\n",
      "   2.61556826e+02]\n",
      "Residual sum of squares, training data: 58311575.32\n",
      "Residual sum of squares, test data: 80243320.76\n",
      "Variance score, training data: 0.83\n",
      "Distribution of prediction error on training data:\n"
     ]
    },
    {
     "data": {
      "image/png": "[encoded data removed]",
      "text/plain": [
       "<matplotlib.figure.Figure at 0x16e27d75e80>"
      ]
     },
     "metadata": {},
     "output_type": "display_data"
    },
    {
     "name": "stdout",
     "output_type": "stream",
     "text": [
      "Distribution of prediction error on test data:\n"
     ]
    },
    {
     "data": {
      "image/png": "[encoded data removed]",
      "text/plain": [
       "<matplotlib.figure.Figure at 0x16e2a5baba8>"
      ]
     },
     "metadata": {},
     "output_type": "display_data"
    }
   ],
   "source": [
    "## RIDGE REGRESSION\n",
    "# DOC: http://scikit-learn.org/stable/modules/generated/sklearn.linear_model.Ridge.html\n",
    "\n",
    "# create training and test sets\n",
    "from sklearn.cross_validation import train_test_split\n",
    "\n",
    "X_train, X_test, y_train, y_test = train_test_split(\n",
    "         X, y, test_size=0.3, random_state=0)\n",
    "\n",
    "# Create linear regression object\n",
    "regr = linear_model.Ridge()\n",
    "\n",
    "# Train the model using the training sets\n",
    "X_train_no_intercept = X_train\n",
    "X_train = X_train.reshape(-1, X_train.shape[1])\n",
    "regr.fit(X_train, y_train)\n",
    "\n",
    "# The intercept\n",
    "print('Intercept: \\n', regr.intercept_)\n",
    "# The coefficients\n",
    "print('Coefficients: \\n', regr.coef_)\n",
    "# The mean square error\n",
    "print(\"Residual sum of squares, training data: %.2f\"\n",
    "      % np.mean((regr.predict(X_train) - y_train) ** 2))\n",
    "print(\"Residual sum of squares, test data: %.2f\"\n",
    "      % np.mean((regr.predict(X_test) - y_test) ** 2))\n",
    "var_to_graph['multReg_ridge'] = np.mean((regr.predict(X_test) - y_test) ** 2)\n",
    "# Explained variance score: 1 is perfect prediction\n",
    "print('Variance score, training data: %.2f' % regr.score(X_train, y_train))\n",
    "#vector of prediction error\n",
    "print('Distribution of prediction error on training data:')\n",
    "predError = regr.predict(X_train) - y_train\n",
    "plt.hist(predError)\n",
    "plt.show()\n",
    "\n",
    "print('Distribution of prediction error on test data:')\n",
    "predError = regr.predict(X_test) - y_test\n",
    "plt.hist(predError)\n",
    "plt.show()"
   ]
  },
  {
   "cell_type": "code",
   "execution_count": 33,
   "metadata": {
    "collapsed": false
   },
   "outputs": [
    {
     "data": {
      "image/png": "[encoded data removed]",
      "text/plain": [
       "<matplotlib.figure.Figure at 0x16e2a4f0b00>"
      ]
     },
     "metadata": {},
     "output_type": "display_data"
    }
   ],
   "source": [
    "# bar graph of dict with Residual Sum of Squares on test datasets\n",
    "\n",
    "#var_to_graph['multReg_poly'] = 0\n",
    "plt.bar(range(len(var_to_graph)), var_to_graph.values(), align='center')\n",
    "plt.xticks(range(len(var_to_graph)), var_to_graph.keys())\n",
    "\n",
    "plt.show()"
   ]
  },
  {
   "cell_type": "code",
   "execution_count": null,
   "metadata": {
    "collapsed": true
   },
   "outputs": [],
   "source": []
  }
 ],
 "metadata": {
  "kernelspec": {
   "display_name": "Python 3",
   "language": "python",
   "name": "python3"
  },
  "language_info": {
   "codemirror_mode": {
    "name": "ipython",
    "version": 3
   },
   "file_extension": ".py",
   "mimetype": "text/x-python",
   "name": "python",
   "nbconvert_exporter": "python",
   "pygments_lexer": "ipython3",
   "version": "3.5.1"
  }
 },
 "nbformat": 4,
 "nbformat_minor": 0
}
