{
 "cells": [
  {
   "cell_type": "code",
   "execution_count": 119,
   "metadata": {
    "collapsed": true
   },
   "outputs": [],
   "source": [
    "# State Tax Collections http://www2.census.gov/govs/statetax/14staxcd.txt\n",
    "# Geo Data http://download.geonames.org/export/dump/\n",
    "# Subsidized Households 2008 http://www.HUDuser.org/portal/picture2008/2008_tract.zip\n",
    "# Zip Codes https://www.aggdata.com/node/86\n",
    "# Unemployment Rates http://www.bls.gov/lau/laucntycur14.txt\n",
    "import numpy as np\n",
    "import pandas as pd\n",
    "import matplotlib.pyplot as plt\n",
    "%matplotlib inline"
   ]
  },
  {
   "cell_type": "code",
   "execution_count": 120,
   "metadata": {
    "collapsed": false
   },
   "outputs": [
    {
     "data": {
      "text/plain": [
       "(1444, 152)"
      ]
     },
     "execution_count": 120,
     "metadata": {},
     "output_type": "execute_result"
    }
   ],
   "source": [
    "sal = pd.read_csv('../Data/salaries_parent.csv')\n",
    "sal.shape"
   ]
  },
  {
   "cell_type": "code",
   "execution_count": 121,
   "metadata": {
    "collapsed": false
   },
   "outputs": [
    {
     "data": {
      "text/html": [
       "<div>\n",
       "<table border=\"1\" class=\"dataframe\">\n",
       "  <thead>\n",
       "    <tr style=\"text-align: right;\">\n",
       "      <th></th>\n",
       "      <th>Zip</th>\n",
       "      <th>B19013_001</th>\n",
       "      <th>no_male_hs_p</th>\n",
       "      <th>no_female_hs_p</th>\n",
       "      <th>at_least_hs_male_p</th>\n",
       "      <th>at_least_hs_female_p</th>\n",
       "      <th>at_least_bach_male_p</th>\n",
       "      <th>at_least_bach_female_p</th>\n",
       "      <th>male_unemployment</th>\n",
       "      <th>female_unemployment</th>\n",
       "      <th>...</th>\n",
       "      <th>T51</th>\n",
       "      <th>T53</th>\n",
       "      <th>T99</th>\n",
       "      <th>Place Name</th>\n",
       "      <th>State_y</th>\n",
       "      <th>State Abbreviation</th>\n",
       "      <th>County</th>\n",
       "      <th>Latitude</th>\n",
       "      <th>Longitude</th>\n",
       "      <th>Unnamed: 60</th>\n",
       "    </tr>\n",
       "  </thead>\n",
       "  <tbody>\n",
       "    <tr>\n",
       "      <th>0</th>\n",
       "      <td>1003</td>\n",
       "      <td>NaN</td>\n",
       "      <td>0.0</td>\n",
       "      <td>0.0</td>\n",
       "      <td>100.0</td>\n",
       "      <td>100.0</td>\n",
       "      <td>35.46798</td>\n",
       "      <td>76.470588</td>\n",
       "      <td>6.92323</td>\n",
       "      <td>7.939714</td>\n",
       "      <td>...</td>\n",
       "      <td>246850</td>\n",
       "      <td>0</td>\n",
       "      <td>197503</td>\n",
       "      <td>Amherst</td>\n",
       "      <td>Massachusetts</td>\n",
       "      <td>MA</td>\n",
       "      <td>Hampshire</td>\n",
       "      <td>42.3919</td>\n",
       "      <td>-72.5248</td>\n",
       "      <td>NaN</td>\n",
       "    </tr>\n",
       "    <tr>\n",
       "      <th>1</th>\n",
       "      <td>1003</td>\n",
       "      <td>NaN</td>\n",
       "      <td>0.0</td>\n",
       "      <td>0.0</td>\n",
       "      <td>100.0</td>\n",
       "      <td>100.0</td>\n",
       "      <td>35.46798</td>\n",
       "      <td>76.470588</td>\n",
       "      <td>6.92323</td>\n",
       "      <td>7.939714</td>\n",
       "      <td>...</td>\n",
       "      <td>246850</td>\n",
       "      <td>0</td>\n",
       "      <td>197503</td>\n",
       "      <td>Amherst</td>\n",
       "      <td>Massachusetts</td>\n",
       "      <td>MA</td>\n",
       "      <td>Hampshire</td>\n",
       "      <td>42.3919</td>\n",
       "      <td>-72.5248</td>\n",
       "      <td>NaN</td>\n",
       "    </tr>\n",
       "    <tr>\n",
       "      <th>2</th>\n",
       "      <td>1003</td>\n",
       "      <td>NaN</td>\n",
       "      <td>0.0</td>\n",
       "      <td>0.0</td>\n",
       "      <td>100.0</td>\n",
       "      <td>100.0</td>\n",
       "      <td>35.46798</td>\n",
       "      <td>76.470588</td>\n",
       "      <td>6.92323</td>\n",
       "      <td>7.939714</td>\n",
       "      <td>...</td>\n",
       "      <td>246850</td>\n",
       "      <td>0</td>\n",
       "      <td>197503</td>\n",
       "      <td>Amherst</td>\n",
       "      <td>Massachusetts</td>\n",
       "      <td>MA</td>\n",
       "      <td>Hampshire</td>\n",
       "      <td>42.3919</td>\n",
       "      <td>-72.5248</td>\n",
       "      <td>NaN</td>\n",
       "    </tr>\n",
       "    <tr>\n",
       "      <th>3</th>\n",
       "      <td>1003</td>\n",
       "      <td>NaN</td>\n",
       "      <td>0.0</td>\n",
       "      <td>0.0</td>\n",
       "      <td>100.0</td>\n",
       "      <td>100.0</td>\n",
       "      <td>35.46798</td>\n",
       "      <td>76.470588</td>\n",
       "      <td>6.92323</td>\n",
       "      <td>7.939714</td>\n",
       "      <td>...</td>\n",
       "      <td>246850</td>\n",
       "      <td>0</td>\n",
       "      <td>197503</td>\n",
       "      <td>Amherst</td>\n",
       "      <td>Massachusetts</td>\n",
       "      <td>MA</td>\n",
       "      <td>Hampshire</td>\n",
       "      <td>42.3919</td>\n",
       "      <td>-72.5248</td>\n",
       "      <td>NaN</td>\n",
       "    </tr>\n",
       "    <tr>\n",
       "      <th>4</th>\n",
       "      <td>1003</td>\n",
       "      <td>NaN</td>\n",
       "      <td>0.0</td>\n",
       "      <td>0.0</td>\n",
       "      <td>100.0</td>\n",
       "      <td>100.0</td>\n",
       "      <td>35.46798</td>\n",
       "      <td>76.470588</td>\n",
       "      <td>6.92323</td>\n",
       "      <td>7.939714</td>\n",
       "      <td>...</td>\n",
       "      <td>246850</td>\n",
       "      <td>0</td>\n",
       "      <td>197503</td>\n",
       "      <td>Amherst</td>\n",
       "      <td>Massachusetts</td>\n",
       "      <td>MA</td>\n",
       "      <td>Hampshire</td>\n",
       "      <td>42.3919</td>\n",
       "      <td>-72.5248</td>\n",
       "      <td>NaN</td>\n",
       "    </tr>\n",
       "  </tbody>\n",
       "</table>\n",
       "<p>5 rows × 152 columns</p>\n",
       "</div>"
      ],
      "text/plain": [
       "    Zip  B19013_001  no_male_hs_p  no_female_hs_p  at_least_hs_male_p  \\\n",
       "0  1003         NaN           0.0             0.0               100.0   \n",
       "1  1003         NaN           0.0             0.0               100.0   \n",
       "2  1003         NaN           0.0             0.0               100.0   \n",
       "3  1003         NaN           0.0             0.0               100.0   \n",
       "4  1003         NaN           0.0             0.0               100.0   \n",
       "\n",
       "   at_least_hs_female_p  at_least_bach_male_p  at_least_bach_female_p  \\\n",
       "0                 100.0              35.46798               76.470588   \n",
       "1                 100.0              35.46798               76.470588   \n",
       "2                 100.0              35.46798               76.470588   \n",
       "3                 100.0              35.46798               76.470588   \n",
       "4                 100.0              35.46798               76.470588   \n",
       "\n",
       "   male_unemployment  female_unemployment     ...          T51  T53     T99  \\\n",
       "0            6.92323             7.939714     ...       246850    0  197503   \n",
       "1            6.92323             7.939714     ...       246850    0  197503   \n",
       "2            6.92323             7.939714     ...       246850    0  197503   \n",
       "3            6.92323             7.939714     ...       246850    0  197503   \n",
       "4            6.92323             7.939714     ...       246850    0  197503   \n",
       "\n",
       "   Place Name        State_y  State Abbreviation     County  Latitude  \\\n",
       "0     Amherst  Massachusetts                  MA  Hampshire   42.3919   \n",
       "1     Amherst  Massachusetts                  MA  Hampshire   42.3919   \n",
       "2     Amherst  Massachusetts                  MA  Hampshire   42.3919   \n",
       "3     Amherst  Massachusetts                  MA  Hampshire   42.3919   \n",
       "4     Amherst  Massachusetts                  MA  Hampshire   42.3919   \n",
       "\n",
       "   Longitude  Unnamed: 60  \n",
       "0   -72.5248          NaN  \n",
       "1   -72.5248          NaN  \n",
       "2   -72.5248          NaN  \n",
       "3   -72.5248          NaN  \n",
       "4   -72.5248          NaN  \n",
       "\n",
       "[5 rows x 152 columns]"
      ]
     },
     "execution_count": 121,
     "metadata": {},
     "output_type": "execute_result"
    }
   ],
   "source": [
    "sal.head(5)"
   ]
  },
  {
   "cell_type": "code",
   "execution_count": 122,
   "metadata": {
    "collapsed": false,
    "scrolled": true
   },
   "outputs": [
    {
     "data": {
      "text/plain": [
       "Zip                                                               5.465744e+04\n",
       "B19013_001                                                        4.768131e+04\n",
       "no_male_hs_p                                                      9.085053e+00\n",
       "no_female_hs_p                                                    8.216080e+00\n",
       "at_least_hs_male_p                                                9.091495e+01\n",
       "at_least_hs_female_p                                              9.178392e+01\n",
       "at_least_bach_male_p                                              4.441843e+01\n",
       "at_least_bach_female_p                                            4.946938e+01\n",
       "male_unemployment                                                 6.126710e+00\n",
       "female_unemployment                                               5.986530e+00\n",
       "snap                                                              1.092064e+01\n",
       "renter                                                            5.686790e+01\n",
       "median_rent                                                       8.978499e+02\n",
       "foreign_born                                                      1.058272e+01\n",
       "Value for Owner-Occupied Housing Units:  Total:                   3.091736e+03\n",
       "Value for Owner-Occupied Housing Units:  Less than $10,000        3.996399e+01\n",
       "Value for Owner-Occupied Housing Units:  $10,000 to $14,999       2.112258e+01\n",
       "Value for Owner-Occupied Housing Units:  $15,000 to $19,999       2.540512e+01\n",
       "Value for Owner-Occupied Housing Units:  $20,000 to $24,999       1.516690e+01\n",
       "Value for Owner-Occupied Housing Units:  $25,000 to $29,999       1.322645e+01\n",
       "Value for Owner-Occupied Housing Units:  $30,000 to $34,999       1.762535e+01\n",
       "Value for Owner-Occupied Housing Units:  $35,000 to $39,999       1.441482e+01\n",
       "Value for Owner-Occupied Housing Units:  $40,000 to $49,999       3.240374e+01\n",
       "Value for Owner-Occupied Housing Units:  $50,000 to $59,999       4.661150e+01\n",
       "Value for Owner-Occupied Housing Units:  $60,000 to $69,999       5.576870e+01\n",
       "Value for Owner-Occupied Housing Units:  $70,000 to $79,999       6.311981e+01\n",
       "Value for Owner-Occupied Housing Units:  $80,000 to $89,999       8.134626e+01\n",
       "Value for Owner-Occupied Housing Units:  $90,000 to $99,999       8.409765e+01\n",
       "Value for Owner-Occupied Housing Units:  $100,000 to $124,999     2.377348e+02\n",
       "Value for Owner-Occupied Housing Units:  $125,000 to $149,999     2.432500e+02\n",
       "                                                                      ...     \n",
       "instBudget                                                        4.129466e+06\n",
       "instSize                                                          2.262125e+04\n",
       "T01                                                               4.769890e+05\n",
       "T09                                                               1.165635e+07\n",
       "T10                                                               2.538724e+05\n",
       "T11                                                               1.421991e+05\n",
       "T12                                                               6.994682e+05\n",
       "T13                                                               1.651855e+06\n",
       "T14                                                               4.559275e+03\n",
       "T15                                                               5.057282e+05\n",
       "T16                                                               5.740336e+05\n",
       "T19                                                               1.410835e+06\n",
       "T20                                                               2.958644e+04\n",
       "T21                                                               7.875606e+03\n",
       "T22                                                               1.727795e+05\n",
       "T23                                                               4.590444e+04\n",
       "T24                                                               9.773103e+05\n",
       "T25                                                               9.606874e+04\n",
       "T27                                                               4.657637e+04\n",
       "T28                                                               6.352277e+05\n",
       "T29                                                               5.121134e+04\n",
       "T40                                                               1.131068e+07\n",
       "T41                                                               1.568252e+06\n",
       "T50                                                               1.093826e+05\n",
       "T51                                                               2.228921e+05\n",
       "T53                                                               6.653698e+05\n",
       "T99                                                               6.684843e+04\n",
       "Latitude                                                          3.849942e+01\n",
       "Longitude                                                        -9.344837e+01\n",
       "Unnamed: 60                                                                NaN\n",
       "dtype: float64"
      ]
     },
     "execution_count": 122,
     "metadata": {},
     "output_type": "execute_result"
    }
   ],
   "source": [
    "sal.mean()"
   ]
  },
  {
   "cell_type": "code",
   "execution_count": 123,
   "metadata": {
    "collapsed": false
   },
   "outputs": [
    {
     "data": {
      "text/plain": [
       "(1412, 153)"
      ]
     },
     "execution_count": 123,
     "metadata": {},
     "output_type": "execute_result"
    }
   ],
   "source": [
    "# eliminate rows with missing Y values (NaN)\n",
    "sal['missingSalary'] = pd.isnull(sal['salary'])\n",
    "sal2 = sal[(sal.missingSalary == False)]\n",
    "sal2.shape"
   ]
  },
  {
   "cell_type": "code",
   "execution_count": 124,
   "metadata": {
    "collapsed": false
   },
   "outputs": [
    {
     "name": "stderr",
     "output_type": "stream",
     "text": [
      "C:\\Anaconda3\\lib\\site-packages\\pandas\\core\\frame.py:2756: SettingWithCopyWarning: \n",
      "A value is trying to be set on a copy of a slice from a DataFrame\n",
      "\n",
      "See the caveats in the documentation: http://pandas.pydata.org/pandas-docs/stable/indexing.html#indexing-view-versus-copy\n",
      "  downcast=downcast, **kwargs)\n"
     ]
    },
    {
     "data": {
      "text/plain": [
       "False"
      ]
     },
     "execution_count": 124,
     "metadata": {},
     "output_type": "execute_result"
    }
   ],
   "source": [
    "sal2.fillna(0, inplace=True)\n",
    "sal2.isnull().values.any()"
   ]
  },
  {
   "cell_type": "code",
   "execution_count": 125,
   "metadata": {
    "collapsed": false
   },
   "outputs": [],
   "source": [
    "# list of X vars to include\n",
    "# X_numeric_features = ['sup1', 'sup2', 'sup3', 'sup4', 'sup5', 'disabled', 'yearsInPosition', \n",
    "#          'yearsInProfession', 'age', 'cred1', 'cred2', 'inst1', 'inst2', 'inst3', 'inst4', 'inst5', 'instBudget', 'instSize']\n",
    "# X_numeric = sal2[X_numeric_features]\n",
    "# X_categorical_features = ['Function', 'gender', 'race', 'highestDegree', 'Category', 'instType']\n",
    "# X_categorical = sal2[X_categorical_features]\n",
    "numerics = ['int16', 'int32', 'int64', 'float16', 'float32', 'float64']\n",
    "X_numeric = sal2.select_dtypes(include=numerics)\n",
    "X_categorical = sal2.select_dtypes(exclude=numerics)"
   ]
  },
  {
   "cell_type": "code",
   "execution_count": 126,
   "metadata": {
    "collapsed": false
   },
   "outputs": [],
   "source": [
    "# create dummy variables for each of the categorical features\n",
    "# DOC: http://pandas.pydata.org/pandas-docs/stable/generated/pandas.get_dummies.html\n",
    "\n",
    "# Function_dummies = pd.get_dummies(X_categorical['Function'])\n",
    "# gender_dummies = pd.get_dummies(X_categorical['gender'])\n",
    "# race_dummies = pd.get_dummies(X_categorical['race'])\n",
    "# highestDegree_dummies = pd.get_dummies(X_categorical['highestDegree'])\n",
    "# Category_dummies = pd.get_dummies(X_categorical['Category'])\n",
    "# instType_dummies = pd.get_dummies(X_categorical['instType'])\n",
    "\n",
    "# X_dummy_features = pd.concat([Function_dummies, gender_dummies, race_dummies, highestDegree_dummies, Category_dummies, instType_dummies], axis=1)\n",
    "\n",
    "# # convert to ndarray\n",
    "# X_dummy_features = X_dummy_features.as_matrix()"
   ]
  },
  {
   "cell_type": "code",
   "execution_count": 127,
   "metadata": {
    "collapsed": false
   },
   "outputs": [],
   "source": [
    "# X_categorical.shape\n",
    "for i in X_categorical.columns:\n",
    "    temp_dummies = pd.get_dummies(X_categorical[i])\n",
    "    X_dummy_features = pd.concat([temp_dummies])\n",
    "#     print (i)\n",
    "# for i in X_catagorical.length()\n",
    "#     print i\n",
    "X_dummy_features = X_dummy_features.as_matrix()"
   ]
  },
  {
   "cell_type": "code",
   "execution_count": 128,
   "metadata": {
    "collapsed": false
   },
   "outputs": [],
   "source": [
    "# impute missing values in numerical features\n",
    "# DOC: http://scikit-learn.org/stable/modules/preprocessing.html\n",
    "\n",
    "from sklearn.preprocessing import Imputer\n",
    "imp = Imputer()\n",
    "imp.fit(X_numeric)\n",
    "X_numeric_imputed = imp.transform(X_numeric)"
   ]
  },
  {
   "cell_type": "code",
   "execution_count": 129,
   "metadata": {
    "collapsed": false
   },
   "outputs": [],
   "source": [
    "X = np.concatenate((X_dummy_features, X_numeric_imputed), axis=1)"
   ]
  },
  {
   "cell_type": "code",
   "execution_count": 130,
   "metadata": {
    "collapsed": false
   },
   "outputs": [
    {
     "name": "stdout",
     "output_type": "stream",
     "text": [
      "[ 77308.  70863.  56557. ...,  49088.  32000.  32000.]\n"
     ]
    }
   ],
   "source": [
    "# y is salary\n",
    "y = sal2.iloc[:, 98].values\n",
    "print(y)"
   ]
  },
  {
   "cell_type": "code",
   "execution_count": 131,
   "metadata": {
    "collapsed": true
   },
   "outputs": [],
   "source": [
    "# create training and test sets\n",
    "from sklearn.cross_validation import train_test_split\n",
    "\n",
    "X_train, X_test, y_train, y_test = train_test_split(\n",
    "         X, y, test_size=0.3, random_state=0)"
   ]
  },
  {
   "cell_type": "code",
   "execution_count": 132,
   "metadata": {
    "collapsed": true
   },
   "outputs": [],
   "source": [
    "# keep track of variance on test data, to graph\n",
    "var_to_graph = {}\n",
    "# bring residual sum of squares from regression1.ipynb\n",
    "var_to_graph['simpReg'] = 265376883.08"
   ]
  },
  {
   "cell_type": "code",
   "execution_count": 133,
   "metadata": {
    "collapsed": true
   },
   "outputs": [],
   "source": [
    "from sklearn import datasets, linear_model\n",
    "# DOC: http://scikit-learn.org/stable/modules/generated/sklearn.linear_model.LinearRegression.html"
   ]
  },
  {
   "cell_type": "code",
   "execution_count": 134,
   "metadata": {
    "collapsed": false
   },
   "outputs": [
    {
     "name": "stdout",
     "output_type": "stream",
     "text": [
      "Intercept: \n",
      " 0.406039062829\n",
      "Coefficients: \n",
      " [ -4.06038987e-01  -9.12167369e-13  -1.82544865e-12  -2.56689561e-11\n",
      "   6.03342051e-11  -2.24105016e-10   2.86109521e-10   6.80533407e-11\n",
      "  -3.23530883e-10  -1.64524586e-10  -3.49178280e-10   6.16620762e-10\n",
      "  -4.52973312e-10   1.11862898e-10   2.73636273e-10   1.74664476e-11\n",
      "  -2.78610716e-10  -3.67987012e-10  -1.45397159e-10   9.31346937e-10\n",
      "   2.97350137e-10   1.45876601e-10   6.34479542e-12  -3.25461141e-10\n",
      "   1.15076742e-10  -1.71175960e-10  -2.17623094e-11   7.38874819e-11\n",
      "   6.34283006e-11  -6.75369195e-11  -1.26091922e-11  -1.77568687e-11\n",
      "  -1.07048628e-10   4.68585402e-11  -1.78007008e-12  -1.12828143e-10\n",
      "   1.61434372e-10  -5.33273996e-11  -1.76926198e-10   3.60675724e-11\n",
      "   3.13990327e-11   7.75652060e-11   1.02826927e-11   4.34596191e-11\n",
      "  -1.54489279e-10  -6.10293959e-11   1.47009271e-11  -9.99617950e-11\n",
      "   1.27433779e-11   8.22634987e-11  -1.37854871e-10   1.39189919e-10\n",
      "  -2.70249432e-10  -1.27047921e-10   3.79937417e-11  -1.83530665e-12\n",
      "   2.70688468e-10   1.21225555e-10   1.33201692e-10   1.66548520e-11\n",
      "   1.34930861e-10   1.32001118e-11  -1.29424024e-10  -9.48093846e-11\n",
      "  -3.04211725e-11  -1.66719358e-10   2.00369254e-10  -1.68834271e-11\n",
      "  -3.62476545e-10   5.85149111e-11  -3.11608579e-11   1.71585037e-10\n",
      "  -7.41421812e-11   2.97262114e-11  -3.05197924e-12  -6.04951575e-11\n",
      "   1.37765371e-10   3.85584055e-10   2.72420086e-11   3.75648742e-11\n",
      "  -1.57857082e-10  -2.46695503e-10   3.50282403e-10   1.47402916e-10\n",
      "  -3.33602890e-10   2.07585981e-10  -2.96012424e-10  -3.49469285e-11\n",
      "   1.17729950e-10   2.88963988e-11   1.80828859e-10   1.32302229e-10\n",
      "   7.17655019e-11  -5.77566520e-12  -6.86327619e-11   1.26141725e-10\n",
      "  -2.98310870e-11  -1.25801426e-11   1.00000000e+00   4.19686142e-11\n",
      "   1.75292374e-10  -1.26563135e-10   8.68141815e-11  -1.74492632e-10\n",
      "   3.10698338e-10  -2.82101984e-11   1.14899402e-10  -1.29323635e-15\n",
      "   2.45706233e-13   8.84778362e-14   8.04391276e-15   2.49545176e-13\n",
      "  -4.84161322e-15  -3.81653043e-13  -4.57550664e-14  -8.41263994e-12\n",
      "  -3.50067197e-15  -4.21770258e-13  -8.27116153e-15  -2.32109124e-12\n",
      "   2.89297232e-13   1.14627058e-13   1.86235445e-12   1.87563506e-13\n",
      "   1.11066798e-12  -3.63087165e-13   2.67071087e-13   4.48886588e-13\n",
      "  -7.93028837e-15  -6.32549568e-14   3.52468055e-13  -3.45071194e-14\n",
      "   3.51697838e-14   7.44272699e-13  -9.65754055e-11   1.53731803e-10\n",
      "   0.00000000e+00]\n",
      "Residual sum of squares, training data: 0.00\n",
      "Residual sum of squares, test data: 0.00\n",
      "Variance score, training data: 1.00\n",
      "Distribution of prediction error on training data:\n"
     ]
    },
    {
     "data": {
      "image/png": "[encoded data removed]",
      "text/plain": [
       "<matplotlib.figure.Figure at 0x20f05f5ff98>"
      ]
     },
     "metadata": {},
     "output_type": "display_data"
    },
    {
     "name": "stdout",
     "output_type": "stream",
     "text": [
      "Distribution of prediction error on test data:\n"
     ]
    },
    {
     "data": {
      "image/png": "[encoded data removed]",
      "text/plain": [
       "<matplotlib.figure.Figure at 0x20f06771e10>"
      ]
     },
     "metadata": {},
     "output_type": "display_data"
    }
   ],
   "source": [
    "# Create linear regression object\n",
    "regr = linear_model.LinearRegression()\n",
    "\n",
    "# Train the model using the training sets\n",
    "X_train_no_intercept = X_train\n",
    "X_train = X_train.reshape(-1, X_train.shape[1])\n",
    "regr.fit(X_train, y_train)\n",
    "\n",
    "# The intercept\n",
    "print('Intercept: \\n', regr.intercept_)\n",
    "# The coefficients\n",
    "print('Coefficients: \\n', regr.coef_)\n",
    "# The mean square error\n",
    "print(\"Residual sum of squares, training data: %.2f\"\n",
    "      % np.mean((regr.predict(X_train) - y_train) ** 2))\n",
    "print(\"Residual sum of squares, test data: %.2f\"\n",
    "      % np.mean((regr.predict(X_test) - y_test) ** 2))\n",
    "var_to_graph['multReg_linear'] = np.mean((regr.predict(X_test) - y_test) ** 2)\n",
    "# Explained variance score: 1 is perfect prediction\n",
    "print('Variance score, training data: %.2f' % regr.score(X_train, y_train))\n",
    "#vector of prediction error\n",
    "print('Distribution of prediction error on training data:')\n",
    "predError = regr.predict(X_train) - y_train\n",
    "plt.hist(predError)\n",
    "plt.show()\n",
    "\n",
    "print('Distribution of prediction error on test data:')\n",
    "predError = regr.predict(X_test) - y_test\n",
    "plt.hist(predError)\n",
    "plt.show()"
   ]
  },
  {
   "cell_type": "code",
   "execution_count": 135,
   "metadata": {
    "collapsed": true
   },
   "outputs": [],
   "source": [
    "from sklearn.preprocessing import PolynomialFeatures\n",
    "# DOC: http://scikit-learn.org/stable/modules/preprocessing.html\n",
    "\n",
    "poly = PolynomialFeatures(2)\n",
    "X_poly = poly.fit_transform(X)"
   ]
  },
  {
   "cell_type": "code",
   "execution_count": 136,
   "metadata": {
    "collapsed": false
   },
   "outputs": [],
   "source": [
    "# create training and test sets\n",
    "from sklearn.cross_validation import train_test_split\n",
    "\n",
    "X_train, X_test, y_train, y_test = train_test_split(\n",
    "         X_poly, y, test_size=0.3, random_state=0)"
   ]
  },
  {
   "cell_type": "code",
   "execution_count": 137,
   "metadata": {
    "collapsed": false
   },
   "outputs": [
    {
     "name": "stdout",
     "output_type": "stream",
     "text": [
      "Intercept: \n",
      " 2996.67377111\n",
      "Coefficients: \n",
      " [ -3.58133084e+00   1.36871408e+01   1.33094376e-03 ...,   1.69081585e-03\n",
      "   0.00000000e+00   0.00000000e+00]\n",
      "Residual sum of squares, training data: 0.00\n",
      "Residual sum of squares, test data: 96054.35\n",
      "Variance score, training data: 1.00\n",
      "Distribution of prediction error on training data:\n"
     ]
    },
    {
     "data": {
      "image/png": "[encoded data removed]",
      "text/plain": [
       "<matplotlib.figure.Figure at 0x20f07552860>"
      ]
     },
     "metadata": {},
     "output_type": "display_data"
    },
    {
     "name": "stdout",
     "output_type": "stream",
     "text": [
      "Distribution of prediction error on test data:\n"
     ]
    },
    {
     "data": {
      "image/png": "[encoded data removed]",
      "text/plain": [
       "<matplotlib.figure.Figure at 0x20f068cfe10>"
      ]
     },
     "metadata": {},
     "output_type": "display_data"
    }
   ],
   "source": [
    "## POLYNOMINAL \n",
    "# Create linear regression object\n",
    "poly = linear_model.LinearRegression(normalize=True)\n",
    "\n",
    "# Train the model using the training sets\n",
    "X_train_no_intercept = X_train\n",
    "X_train = X_train.reshape(-1, X_train.shape[1])\n",
    "poly.fit(X_train, y_train)\n",
    "\n",
    "# The intercept\n",
    "print('Intercept: \\n', poly.intercept_)\n",
    "# The coefficients\n",
    "print('Coefficients: \\n', poly.coef_)\n",
    "# The mean square error\n",
    "print(\"Residual sum of squares, training data: %.2f\"\n",
    "      % np.mean((poly.predict(X_train) - y_train) ** 2))\n",
    "print(\"Residual sum of squares, test data: %.2f\"\n",
    "      % np.mean((poly.predict(X_test) - y_test) ** 2))\n",
    "var_to_graph['multReg_poly'] = np.mean((poly.predict(X_test) - y_test) ** 2)\n",
    "# Explained variance score: 1 is perfect prediction\n",
    "print('Variance score, training data: %.2f' % poly.score(X_train, y_train))\n",
    "#vector of prediction error\n",
    "print('Distribution of prediction error on training data:')\n",
    "predError = poly.predict(X_train) - y_train\n",
    "plt.hist(predError)\n",
    "plt.show()\n",
    "\n",
    "print('Distribution of prediction error on test data:')\n",
    "predError = poly.predict(X_test) - y_test\n",
    "plt.hist(predError)\n",
    "plt.show()"
   ]
  },
  {
   "cell_type": "code",
   "execution_count": 138,
   "metadata": {
    "collapsed": false
   },
   "outputs": [
    {
     "name": "stdout",
     "output_type": "stream",
     "text": [
      "Intercept: \n",
      " -1.4626129996e-07\n",
      "Coefficients: \n",
      " [  0.00000000e+00   1.76436121e-12  -8.15480771e-13  -1.74427051e-09\n",
      "   4.37739166e-09  -5.66285423e-10   7.52279563e-10   7.70406709e-10\n",
      "  -7.67645626e-10  -3.11501334e-09  -4.53540675e-09  -5.16546454e-09\n",
      "   9.90731225e-10   3.62348265e-11   2.50487988e-10   2.22998682e-07\n",
      "  -2.22840967e-07  -2.23472377e-07  -2.21354238e-07  -2.23062851e-07\n",
      "  -2.25110265e-07  -2.22227096e-07  -2.25258485e-07  -2.22180806e-07\n",
      "  -2.23807533e-07  -2.22575816e-07  -2.22686925e-07  -2.23271094e-07\n",
      "  -2.22580556e-07  -2.23104100e-07  -2.22811103e-07  -2.23104623e-07\n",
      "  -2.23240958e-07  -2.22913932e-07  -2.23106186e-07  -2.22887762e-07\n",
      "  -2.23070667e-07  -2.22809853e-07  -2.23258827e-07  -2.23025472e-07\n",
      "   8.86217432e-08  -8.83197344e-08  -8.83580534e-08  -8.88366876e-08\n",
      "  -8.90485253e-08  -8.85575691e-08  -8.87945590e-08  -8.85924936e-08\n",
      "  -8.86418977e-08  -8.87381795e-08  -8.88401126e-08  -8.85053913e-08\n",
      "  -8.81751497e-08  -8.82310293e-08  -8.86015860e-08  -8.89980406e-08\n",
      "  -8.86685547e-08  -8.91713936e-08  -8.89337024e-08  -8.88477157e-08\n",
      "  -8.89861589e-08  -8.83437508e-08  -8.79227373e-08  -8.85124535e-08\n",
      "  -9.56713567e-08   9.55022034e-08   9.56109253e-08   9.55806460e-08\n",
      "   9.59085409e-08   9.56242177e-08   9.56889889e-08   9.56458327e-08\n",
      "   9.58378126e-08   9.56556475e-08   9.56010931e-08   9.57396443e-08\n",
      "   9.53936037e-08   9.57813023e-08   9.55972475e-08   9.58519409e-08\n",
      "   9.55962840e-08   9.61167454e-08   9.52922404e-08   9.54020570e-08\n",
      "   9.53790184e-08   9.59059539e-08   9.55315247e-08   9.58307334e-08\n",
      "   5.03686956e-09   8.97717692e-10   1.68738363e-09   3.22865848e-09\n",
      "  -4.17214076e-09   3.17090385e-08   8.29927957e-09   1.57975636e-09\n",
      "  -4.61555539e-11   2.76597495e-11   1.00000000e+00   4.57690012e-10\n",
      "   8.33377355e-09   4.89703104e-10  -3.03295442e-09   2.23560194e-09\n",
      "   2.02430788e-09   1.64043047e-10   4.72674864e-10  -5.62898765e-16\n",
      "   4.24613707e-13  -4.51923268e-14   1.81993376e-16  -2.44588896e-13\n",
      "   2.01518024e-13   1.44053741e-13   1.71754091e-13  -3.30443296e-11\n",
      "  -7.90476522e-14   6.96000114e-13  -7.46320225e-14   1.84620387e-12\n",
      "  -4.81861181e-12  -8.35036951e-14  -4.96388165e-12   1.08047805e-13\n",
      "  -1.29947311e-12   1.36869295e-12  -3.98443822e-13  -1.44951582e-12\n",
      "   8.50035084e-15  -1.80244639e-14   1.95343149e-13   1.49411359e-13\n",
      "   4.40763745e-15  -3.79214984e-13   2.81055988e-09  -2.60242526e-09\n",
      "   0.00000000e+00]\n",
      "Residual sum of squares, training data: 0.00\n",
      "Residual sum of squares, test data: 0.00\n",
      "Variance score, training data: 1.00\n",
      "Distribution of prediction error on training data:\n"
     ]
    },
    {
     "data": {
      "image/png": "[encoded data removed]",
      "text/plain": [
       "<matplotlib.figure.Figure at 0x20f05f5f780>"
      ]
     },
     "metadata": {},
     "output_type": "display_data"
    },
    {
     "name": "stdout",
     "output_type": "stream",
     "text": [
      "Distribution of prediction error on test data:\n"
     ]
    },
    {
     "data": {
      "image/png": "[encoded data removed]",
      "text/plain": [
       "<matplotlib.figure.Figure at 0x20f03fc2fd0>"
      ]
     },
     "metadata": {},
     "output_type": "display_data"
    }
   ],
   "source": [
    "## RIDGE REGRESSION\n",
    "# DOC: http://scikit-learn.org/stable/modules/generated/sklearn.linear_model.Ridge.html\n",
    "\n",
    "# create training and test sets\n",
    "from sklearn.cross_validation import train_test_split\n",
    "\n",
    "X_train, X_test, y_train, y_test = train_test_split(\n",
    "         X, y, test_size=0.3, random_state=0)\n",
    "\n",
    "# Create linear regression object\n",
    "regr = linear_model.Ridge()\n",
    "\n",
    "# Train the model using the training sets\n",
    "X_train_no_intercept = X_train\n",
    "X_train = X_train.reshape(-1, X_train.shape[1])\n",
    "regr.fit(X_train, y_train)\n",
    "\n",
    "# The intercept\n",
    "print('Intercept: \\n', regr.intercept_)\n",
    "# The coefficients\n",
    "print('Coefficients: \\n', regr.coef_)\n",
    "# The mean square error\n",
    "print(\"Residual sum of squares, training data: %.2f\"\n",
    "      % np.mean((regr.predict(X_train) - y_train) ** 2))\n",
    "print(\"Residual sum of squares, test data: %.2f\"\n",
    "      % np.mean((regr.predict(X_test) - y_test) ** 2))\n",
    "var_to_graph['multReg_ridge'] = np.mean((regr.predict(X_test) - y_test) ** 2)\n",
    "# Explained variance score: 1 is perfect prediction\n",
    "print('Variance score, training data: %.2f' % regr.score(X_train, y_train))\n",
    "#vector of prediction error\n",
    "print('Distribution of prediction error on training data:')\n",
    "predError = regr.predict(X_train) - y_train\n",
    "plt.hist(predError)\n",
    "plt.show()\n",
    "\n",
    "print('Distribution of prediction error on test data:')\n",
    "predError = regr.predict(X_test) - y_test\n",
    "plt.hist(predError)\n",
    "plt.show()"
   ]
  },
  {
   "cell_type": "code",
   "execution_count": 139,
   "metadata": {
    "collapsed": false
   },
   "outputs": [
    {
     "data": {
      "image/png": "[encoded data removed]",
      "text/plain": [
       "<matplotlib.figure.Figure at 0x20f0609e198>"
      ]
     },
     "metadata": {},
     "output_type": "display_data"
    }
   ],
   "source": [
    "# bar graph of dict with Residual Sum of Squares on test datasets\n",
    "\n",
    "#var_to_graph['multReg_poly'] = 0\n",
    "plt.bar(range(len(var_to_graph)), var_to_graph.values(), align='center')\n",
    "plt.xticks(range(len(var_to_graph)), var_to_graph.keys())\n",
    "\n",
    "plt.show()"
   ]
  },
  {
   "cell_type": "code",
   "execution_count": null,
   "metadata": {
    "collapsed": true
   },
   "outputs": [],
   "source": []
  }
 ],
 "metadata": {
  "kernelspec": {
   "display_name": "Python 3",
   "language": "python",
   "name": "python3"
  },
  "language_info": {
   "codemirror_mode": {
    "name": "ipython",
    "version": 3
   },
   "file_extension": ".py",
   "mimetype": "text/x-python",
   "name": "python",
   "nbconvert_exporter": "python",
   "pygments_lexer": "ipython3",
   "version": "3.5.1"
  }
 },
 "nbformat": 4,
 "nbformat_minor": 0
}
