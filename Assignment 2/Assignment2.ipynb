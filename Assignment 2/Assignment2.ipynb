{
 "cells": [
  {
   "cell_type": "code",
   "execution_count": 3,
   "metadata": {
    "collapsed": true
   },
   "outputs": [],
   "source": [
    "# State Tax Collections http://www2.census.gov/govs/statetax/14staxcd.txt\n",
    "# Geo Data http://download.geonames.org/export/dump/\n",
    "# Subsidized Households 2008 http://www.HUDuser.org/portal/picture2008/2008_tract.zip\n",
    "# Zip Codes https://www.aggdata.com/node/86\n",
    "# Unemployment Rates http://www.bls.gov/lau/laucntycur14.txt\n",
    "import numpy as np\n",
    "import pandas as pd\n",
    "import matplotlib.pyplot as plt\n",
    "%matplotlib inline"
   ]
  },
  {
   "cell_type": "code",
   "execution_count": 4,
   "metadata": {
    "collapsed": false
   },
   "outputs": [
    {
     "data": {
      "text/plain": [
       "(1444, 152)"
      ]
     },
     "execution_count": 4,
     "metadata": {},
     "output_type": "execute_result"
    }
   ],
   "source": [
    "sal = pd.read_csv('../Data/salaries_parent.csv')\n",
    "sal.shape"
   ]
  },
  {
   "cell_type": "code",
   "execution_count": 5,
   "metadata": {
    "collapsed": true
   },
   "outputs": [
    {
     "data": {
      "text/html": [
       "<div>\n",
       "<table border=\"1\" class=\"dataframe\">\n",
       "  <thead>\n",
       "    <tr style=\"text-align: right;\">\n",
       "      <th></th>\n",
       "      <th>Zip</th>\n",
       "      <th>B19013_001</th>\n",
       "      <th>no_male_hs_p</th>\n",
       "      <th>no_female_hs_p</th>\n",
       "      <th>at_least_hs_male_p</th>\n",
       "      <th>at_least_hs_female_p</th>\n",
       "      <th>at_least_bach_male_p</th>\n",
       "      <th>at_least_bach_female_p</th>\n",
       "      <th>male_unemployment</th>\n",
       "      <th>female_unemployment</th>\n",
       "      <th>...</th>\n",
       "      <th>T51</th>\n",
       "      <th>T53</th>\n",
       "      <th>T99</th>\n",
       "      <th>Place Name</th>\n",
       "      <th>State_y</th>\n",
       "      <th>State Abbreviation</th>\n",
       "      <th>County</th>\n",
       "      <th>Latitude</th>\n",
       "      <th>Longitude</th>\n",
       "      <th>Unnamed: 60</th>\n",
       "    </tr>\n",
       "  </thead>\n",
       "  <tbody>\n",
       "    <tr>\n",
       "      <th>0</th>\n",
       "      <td>1003</td>\n",
       "      <td>NaN</td>\n",
       "      <td>0.0</td>\n",
       "      <td>0.0</td>\n",
       "      <td>100.0</td>\n",
       "      <td>100.0</td>\n",
       "      <td>35.46798</td>\n",
       "      <td>76.470588</td>\n",
       "      <td>6.92323</td>\n",
       "      <td>7.939714</td>\n",
       "      <td>...</td>\n",
       "      <td>246850</td>\n",
       "      <td>0</td>\n",
       "      <td>197503</td>\n",
       "      <td>Amherst</td>\n",
       "      <td>Massachusetts</td>\n",
       "      <td>MA</td>\n",
       "      <td>Hampshire</td>\n",
       "      <td>42.3919</td>\n",
       "      <td>-72.5248</td>\n",
       "      <td>NaN</td>\n",
       "    </tr>\n",
       "    <tr>\n",
       "      <th>1</th>\n",
       "      <td>1003</td>\n",
       "      <td>NaN</td>\n",
       "      <td>0.0</td>\n",
       "      <td>0.0</td>\n",
       "      <td>100.0</td>\n",
       "      <td>100.0</td>\n",
       "      <td>35.46798</td>\n",
       "      <td>76.470588</td>\n",
       "      <td>6.92323</td>\n",
       "      <td>7.939714</td>\n",
       "      <td>...</td>\n",
       "      <td>246850</td>\n",
       "      <td>0</td>\n",
       "      <td>197503</td>\n",
       "      <td>Amherst</td>\n",
       "      <td>Massachusetts</td>\n",
       "      <td>MA</td>\n",
       "      <td>Hampshire</td>\n",
       "      <td>42.3919</td>\n",
       "      <td>-72.5248</td>\n",
       "      <td>NaN</td>\n",
       "    </tr>\n",
       "    <tr>\n",
       "      <th>2</th>\n",
       "      <td>1003</td>\n",
       "      <td>NaN</td>\n",
       "      <td>0.0</td>\n",
       "      <td>0.0</td>\n",
       "      <td>100.0</td>\n",
       "      <td>100.0</td>\n",
       "      <td>35.46798</td>\n",
       "      <td>76.470588</td>\n",
       "      <td>6.92323</td>\n",
       "      <td>7.939714</td>\n",
       "      <td>...</td>\n",
       "      <td>246850</td>\n",
       "      <td>0</td>\n",
       "      <td>197503</td>\n",
       "      <td>Amherst</td>\n",
       "      <td>Massachusetts</td>\n",
       "      <td>MA</td>\n",
       "      <td>Hampshire</td>\n",
       "      <td>42.3919</td>\n",
       "      <td>-72.5248</td>\n",
       "      <td>NaN</td>\n",
       "    </tr>\n",
       "    <tr>\n",
       "      <th>3</th>\n",
       "      <td>1003</td>\n",
       "      <td>NaN</td>\n",
       "      <td>0.0</td>\n",
       "      <td>0.0</td>\n",
       "      <td>100.0</td>\n",
       "      <td>100.0</td>\n",
       "      <td>35.46798</td>\n",
       "      <td>76.470588</td>\n",
       "      <td>6.92323</td>\n",
       "      <td>7.939714</td>\n",
       "      <td>...</td>\n",
       "      <td>246850</td>\n",
       "      <td>0</td>\n",
       "      <td>197503</td>\n",
       "      <td>Amherst</td>\n",
       "      <td>Massachusetts</td>\n",
       "      <td>MA</td>\n",
       "      <td>Hampshire</td>\n",
       "      <td>42.3919</td>\n",
       "      <td>-72.5248</td>\n",
       "      <td>NaN</td>\n",
       "    </tr>\n",
       "    <tr>\n",
       "      <th>4</th>\n",
       "      <td>1003</td>\n",
       "      <td>NaN</td>\n",
       "      <td>0.0</td>\n",
       "      <td>0.0</td>\n",
       "      <td>100.0</td>\n",
       "      <td>100.0</td>\n",
       "      <td>35.46798</td>\n",
       "      <td>76.470588</td>\n",
       "      <td>6.92323</td>\n",
       "      <td>7.939714</td>\n",
       "      <td>...</td>\n",
       "      <td>246850</td>\n",
       "      <td>0</td>\n",
       "      <td>197503</td>\n",
       "      <td>Amherst</td>\n",
       "      <td>Massachusetts</td>\n",
       "      <td>MA</td>\n",
       "      <td>Hampshire</td>\n",
       "      <td>42.3919</td>\n",
       "      <td>-72.5248</td>\n",
       "      <td>NaN</td>\n",
       "    </tr>\n",
       "  </tbody>\n",
       "</table>\n",
       "<p>5 rows × 152 columns</p>\n",
       "</div>"
      ],
      "text/plain": [
       "    Zip  B19013_001  no_male_hs_p  no_female_hs_p  at_least_hs_male_p  \\\n",
       "0  1003         NaN           0.0             0.0               100.0   \n",
       "1  1003         NaN           0.0             0.0               100.0   \n",
       "2  1003         NaN           0.0             0.0               100.0   \n",
       "3  1003         NaN           0.0             0.0               100.0   \n",
       "4  1003         NaN           0.0             0.0               100.0   \n",
       "\n",
       "   at_least_hs_female_p  at_least_bach_male_p  at_least_bach_female_p  \\\n",
       "0                 100.0              35.46798               76.470588   \n",
       "1                 100.0              35.46798               76.470588   \n",
       "2                 100.0              35.46798               76.470588   \n",
       "3                 100.0              35.46798               76.470588   \n",
       "4                 100.0              35.46798               76.470588   \n",
       "\n",
       "   male_unemployment  female_unemployment     ...          T51  T53     T99  \\\n",
       "0            6.92323             7.939714     ...       246850    0  197503   \n",
       "1            6.92323             7.939714     ...       246850    0  197503   \n",
       "2            6.92323             7.939714     ...       246850    0  197503   \n",
       "3            6.92323             7.939714     ...       246850    0  197503   \n",
       "4            6.92323             7.939714     ...       246850    0  197503   \n",
       "\n",
       "   Place Name        State_y  State Abbreviation     County  Latitude  \\\n",
       "0     Amherst  Massachusetts                  MA  Hampshire   42.3919   \n",
       "1     Amherst  Massachusetts                  MA  Hampshire   42.3919   \n",
       "2     Amherst  Massachusetts                  MA  Hampshire   42.3919   \n",
       "3     Amherst  Massachusetts                  MA  Hampshire   42.3919   \n",
       "4     Amherst  Massachusetts                  MA  Hampshire   42.3919   \n",
       "\n",
       "   Longitude  Unnamed: 60  \n",
       "0   -72.5248          NaN  \n",
       "1   -72.5248          NaN  \n",
       "2   -72.5248          NaN  \n",
       "3   -72.5248          NaN  \n",
       "4   -72.5248          NaN  \n",
       "\n",
       "[5 rows x 152 columns]"
      ]
     },
     "execution_count": 5,
     "metadata": {},
     "output_type": "execute_result"
    }
   ],
   "source": [
    "sal.head(5)"
   ]
  },
  {
   "cell_type": "code",
   "execution_count": 6,
   "metadata": {
    "collapsed": true
   },
   "outputs": [
    {
     "data": {
      "text/plain": [
       "Zip                                                               5.465744e+04\n",
       "B19013_001                                                        4.768131e+04\n",
       "no_male_hs_p                                                      9.085053e+00\n",
       "no_female_hs_p                                                    8.216080e+00\n",
       "at_least_hs_male_p                                                9.091495e+01\n",
       "at_least_hs_female_p                                              9.178392e+01\n",
       "at_least_bach_male_p                                              4.441843e+01\n",
       "at_least_bach_female_p                                            4.946938e+01\n",
       "male_unemployment                                                 6.126710e+00\n",
       "female_unemployment                                               5.986530e+00\n",
       "snap                                                              1.092064e+01\n",
       "renter                                                            5.686790e+01\n",
       "median_rent                                                       8.978499e+02\n",
       "foreign_born                                                      1.058272e+01\n",
       "Value for Owner-Occupied Housing Units:  Total:                   3.091736e+03\n",
       "Value for Owner-Occupied Housing Units:  Less than $10,000        3.996399e+01\n",
       "Value for Owner-Occupied Housing Units:  $10,000 to $14,999       2.112258e+01\n",
       "Value for Owner-Occupied Housing Units:  $15,000 to $19,999       2.540512e+01\n",
       "Value for Owner-Occupied Housing Units:  $20,000 to $24,999       1.516690e+01\n",
       "Value for Owner-Occupied Housing Units:  $25,000 to $29,999       1.322645e+01\n",
       "Value for Owner-Occupied Housing Units:  $30,000 to $34,999       1.762535e+01\n",
       "Value for Owner-Occupied Housing Units:  $35,000 to $39,999       1.441482e+01\n",
       "Value for Owner-Occupied Housing Units:  $40,000 to $49,999       3.240374e+01\n",
       "Value for Owner-Occupied Housing Units:  $50,000 to $59,999       4.661150e+01\n",
       "Value for Owner-Occupied Housing Units:  $60,000 to $69,999       5.576870e+01\n",
       "Value for Owner-Occupied Housing Units:  $70,000 to $79,999       6.311981e+01\n",
       "Value for Owner-Occupied Housing Units:  $80,000 to $89,999       8.134626e+01\n",
       "Value for Owner-Occupied Housing Units:  $90,000 to $99,999       8.409765e+01\n",
       "Value for Owner-Occupied Housing Units:  $100,000 to $124,999     2.377348e+02\n",
       "Value for Owner-Occupied Housing Units:  $125,000 to $149,999     2.432500e+02\n",
       "                                                                      ...     \n",
       "instBudget                                                        4.129466e+06\n",
       "instSize                                                          2.262125e+04\n",
       "T01                                                               4.769890e+05\n",
       "T09                                                               1.165635e+07\n",
       "T10                                                               2.538724e+05\n",
       "T11                                                               1.421991e+05\n",
       "T12                                                               6.994682e+05\n",
       "T13                                                               1.651855e+06\n",
       "T14                                                               4.559275e+03\n",
       "T15                                                               5.057282e+05\n",
       "T16                                                               5.740336e+05\n",
       "T19                                                               1.410835e+06\n",
       "T20                                                               2.958644e+04\n",
       "T21                                                               7.875606e+03\n",
       "T22                                                               1.727795e+05\n",
       "T23                                                               4.590444e+04\n",
       "T24                                                               9.773103e+05\n",
       "T25                                                               9.606874e+04\n",
       "T27                                                               4.657637e+04\n",
       "T28                                                               6.352277e+05\n",
       "T29                                                               5.121134e+04\n",
       "T40                                                               1.131068e+07\n",
       "T41                                                               1.568252e+06\n",
       "T50                                                               1.093826e+05\n",
       "T51                                                               2.228921e+05\n",
       "T53                                                               6.653698e+05\n",
       "T99                                                               6.684843e+04\n",
       "Latitude                                                          3.849942e+01\n",
       "Longitude                                                        -9.344837e+01\n",
       "Unnamed: 60                                                                NaN\n",
       "dtype: float64"
      ]
     },
     "execution_count": 6,
     "metadata": {},
     "output_type": "execute_result"
    }
   ],
   "source": [
    "sal.mean()"
   ]
  },
  {
   "cell_type": "code",
   "execution_count": 7,
   "metadata": {
    "collapsed": false
   },
   "outputs": [
    {
     "data": {
      "text/plain": [
       "(1412, 153)"
      ]
     },
     "execution_count": 7,
     "metadata": {},
     "output_type": "execute_result"
    }
   ],
   "source": [
    "# eliminate rows with missing Y values (NaN)\n",
    "sal['missingSalary'] = pd.isnull(sal['salary'])\n",
    "sal2 = sal[(sal.missingSalary == False)]\n",
    "sal2.shape"
   ]
  },
  {
   "cell_type": "code",
   "execution_count": 8,
   "metadata": {
    "collapsed": false,
    "scrolled": true
   },
   "outputs": [
    {
     "data": {
      "text/plain": [
       "Zip                                                               5.445178e+04\n",
       "B19013_001                                                        4.753726e+04\n",
       "no_male_hs_p                                                      8.709738e+00\n",
       "no_female_hs_p                                                    8.205198e+00\n",
       "at_least_hs_male_p                                                9.129026e+01\n",
       "at_least_hs_female_p                                              9.179480e+01\n",
       "at_least_bach_male_p                                              4.492534e+01\n",
       "at_least_bach_female_p                                            4.949808e+01\n",
       "male_unemployment                                                 6.185822e+00\n",
       "female_unemployment                                               6.009028e+00\n",
       "snap                                                              1.096319e+01\n",
       "renter                                                            5.689759e+01\n",
       "median_rent                                                       8.972642e+02\n",
       "foreign_born                                                      1.026200e+01\n",
       "Value for Owner-Occupied Housing Units:  Total:                   3.113390e+03\n",
       "Value for Owner-Occupied Housing Units:  Less than $10,000        4.046246e+01\n",
       "Value for Owner-Occupied Housing Units:  $10,000 to $14,999       2.136615e+01\n",
       "Value for Owner-Occupied Housing Units:  $15,000 to $19,999       2.550212e+01\n",
       "Value for Owner-Occupied Housing Units:  $20,000 to $24,999       1.521459e+01\n",
       "Value for Owner-Occupied Housing Units:  $25,000 to $29,999       1.341856e+01\n",
       "Value for Owner-Occupied Housing Units:  $30,000 to $34,999       1.774008e+01\n",
       "Value for Owner-Occupied Housing Units:  $35,000 to $39,999       1.430878e+01\n",
       "Value for Owner-Occupied Housing Units:  $40,000 to $49,999       3.264943e+01\n",
       "Value for Owner-Occupied Housing Units:  $50,000 to $59,999       4.690156e+01\n",
       "Value for Owner-Occupied Housing Units:  $60,000 to $69,999       5.592068e+01\n",
       "Value for Owner-Occupied Housing Units:  $70,000 to $79,999       6.338527e+01\n",
       "Value for Owner-Occupied Housing Units:  $80,000 to $89,999       8.204674e+01\n",
       "Value for Owner-Occupied Housing Units:  $90,000 to $99,999       8.473867e+01\n",
       "Value for Owner-Occupied Housing Units:  $100,000 to $124,999     2.404703e+02\n",
       "Value for Owner-Occupied Housing Units:  $125,000 to $149,999     2.457805e+02\n",
       "                                                                      ...     \n",
       "instSize                                                          2.256723e+04\n",
       "T01                                                               4.665582e+05\n",
       "T09                                                               1.167621e+07\n",
       "T10                                                               2.528808e+05\n",
       "T11                                                               1.418665e+05\n",
       "T12                                                               7.015823e+05\n",
       "T13                                                               1.657789e+06\n",
       "T14                                                               4.588911e+03\n",
       "T15                                                               5.062845e+05\n",
       "T16                                                               5.754139e+05\n",
       "T19                                                               1.418188e+06\n",
       "T20                                                               2.864230e+04\n",
       "T21                                                               7.899011e+03\n",
       "T22                                                               1.741541e+05\n",
       "T23                                                               4.593960e+04\n",
       "T24                                                               9.830547e+05\n",
       "T25                                                               9.632422e+04\n",
       "T27                                                               4.692029e+04\n",
       "T28                                                               6.393979e+05\n",
       "T29                                                               4.994647e+04\n",
       "T40                                                               1.145061e+07\n",
       "T41                                                               1.588204e+06\n",
       "T50                                                               1.088505e+05\n",
       "T51                                                               2.208721e+05\n",
       "T53                                                               6.670288e+05\n",
       "T99                                                               6.779894e+04\n",
       "Latitude                                                          3.844009e+01\n",
       "Longitude                                                        -9.332890e+01\n",
       "Unnamed: 60                                                                NaN\n",
       "missingSalary                                                     0.000000e+00\n",
       "dtype: float64"
      ]
     },
     "execution_count": 8,
     "metadata": {},
     "output_type": "execute_result"
    }
   ],
   "source": [
    "sal2.mean()"
   ]
  },
  {
   "cell_type": "code",
   "execution_count": 10,
   "metadata": {
    "collapsed": false
   },
   "outputs": [
    {
     "name": "stderr",
     "output_type": "stream",
     "text": [
      "C:\\Anaconda3\\lib\\site-packages\\pandas\\core\\generic.py:3178: SettingWithCopyWarning: \n",
      "A value is trying to be set on a copy of a slice from a DataFrame\n",
      "\n",
      "See the caveats in the documentation: http://pandas.pydata.org/pandas-docs/stable/indexing.html#indexing-view-versus-copy\n",
      "  self._update_inplace(new_data)\n"
     ]
    },
    {
     "data": {
      "text/plain": [
       "True"
      ]
     },
     "execution_count": 10,
     "metadata": {},
     "output_type": "execute_result"
    }
   ],
   "source": [
    "sal2.fillna(sal2.mean(), inplace=True)\n",
    "sal2.isnull().values.any()"
   ]
  },
  {
   "cell_type": "code",
   "execution_count": 11,
   "metadata": {
    "collapsed": false
   },
   "outputs": [],
   "source": [
    "# list of X vars to include\n",
    "# X_numeric_features = ['sup1', 'sup2', 'sup3', 'sup4', 'sup5', 'disabled', 'yearsInPosition', \n",
    "#          'yearsInProfession', 'age', 'cred1', 'cred2', 'inst1', 'inst2', 'inst3', 'inst4', 'inst5', 'instBudget', 'instSize']\n",
    "# X_numeric = sal2[X_numeric_features]\n",
    "# X_categorical_features = ['Function', 'gender', 'race', 'highestDegree', 'Category', 'instType']\n",
    "# X_categorical = sal2[X_categorical_features]\n",
    "numerics = ['int16', 'int32', 'int64', 'float16', 'float32', 'float64']\n",
    "X_numeric = sal2.select_dtypes(include=numerics)\n",
    "X_categorical = sal2.select_dtypes(exclude=numerics)"
   ]
  },
  {
   "cell_type": "code",
   "execution_count": 12,
   "metadata": {
    "collapsed": false
   },
   "outputs": [],
   "source": [
    "# create dummy variables for each of the categorical features\n",
    "# DOC: http://pandas.pydata.org/pandas-docs/stable/generated/pandas.get_dummies.html\n",
    "\n",
    "# Function_dummies = pd.get_dummies(X_categorical['Function'])\n",
    "# gender_dummies = pd.get_dummies(X_categorical['gender'])\n",
    "# race_dummies = pd.get_dummies(X_categorical['race'])\n",
    "# highestDegree_dummies = pd.get_dummies(X_categorical['highestDegree'])\n",
    "# Category_dummies = pd.get_dummies(X_categorical['Category'])\n",
    "# instType_dummies = pd.get_dummies(X_categorical['instType'])\n",
    "\n",
    "# X_dummy_features = pd.concat([Function_dummies, gender_dummies, race_dummies, highestDegree_dummies, Category_dummies, instType_dummies], axis=1)\n",
    "\n",
    "# # convert to ndarray\n",
    "# X_dummy_features = X_dummy_features.as_matrix()"
   ]
  },
  {
   "cell_type": "code",
   "execution_count": 13,
   "metadata": {
    "collapsed": false
   },
   "outputs": [],
   "source": [
    "# X_categorical.shape\n",
    "for i in X_categorical.columns:\n",
    "    temp_dummies = pd.get_dummies(X_categorical[i])\n",
    "    X_dummy_features = pd.concat([temp_dummies])\n",
    "#     print (i)\n",
    "# for i in X_catagorical.length()\n",
    "#     print i\n",
    "X_dummy_features = X_dummy_features.as_matrix()"
   ]
  },
  {
   "cell_type": "code",
   "execution_count": 14,
   "metadata": {
    "collapsed": false
   },
   "outputs": [],
   "source": [
    "# impute missing values in numerical features\n",
    "# DOC: http://scikit-learn.org/stable/modules/preprocessing.html\n",
    "\n",
    "from sklearn.preprocessing import Imputer\n",
    "imp = Imputer()\n",
    "imp.fit(X_numeric)\n",
    "X_numeric_imputed = imp.transform(X_numeric)"
   ]
  },
  {
   "cell_type": "code",
   "execution_count": 15,
   "metadata": {
    "collapsed": false
   },
   "outputs": [],
   "source": [
    "X = np.concatenate((X_dummy_features, X_numeric_imputed), axis=1)"
   ]
  },
  {
   "cell_type": "code",
   "execution_count": 16,
   "metadata": {
    "collapsed": false
   },
   "outputs": [
    {
     "name": "stdout",
     "output_type": "stream",
     "text": [
      "[ 77308.  70863.  56557. ...,  49088.  32000.  32000.]\n"
     ]
    }
   ],
   "source": [
    "# y is salary\n",
    "y = sal2.iloc[:, 98].values\n",
    "print(y)"
   ]
  },
  {
   "cell_type": "code",
   "execution_count": 17,
   "metadata": {
    "collapsed": true
   },
   "outputs": [],
   "source": [
    "# create training and test sets\n",
    "from sklearn.cross_validation import train_test_split\n",
    "\n",
    "X_train, X_test, y_train, y_test = train_test_split(\n",
    "         X, y, test_size=0.3, random_state=0)"
   ]
  },
  {
   "cell_type": "code",
   "execution_count": 18,
   "metadata": {
    "collapsed": true
   },
   "outputs": [],
   "source": [
    "# keep track of variance on test data, to graph\n",
    "var_to_graph = {}\n",
    "# bring residual sum of squares from regression1.ipynb\n",
    "var_to_graph['simpReg'] = 265376883.08"
   ]
  },
  {
   "cell_type": "code",
   "execution_count": 19,
   "metadata": {
    "collapsed": true
   },
   "outputs": [],
   "source": [
    "from sklearn import datasets, linear_model\n",
    "# DOC: http://scikit-learn.org/stable/modules/generated/sklearn.linear_model.LinearRegression.html"
   ]
  },
  {
   "cell_type": "code",
   "execution_count": 20,
   "metadata": {
    "collapsed": false
   },
   "outputs": [
    {
     "name": "stdout",
     "output_type": "stream",
     "text": [
      "Intercept: \n",
      " 0.0164928239101\n",
      "Coefficients: \n",
      " [ -1.64928257e-02  -7.68446179e-14  -7.35325429e-14   1.19013055e-11\n",
      "  -2.58529316e-11  -1.18959877e-11   2.59155995e-11   6.38966657e-12\n",
      "  -1.11206877e-12   1.08015088e-10  -6.06557834e-11  -2.13005328e-11\n",
      "   8.41652686e-12   1.67072205e-12   5.64050958e-11  -1.53663714e-12\n",
      "  -1.79233567e-11   3.28717022e-11   1.81554712e-11  -7.57277307e-11\n",
      "  -2.81703521e-11   8.22138782e-12   8.32089957e-12   4.01961629e-11\n",
      "  -2.61467917e-11   9.55178482e-12   2.97221671e-11  -1.24460492e-11\n",
      "  -1.42890259e-11   1.42885926e-11  -2.79597813e-12   3.60573333e-13\n",
      "   1.85082906e-12   4.21392294e-12  -1.28025207e-12   5.86706332e-12\n",
      "  -4.74470962e-12   3.32244060e-12   3.82801435e-12   1.21775669e-12\n",
      "  -1.42485156e-12   1.16836926e-11  -2.10615206e-12  -6.70793564e-12\n",
      "  -4.94635582e-13   2.50173916e-12  -1.39057295e-11   1.19936040e-11\n",
      "   2.37337450e-12   7.45046646e-12  -1.09096152e-12  -1.24495372e-11\n",
      "   7.46511728e-12   6.16538071e-13   5.22892493e-13  -6.33364812e-12\n",
      "   9.58897675e-14   8.28602345e-12   8.93923228e-13  -8.10092352e-12\n",
      "  -1.43324264e-11   6.81885538e-12   2.21719943e-11  -1.87768683e-11\n",
      "   1.12038677e-12  -3.11119110e-12   4.02841985e-13  -1.56906931e-12\n",
      "   1.53588313e-11  -1.60008866e-12   1.44381284e-12  -1.50761901e-12\n",
      "  -4.74375801e-12  -5.54461674e-12   7.69969331e-12   4.58456043e-12\n",
      "  -3.36353070e-12  -6.28359170e-12  -8.74903221e-12   9.77123471e-12\n",
      "   7.43598271e-12  -5.30182582e-12  -1.86168483e-11  -1.54136643e-12\n",
      "   2.72772083e-12  -1.26028493e-11   3.67755942e-11  -1.05443544e-11\n",
      "   2.16915480e-11   6.96458177e-13  -6.96457367e-13   1.34386371e-11\n",
      "  -2.84117160e-12  -4.99974166e-13   3.67624234e-12  -1.59982648e-11\n",
      "   6.39262828e-12   2.76133292e-12   1.00000000e+00  -5.34966357e-12\n",
      "  -9.15648707e-12   1.22470318e-11   2.33360049e-11  -2.20709178e-11\n",
      "  -8.43886502e-12  -7.78808550e-13  -1.54494740e-11   1.78676518e-16\n",
      "   3.78490642e-14  -4.57966998e-15   1.56125113e-16  -6.66654232e-15\n",
      "   7.62064023e-15  -1.26704203e-14   4.85028684e-15  -6.04872489e-13\n",
      "  -7.53563878e-15   1.30173650e-14  -5.27355937e-16   8.99749025e-14\n",
      "  -2.38063042e-13   1.74166237e-15   1.12726235e-13  -3.10515502e-16\n",
      "  -4.50438298e-14   5.63568289e-14  -3.34281214e-15  -2.65013705e-14\n",
      "  -1.07552856e-16   1.76247905e-15  -2.28012054e-14   9.91741411e-15\n",
      "   3.08780779e-16   1.51892388e-14   2.26391838e-11  -3.96457236e-11]\n",
      "Residual sum of squares, training data: 0.00\n",
      "Residual sum of squares, test data: 0.00\n",
      "Variance score, training data: 1.00\n",
      "Distribution of prediction error on training data:\n"
     ]
    },
    {
     "data": {
      "image/png": "[encoded data removed]",
      "text/plain": [
       "<matplotlib.figure.Figure at 0x120dec01d68>"
      ]
     },
     "metadata": {},
     "output_type": "display_data"
    },
    {
     "name": "stdout",
     "output_type": "stream",
     "text": [
      "Distribution of prediction error on test data:\n"
     ]
    },
    {
     "data": {
      "image/png": "[encoded data removed]",
      "text/plain": [
       "<matplotlib.figure.Figure at 0x120e229c9b0>"
      ]
     },
     "metadata": {},
     "output_type": "display_data"
    }
   ],
   "source": [
    "# Create linear regression object\n",
    "regr = linear_model.LinearRegression()\n",
    "\n",
    "# Train the model using the training sets\n",
    "X_train_no_intercept = X_train\n",
    "X_train = X_train.reshape(-1, X_train.shape[1])\n",
    "regr.fit(X_train, y_train)\n",
    "\n",
    "# The intercept\n",
    "print('Intercept: \\n', regr.intercept_)\n",
    "# The coefficients\n",
    "print('Coefficients: \\n', regr.coef_)\n",
    "# The mean square error\n",
    "print(\"Residual sum of squares, training data: %.2f\"\n",
    "      % np.mean((regr.predict(X_train) - y_train) ** 2))\n",
    "print(\"Residual sum of squares, test data: %.2f\"\n",
    "      % np.mean((regr.predict(X_test) - y_test) ** 2))\n",
    "var_to_graph['multReg_linear'] = np.mean((regr.predict(X_test) - y_test) ** 2)\n",
    "# Explained variance score: 1 is perfect prediction\n",
    "print('Variance score, training data: %.2f' % regr.score(X_train, y_train))\n",
    "#vector of prediction error\n",
    "print('Distribution of prediction error on training data:')\n",
    "predError = regr.predict(X_train) - y_train\n",
    "plt.hist(predError)\n",
    "plt.show()\n",
    "\n",
    "print('Distribution of prediction error on test data:')\n",
    "predError = regr.predict(X_test) - y_test\n",
    "plt.hist(predError)\n",
    "plt.show()"
   ]
  },
  {
   "cell_type": "code",
   "execution_count": 21,
   "metadata": {
    "collapsed": true
   },
   "outputs": [],
   "source": [
    "from sklearn.preprocessing import PolynomialFeatures\n",
    "# DOC: http://scikit-learn.org/stable/modules/preprocessing.html\n",
    "\n",
    "poly = PolynomialFeatures(2)\n",
    "X_poly = poly.fit_transform(X)"
   ]
  },
  {
   "cell_type": "code",
   "execution_count": 22,
   "metadata": {
    "collapsed": false
   },
   "outputs": [],
   "source": [
    "# create training and test sets\n",
    "from sklearn.cross_validation import train_test_split\n",
    "\n",
    "X_train, X_test, y_train, y_test = train_test_split(\n",
    "         X_poly, y, test_size=0.3, random_state=0)"
   ]
  },
  {
   "cell_type": "code",
   "execution_count": 23,
   "metadata": {
    "collapsed": false
   },
   "outputs": [
    {
     "name": "stdout",
     "output_type": "stream",
     "text": [
      "Intercept: \n",
      " 1348.37501055\n",
      "Coefficients: \n",
      " [  1.48380533e+00  -7.74358354e-01   4.55466950e-04 ...,  -5.14941113e-02\n",
      "   1.79467100e-02  -1.12598783e-03]\n",
      "Residual sum of squares, training data: 0.00\n",
      "Residual sum of squares, test data: 27126.91\n",
      "Variance score, training data: 1.00\n",
      "Distribution of prediction error on training data:\n"
     ]
    },
    {
     "data": {
      "image/png": "[encoded data removed]",
      "text/plain": [
       "<matplotlib.figure.Figure at 0x120e228a5f8>"
      ]
     },
     "metadata": {},
     "output_type": "display_data"
    },
    {
     "name": "stdout",
     "output_type": "stream",
     "text": [
      "Distribution of prediction error on test data:\n"
     ]
    },
    {
     "data": {
      "image/png": "[encoded data removed]",
      "text/plain": [
       "<matplotlib.figure.Figure at 0x120e256f710>"
      ]
     },
     "metadata": {},
     "output_type": "display_data"
    }
   ],
   "source": [
    "## POLYNOMINAL \n",
    "# Create linear regression object\n",
    "poly = linear_model.LinearRegression(normalize=True)\n",
    "\n",
    "# Train the model using the training sets\n",
    "X_train_no_intercept = X_train\n",
    "X_train = X_train.reshape(-1, X_train.shape[1])\n",
    "poly.fit(X_train, y_train)\n",
    "\n",
    "# The intercept\n",
    "print('Intercept: \\n', poly.intercept_)\n",
    "# The coefficients\n",
    "print('Coefficients: \\n', poly.coef_)\n",
    "# The mean square error\n",
    "print(\"Residual sum of squares, training data: %.2f\"\n",
    "      % np.mean((poly.predict(X_train) - y_train) ** 2))\n",
    "print(\"Residual sum of squares, test data: %.2f\"\n",
    "      % np.mean((poly.predict(X_test) - y_test) ** 2))\n",
    "var_to_graph['multReg_poly'] = np.mean((poly.predict(X_test) - y_test) ** 2)\n",
    "# Explained variance score: 1 is perfect prediction\n",
    "print('Variance score, training data: %.2f' % poly.score(X_train, y_train))\n",
    "#vector of prediction error\n",
    "print('Distribution of prediction error on training data:')\n",
    "predError = poly.predict(X_train) - y_train\n",
    "plt.hist(predError)\n",
    "plt.show()\n",
    "\n",
    "print('Distribution of prediction error on test data:')\n",
    "predError = poly.predict(X_test) - y_test\n",
    "plt.hist(predError)\n",
    "plt.show()"
   ]
  },
  {
   "cell_type": "code",
   "execution_count": 24,
   "metadata": {
    "collapsed": false
   },
   "outputs": [
    {
     "name": "stdout",
     "output_type": "stream",
     "text": [
      "Intercept: \n",
      " 2.28638964472e-06\n",
      "Coefficients: \n",
      " [  0.00000000e+00   1.60500735e-12  -3.68977735e-12  -7.99596402e-10\n",
      "   4.51249890e-09   7.99622062e-10   2.23963286e-09   8.63273180e-10\n",
      "  -2.95417627e-10  -2.49173619e-09  -3.18196878e-09  -6.54228130e-09\n",
      "   4.36468469e-10   2.19320019e-10  -1.28537238e-09   2.26733737e-07\n",
      "  -2.26667191e-07  -2.27511428e-07  -2.25276346e-07  -2.26388452e-07\n",
      "  -2.27809632e-07  -2.26578192e-07  -2.28623178e-07  -2.26052798e-07\n",
      "  -2.27375270e-07  -2.26575288e-07  -2.26367900e-07  -2.27023363e-07\n",
      "  -2.26375600e-07  -2.26786208e-07  -2.26549778e-07  -2.26873681e-07\n",
      "  -2.26999512e-07  -2.26641642e-07  -2.26861565e-07  -2.26664719e-07\n",
      "  -2.26830708e-07  -2.26584832e-07  -2.27165060e-07  -2.26576820e-07\n",
      "   8.16433519e-08  -8.15174618e-08  -8.15576408e-08  -8.18399684e-08\n",
      "  -8.19042546e-08  -8.16119674e-08  -8.17107723e-08  -8.15956564e-08\n",
      "  -8.16314484e-08  -8.16790659e-08  -8.17790836e-08  -8.15203625e-08\n",
      "  -8.12903370e-08  -8.15452917e-08  -8.13679397e-08  -8.19891463e-08\n",
      "  -8.17879992e-08  -8.19496867e-08  -8.20988803e-08  -8.16226754e-08\n",
      "  -8.21196544e-08  -8.13506236e-08  -8.09742156e-08  -8.15112614e-08\n",
      "  -3.01821125e-08   3.00021512e-08   3.04090382e-08   3.00082224e-08\n",
      "   3.04652756e-08   3.01534103e-08   3.01820915e-08   3.01668142e-08\n",
      "   3.02751988e-08   3.00839590e-08   3.00948532e-08   3.02591418e-08\n",
      "   3.00685951e-08   3.02506779e-08   3.01780393e-08   3.03113818e-08\n",
      "   3.02837638e-08   3.05000799e-08   2.96812901e-08   3.00042660e-08\n",
      "   2.99332859e-08   3.04228826e-08   3.00578790e-08   3.01372071e-08\n",
      "   7.08602853e-09  -2.68407516e-08  -2.75250950e-08   1.90489331e-09\n",
      "  -2.95360883e-09   3.07850985e-08   7.72981931e-09   8.90836758e-10\n",
      "  -1.69434022e-11   1.05865730e-11   1.00000000e+00   3.63469706e-10\n",
      "   7.95631422e-09   1.01381282e-09  -2.94575032e-09  -2.25520474e-09\n",
      "   1.83880208e-09   1.82552536e-10   3.24398341e-10  -1.58756843e-15\n",
      "   1.61280436e-12  -6.63819679e-14   9.80504732e-16  -2.98183981e-13\n",
      "   1.91700987e-13   2.44873890e-13   2.14092045e-13  -1.60969944e-11\n",
      "  -5.64277608e-14   6.44165395e-13  -6.29417432e-14   2.64601411e-12\n",
      "  -3.42769101e-12  -2.02660131e-13  -4.07189676e-12  -4.55114973e-14\n",
      "  -1.90242259e-12  -3.27948872e-14  -3.81417843e-13  -1.07407509e-12\n",
      "   6.98049952e-15   4.37991425e-14  -1.37996731e-13   8.72025755e-14\n",
      "  -2.12943013e-14  -4.36324010e-13   5.02430436e-09  -2.70661461e-09]\n",
      "Residual sum of squares, training data: 0.00\n",
      "Residual sum of squares, test data: 0.00\n",
      "Variance score, training data: 1.00\n",
      "Distribution of prediction error on training data:\n"
     ]
    },
    {
     "data": {
      "image/png": "[encoded data removed]",
      "text/plain": [
       "<matplotlib.figure.Figure at 0x120e2125550>"
      ]
     },
     "metadata": {},
     "output_type": "display_data"
    },
    {
     "name": "stdout",
     "output_type": "stream",
     "text": [
      "Distribution of prediction error on test data:\n"
     ]
    },
    {
     "data": {
      "image/png": "[encoded data removed]",
      "text/plain": [
       "<matplotlib.figure.Figure at 0x120e2592240>"
      ]
     },
     "metadata": {},
     "output_type": "display_data"
    }
   ],
   "source": [
    "## RIDGE REGRESSION\n",
    "# DOC: http://scikit-learn.org/stable/modules/generated/sklearn.linear_model.Ridge.html\n",
    "\n",
    "# create training and test sets\n",
    "from sklearn.cross_validation import train_test_split\n",
    "\n",
    "X_train, X_test, y_train, y_test = train_test_split(\n",
    "         X, y, test_size=0.3, random_state=0)\n",
    "\n",
    "# Create linear regression object\n",
    "regr = linear_model.Ridge()\n",
    "\n",
    "# Train the model using the training sets\n",
    "X_train_no_intercept = X_train\n",
    "X_train = X_train.reshape(-1, X_train.shape[1])\n",
    "regr.fit(X_train, y_train)\n",
    "\n",
    "# The intercept\n",
    "print('Intercept: \\n', regr.intercept_)\n",
    "# The coefficients\n",
    "print('Coefficients: \\n', regr.coef_)\n",
    "# The mean square error\n",
    "print(\"Residual sum of squares, training data: %.2f\"\n",
    "      % np.mean((regr.predict(X_train) - y_train) ** 2))\n",
    "print(\"Residual sum of squares, test data: %.2f\"\n",
    "      % np.mean((regr.predict(X_test) - y_test) ** 2))\n",
    "var_to_graph['multReg_ridge'] = np.mean((regr.predict(X_test) - y_test) ** 2)\n",
    "# Explained variance score: 1 is perfect prediction\n",
    "print('Variance score, training data: %.2f' % regr.score(X_train, y_train))\n",
    "#vector of prediction error\n",
    "print('Distribution of prediction error on training data:')\n",
    "predError = regr.predict(X_train) - y_train\n",
    "plt.hist(predError)\n",
    "plt.show()\n",
    "\n",
    "print('Distribution of prediction error on test data:')\n",
    "predError = regr.predict(X_test) - y_test\n",
    "plt.hist(predError)\n",
    "plt.show()"
   ]
  },
  {
   "cell_type": "code",
   "execution_count": 25,
   "metadata": {
    "collapsed": false
   },
   "outputs": [
    {
     "data": {
      "image/png": "[encoded data removed]",
      "text/plain": [
       "<matplotlib.figure.Figure at 0x120e25e5b00>"
      ]
     },
     "metadata": {},
     "output_type": "display_data"
    }
   ],
   "source": [
    "# bar graph of dict with Residual Sum of Squares on test datasets\n",
    "\n",
    "#var_to_graph['multReg_poly'] = 0\n",
    "plt.bar(range(len(var_to_graph)), var_to_graph.values(), align='center')\n",
    "plt.xticks(range(len(var_to_graph)), var_to_graph.keys())\n",
    "\n",
    "plt.show()"
   ]
  },
  {
   "cell_type": "code",
   "execution_count": null,
   "metadata": {
    "collapsed": true
   },
   "outputs": [],
   "source": []
  }
 ],
 "metadata": {
  "kernelspec": {
   "display_name": "Python 3",
   "language": "python",
   "name": "python3"
  },
  "language_info": {
   "codemirror_mode": {
    "name": "ipython",
    "version": 3
   },
   "file_extension": ".py",
   "mimetype": "text/x-python",
   "name": "python",
   "nbconvert_exporter": "python",
   "pygments_lexer": "ipython3",
   "version": "3.5.1"
  }
 },
 "nbformat": 4,
 "nbformat_minor": 0
}
