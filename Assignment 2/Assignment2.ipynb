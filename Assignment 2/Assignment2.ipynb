{
 "cells": [
  {
   "cell_type": "code",
   "execution_count": 121,
   "metadata": {
    "collapsed": true
   },
   "outputs": [],
   "source": [
    "# State Tax Collections http://www2.census.gov/govs/statetax/14staxcd.txt\n",
    "# Geo Data http://download.geonames.org/export/dump/\n",
    "# Subsidized Households 2008 http://www.HUDuser.org/portal/picture2008/2008_tract.zip\n",
    "# Zip Codes https://www.aggdata.com/node/86\n",
    "# Unemployment Rates http://www.bls.gov/lau/laucntycur14.txt\n",
    "import numpy as np\n",
    "import pandas as pd\n",
    "import matplotlib.pyplot as plt\n",
    "%matplotlib inline"
   ]
  },
  {
   "cell_type": "code",
   "execution_count": 122,
   "metadata": {
    "collapsed": false
   },
   "outputs": [
    {
     "data": {
      "text/plain": [
       "(1444, 152)"
      ]
     },
     "execution_count": 122,
     "metadata": {},
     "output_type": "execute_result"
    }
   ],
   "source": [
    "sal = pd.read_csv('../Data/salaries_parent.csv')\n",
    "sal.shape"
   ]
  },
  {
   "cell_type": "code",
   "execution_count": 123,
   "metadata": {
    "collapsed": false
   },
   "outputs": [
    {
     "data": {
      "text/html": [
       "<div>\n",
       "<table border=\"1\" class=\"dataframe\">\n",
       "  <thead>\n",
       "    <tr style=\"text-align: right;\">\n",
       "      <th></th>\n",
       "      <th>Zip</th>\n",
       "      <th>B19013_001</th>\n",
       "      <th>no_male_hs_p</th>\n",
       "      <th>no_female_hs_p</th>\n",
       "      <th>at_least_hs_male_p</th>\n",
       "      <th>at_least_hs_female_p</th>\n",
       "      <th>at_least_bach_male_p</th>\n",
       "      <th>at_least_bach_female_p</th>\n",
       "      <th>male_unemployment</th>\n",
       "      <th>female_unemployment</th>\n",
       "      <th>...</th>\n",
       "      <th>T51</th>\n",
       "      <th>T53</th>\n",
       "      <th>T99</th>\n",
       "      <th>Place Name</th>\n",
       "      <th>State_y</th>\n",
       "      <th>State Abbreviation</th>\n",
       "      <th>County</th>\n",
       "      <th>Latitude</th>\n",
       "      <th>Longitude</th>\n",
       "      <th>Unnamed: 60</th>\n",
       "    </tr>\n",
       "  </thead>\n",
       "  <tbody>\n",
       "    <tr>\n",
       "      <th>0</th>\n",
       "      <td>1003</td>\n",
       "      <td>NaN</td>\n",
       "      <td>0.0</td>\n",
       "      <td>0.0</td>\n",
       "      <td>100.0</td>\n",
       "      <td>100.0</td>\n",
       "      <td>35.46798</td>\n",
       "      <td>76.470588</td>\n",
       "      <td>6.92323</td>\n",
       "      <td>7.939714</td>\n",
       "      <td>...</td>\n",
       "      <td>246850</td>\n",
       "      <td>0</td>\n",
       "      <td>197503</td>\n",
       "      <td>Amherst</td>\n",
       "      <td>Massachusetts</td>\n",
       "      <td>MA</td>\n",
       "      <td>Hampshire</td>\n",
       "      <td>42.3919</td>\n",
       "      <td>-72.5248</td>\n",
       "      <td>NaN</td>\n",
       "    </tr>\n",
       "    <tr>\n",
       "      <th>1</th>\n",
       "      <td>1003</td>\n",
       "      <td>NaN</td>\n",
       "      <td>0.0</td>\n",
       "      <td>0.0</td>\n",
       "      <td>100.0</td>\n",
       "      <td>100.0</td>\n",
       "      <td>35.46798</td>\n",
       "      <td>76.470588</td>\n",
       "      <td>6.92323</td>\n",
       "      <td>7.939714</td>\n",
       "      <td>...</td>\n",
       "      <td>246850</td>\n",
       "      <td>0</td>\n",
       "      <td>197503</td>\n",
       "      <td>Amherst</td>\n",
       "      <td>Massachusetts</td>\n",
       "      <td>MA</td>\n",
       "      <td>Hampshire</td>\n",
       "      <td>42.3919</td>\n",
       "      <td>-72.5248</td>\n",
       "      <td>NaN</td>\n",
       "    </tr>\n",
       "    <tr>\n",
       "      <th>2</th>\n",
       "      <td>1003</td>\n",
       "      <td>NaN</td>\n",
       "      <td>0.0</td>\n",
       "      <td>0.0</td>\n",
       "      <td>100.0</td>\n",
       "      <td>100.0</td>\n",
       "      <td>35.46798</td>\n",
       "      <td>76.470588</td>\n",
       "      <td>6.92323</td>\n",
       "      <td>7.939714</td>\n",
       "      <td>...</td>\n",
       "      <td>246850</td>\n",
       "      <td>0</td>\n",
       "      <td>197503</td>\n",
       "      <td>Amherst</td>\n",
       "      <td>Massachusetts</td>\n",
       "      <td>MA</td>\n",
       "      <td>Hampshire</td>\n",
       "      <td>42.3919</td>\n",
       "      <td>-72.5248</td>\n",
       "      <td>NaN</td>\n",
       "    </tr>\n",
       "    <tr>\n",
       "      <th>3</th>\n",
       "      <td>1003</td>\n",
       "      <td>NaN</td>\n",
       "      <td>0.0</td>\n",
       "      <td>0.0</td>\n",
       "      <td>100.0</td>\n",
       "      <td>100.0</td>\n",
       "      <td>35.46798</td>\n",
       "      <td>76.470588</td>\n",
       "      <td>6.92323</td>\n",
       "      <td>7.939714</td>\n",
       "      <td>...</td>\n",
       "      <td>246850</td>\n",
       "      <td>0</td>\n",
       "      <td>197503</td>\n",
       "      <td>Amherst</td>\n",
       "      <td>Massachusetts</td>\n",
       "      <td>MA</td>\n",
       "      <td>Hampshire</td>\n",
       "      <td>42.3919</td>\n",
       "      <td>-72.5248</td>\n",
       "      <td>NaN</td>\n",
       "    </tr>\n",
       "    <tr>\n",
       "      <th>4</th>\n",
       "      <td>1003</td>\n",
       "      <td>NaN</td>\n",
       "      <td>0.0</td>\n",
       "      <td>0.0</td>\n",
       "      <td>100.0</td>\n",
       "      <td>100.0</td>\n",
       "      <td>35.46798</td>\n",
       "      <td>76.470588</td>\n",
       "      <td>6.92323</td>\n",
       "      <td>7.939714</td>\n",
       "      <td>...</td>\n",
       "      <td>246850</td>\n",
       "      <td>0</td>\n",
       "      <td>197503</td>\n",
       "      <td>Amherst</td>\n",
       "      <td>Massachusetts</td>\n",
       "      <td>MA</td>\n",
       "      <td>Hampshire</td>\n",
       "      <td>42.3919</td>\n",
       "      <td>-72.5248</td>\n",
       "      <td>NaN</td>\n",
       "    </tr>\n",
       "  </tbody>\n",
       "</table>\n",
       "<p>5 rows × 152 columns</p>\n",
       "</div>"
      ],
      "text/plain": [
       "    Zip  B19013_001  no_male_hs_p  no_female_hs_p  at_least_hs_male_p  \\\n",
       "0  1003         NaN           0.0             0.0               100.0   \n",
       "1  1003         NaN           0.0             0.0               100.0   \n",
       "2  1003         NaN           0.0             0.0               100.0   \n",
       "3  1003         NaN           0.0             0.0               100.0   \n",
       "4  1003         NaN           0.0             0.0               100.0   \n",
       "\n",
       "   at_least_hs_female_p  at_least_bach_male_p  at_least_bach_female_p  \\\n",
       "0                 100.0              35.46798               76.470588   \n",
       "1                 100.0              35.46798               76.470588   \n",
       "2                 100.0              35.46798               76.470588   \n",
       "3                 100.0              35.46798               76.470588   \n",
       "4                 100.0              35.46798               76.470588   \n",
       "\n",
       "   male_unemployment  female_unemployment     ...          T51  T53     T99  \\\n",
       "0            6.92323             7.939714     ...       246850    0  197503   \n",
       "1            6.92323             7.939714     ...       246850    0  197503   \n",
       "2            6.92323             7.939714     ...       246850    0  197503   \n",
       "3            6.92323             7.939714     ...       246850    0  197503   \n",
       "4            6.92323             7.939714     ...       246850    0  197503   \n",
       "\n",
       "   Place Name        State_y  State Abbreviation     County  Latitude  \\\n",
       "0     Amherst  Massachusetts                  MA  Hampshire   42.3919   \n",
       "1     Amherst  Massachusetts                  MA  Hampshire   42.3919   \n",
       "2     Amherst  Massachusetts                  MA  Hampshire   42.3919   \n",
       "3     Amherst  Massachusetts                  MA  Hampshire   42.3919   \n",
       "4     Amherst  Massachusetts                  MA  Hampshire   42.3919   \n",
       "\n",
       "   Longitude  Unnamed: 60  \n",
       "0   -72.5248          NaN  \n",
       "1   -72.5248          NaN  \n",
       "2   -72.5248          NaN  \n",
       "3   -72.5248          NaN  \n",
       "4   -72.5248          NaN  \n",
       "\n",
       "[5 rows x 152 columns]"
      ]
     },
     "execution_count": 123,
     "metadata": {},
     "output_type": "execute_result"
    }
   ],
   "source": [
    "sal.head(5)"
   ]
  },
  {
   "cell_type": "code",
   "execution_count": 124,
   "metadata": {
    "collapsed": false
   },
   "outputs": [
    {
     "data": {
      "text/plain": [
       "Zip                                                               5.465744e+04\n",
       "B19013_001                                                        4.768131e+04\n",
       "no_male_hs_p                                                      9.085053e+00\n",
       "no_female_hs_p                                                    8.216080e+00\n",
       "at_least_hs_male_p                                                9.091495e+01\n",
       "at_least_hs_female_p                                              9.178392e+01\n",
       "at_least_bach_male_p                                              4.441843e+01\n",
       "at_least_bach_female_p                                            4.946938e+01\n",
       "male_unemployment                                                 6.126710e+00\n",
       "female_unemployment                                               5.986530e+00\n",
       "snap                                                              1.092064e+01\n",
       "renter                                                            5.686790e+01\n",
       "median_rent                                                       8.978499e+02\n",
       "foreign_born                                                      1.058272e+01\n",
       "Value for Owner-Occupied Housing Units:  Total:                   3.091736e+03\n",
       "Value for Owner-Occupied Housing Units:  Less than $10,000        3.996399e+01\n",
       "Value for Owner-Occupied Housing Units:  $10,000 to $14,999       2.112258e+01\n",
       "Value for Owner-Occupied Housing Units:  $15,000 to $19,999       2.540512e+01\n",
       "Value for Owner-Occupied Housing Units:  $20,000 to $24,999       1.516690e+01\n",
       "Value for Owner-Occupied Housing Units:  $25,000 to $29,999       1.322645e+01\n",
       "Value for Owner-Occupied Housing Units:  $30,000 to $34,999       1.762535e+01\n",
       "Value for Owner-Occupied Housing Units:  $35,000 to $39,999       1.441482e+01\n",
       "Value for Owner-Occupied Housing Units:  $40,000 to $49,999       3.240374e+01\n",
       "Value for Owner-Occupied Housing Units:  $50,000 to $59,999       4.661150e+01\n",
       "Value for Owner-Occupied Housing Units:  $60,000 to $69,999       5.576870e+01\n",
       "Value for Owner-Occupied Housing Units:  $70,000 to $79,999       6.311981e+01\n",
       "Value for Owner-Occupied Housing Units:  $80,000 to $89,999       8.134626e+01\n",
       "Value for Owner-Occupied Housing Units:  $90,000 to $99,999       8.409765e+01\n",
       "Value for Owner-Occupied Housing Units:  $100,000 to $124,999     2.377348e+02\n",
       "Value for Owner-Occupied Housing Units:  $125,000 to $149,999     2.432500e+02\n",
       "                                                                      ...     \n",
       "instBudget                                                        4.129466e+06\n",
       "instSize                                                          2.262125e+04\n",
       "T01                                                               4.769890e+05\n",
       "T09                                                               1.165635e+07\n",
       "T10                                                               2.538724e+05\n",
       "T11                                                               1.421991e+05\n",
       "T12                                                               6.994682e+05\n",
       "T13                                                               1.651855e+06\n",
       "T14                                                               4.559275e+03\n",
       "T15                                                               5.057282e+05\n",
       "T16                                                               5.740336e+05\n",
       "T19                                                               1.410835e+06\n",
       "T20                                                               2.958644e+04\n",
       "T21                                                               7.875606e+03\n",
       "T22                                                               1.727795e+05\n",
       "T23                                                               4.590444e+04\n",
       "T24                                                               9.773103e+05\n",
       "T25                                                               9.606874e+04\n",
       "T27                                                               4.657637e+04\n",
       "T28                                                               6.352277e+05\n",
       "T29                                                               5.121134e+04\n",
       "T40                                                               1.131068e+07\n",
       "T41                                                               1.568252e+06\n",
       "T50                                                               1.093826e+05\n",
       "T51                                                               2.228921e+05\n",
       "T53                                                               6.653698e+05\n",
       "T99                                                               6.684843e+04\n",
       "Latitude                                                          3.849942e+01\n",
       "Longitude                                                        -9.344837e+01\n",
       "Unnamed: 60                                                                NaN\n",
       "dtype: float64"
      ]
     },
     "execution_count": 124,
     "metadata": {},
     "output_type": "execute_result"
    }
   ],
   "source": [
    "sal.mean()"
   ]
  },
  {
   "cell_type": "code",
   "execution_count": 125,
   "metadata": {
    "collapsed": false
   },
   "outputs": [
    {
     "data": {
      "text/plain": [
       "(1412, 153)"
      ]
     },
     "execution_count": 125,
     "metadata": {},
     "output_type": "execute_result"
    }
   ],
   "source": [
    "# eliminate rows with missing Y values (NaN)\n",
    "sal['missingSalary'] = pd.isnull(sal['salary'])\n",
    "sal2 = sal[(sal.missingSalary == False)]\n",
    "sal2.shape"
   ]
  },
  {
   "cell_type": "code",
   "execution_count": 126,
   "metadata": {
    "collapsed": false,
    "scrolled": true
   },
   "outputs": [
    {
     "data": {
      "text/plain": [
       "Zip                                                               5.445178e+04\n",
       "B19013_001                                                        4.753726e+04\n",
       "no_male_hs_p                                                      8.709738e+00\n",
       "no_female_hs_p                                                    8.205198e+00\n",
       "at_least_hs_male_p                                                9.129026e+01\n",
       "at_least_hs_female_p                                              9.179480e+01\n",
       "at_least_bach_male_p                                              4.492534e+01\n",
       "at_least_bach_female_p                                            4.949808e+01\n",
       "male_unemployment                                                 6.185822e+00\n",
       "female_unemployment                                               6.009028e+00\n",
       "snap                                                              1.096319e+01\n",
       "renter                                                            5.689759e+01\n",
       "median_rent                                                       8.972642e+02\n",
       "foreign_born                                                      1.026200e+01\n",
       "Value for Owner-Occupied Housing Units:  Total:                   3.113390e+03\n",
       "Value for Owner-Occupied Housing Units:  Less than $10,000        4.046246e+01\n",
       "Value for Owner-Occupied Housing Units:  $10,000 to $14,999       2.136615e+01\n",
       "Value for Owner-Occupied Housing Units:  $15,000 to $19,999       2.550212e+01\n",
       "Value for Owner-Occupied Housing Units:  $20,000 to $24,999       1.521459e+01\n",
       "Value for Owner-Occupied Housing Units:  $25,000 to $29,999       1.341856e+01\n",
       "Value for Owner-Occupied Housing Units:  $30,000 to $34,999       1.774008e+01\n",
       "Value for Owner-Occupied Housing Units:  $35,000 to $39,999       1.430878e+01\n",
       "Value for Owner-Occupied Housing Units:  $40,000 to $49,999       3.264943e+01\n",
       "Value for Owner-Occupied Housing Units:  $50,000 to $59,999       4.690156e+01\n",
       "Value for Owner-Occupied Housing Units:  $60,000 to $69,999       5.592068e+01\n",
       "Value for Owner-Occupied Housing Units:  $70,000 to $79,999       6.338527e+01\n",
       "Value for Owner-Occupied Housing Units:  $80,000 to $89,999       8.204674e+01\n",
       "Value for Owner-Occupied Housing Units:  $90,000 to $99,999       8.473867e+01\n",
       "Value for Owner-Occupied Housing Units:  $100,000 to $124,999     2.404703e+02\n",
       "Value for Owner-Occupied Housing Units:  $125,000 to $149,999     2.457805e+02\n",
       "                                                                      ...     \n",
       "instSize                                                          2.256723e+04\n",
       "T01                                                               4.665582e+05\n",
       "T09                                                               1.167621e+07\n",
       "T10                                                               2.528808e+05\n",
       "T11                                                               1.418665e+05\n",
       "T12                                                               7.015823e+05\n",
       "T13                                                               1.657789e+06\n",
       "T14                                                               4.588911e+03\n",
       "T15                                                               5.062845e+05\n",
       "T16                                                               5.754139e+05\n",
       "T19                                                               1.418188e+06\n",
       "T20                                                               2.864230e+04\n",
       "T21                                                               7.899011e+03\n",
       "T22                                                               1.741541e+05\n",
       "T23                                                               4.593960e+04\n",
       "T24                                                               9.830547e+05\n",
       "T25                                                               9.632422e+04\n",
       "T27                                                               4.692029e+04\n",
       "T28                                                               6.393979e+05\n",
       "T29                                                               4.994647e+04\n",
       "T40                                                               1.145061e+07\n",
       "T41                                                               1.588204e+06\n",
       "T50                                                               1.088505e+05\n",
       "T51                                                               2.208721e+05\n",
       "T53                                                               6.670288e+05\n",
       "T99                                                               6.779894e+04\n",
       "Latitude                                                          3.844009e+01\n",
       "Longitude                                                        -9.332890e+01\n",
       "Unnamed: 60                                                                NaN\n",
       "missingSalary                                                     0.000000e+00\n",
       "dtype: float64"
      ]
     },
     "execution_count": 126,
     "metadata": {},
     "output_type": "execute_result"
    }
   ],
   "source": [
    "sal2.mean()"
   ]
  },
  {
   "cell_type": "code",
   "execution_count": 127,
   "metadata": {
    "collapsed": false
   },
   "outputs": [
    {
     "name": "stderr",
     "output_type": "stream",
     "text": [
      "C:\\Anaconda3\\lib\\site-packages\\pandas\\core\\generic.py:3178: SettingWithCopyWarning: \n",
      "A value is trying to be set on a copy of a slice from a DataFrame\n",
      "\n",
      "See the caveats in the documentation: http://pandas.pydata.org/pandas-docs/stable/indexing.html#indexing-view-versus-copy\n",
      "  self._update_inplace(new_data)\n"
     ]
    },
    {
     "data": {
      "text/plain": [
       "True"
      ]
     },
     "execution_count": 127,
     "metadata": {},
     "output_type": "execute_result"
    }
   ],
   "source": [
    "sal2.fillna(sal2.mean(), inplace=True)\n",
    "sal2.isnull().values.any()"
   ]
  },
  {
   "cell_type": "code",
   "execution_count": 128,
   "metadata": {
    "collapsed": false
   },
   "outputs": [
    {
     "data": {
      "text/plain": [
       "(1412, 17)"
      ]
     },
     "execution_count": 128,
     "metadata": {},
     "output_type": "execute_result"
    }
   ],
   "source": [
    "# list of X vars to include\n",
    "# X_numeric_features = ['sup1', 'sup2', 'sup3', 'sup4', 'sup5', 'disabled', 'yearsInPosition', \n",
    "#          'yearsInProfession', 'age', 'cred1', 'cred2', 'inst1', 'inst2', 'inst3', 'inst4', 'inst5', 'instBudget', 'instSize']\n",
    "# X_numeric = sal2[X_numeric_features]\n",
    "# X_categorical_features = ['Function', 'gender', 'race', 'highestDegree', 'Category', 'instType']\n",
    "# X_categorical = sal2[X_categorical_features]\n",
    "numerics = ['int16', 'int32', 'int64', 'float16', 'float32', 'float64']\n",
    "X_numeric = sal2.select_dtypes(include=numerics)\n",
    "X_categorical = sal2.select_dtypes(exclude=numerics)\n",
    "X_categorical.shape"
   ]
  },
  {
   "cell_type": "code",
   "execution_count": 129,
   "metadata": {
    "collapsed": false
   },
   "outputs": [],
   "source": [
    "# impute missing values in numerical features\n",
    "# DOC: http://scikit-learn.org/stable/modules/preprocessing.html\n",
    "\n",
    "from sklearn.preprocessing import Imputer\n",
    "imp = Imputer()\n",
    "imp.fit(X_numeric)\n",
    "X_numeric_imputed = imp.transform(X_numeric)"
   ]
  },
  {
   "cell_type": "code",
   "execution_count": 130,
   "metadata": {
    "collapsed": false
   },
   "outputs": [],
   "source": [
    "# create dummy variables for each of the categorical features\n",
    "# DOC: http://pandas.pydata.org/pandas-docs/stable/generated/pandas.get_dummies.html\n",
    "\n",
    "# Function_dummies = pd.get_dummies(X_categorical['Function'])\n",
    "# gender_dummies = pd.get_dummies(X_categorical['gender'])\n",
    "# race_dummies = pd.get_dummies(X_categorical['race'])\n",
    "# highestDegree_dummies = pd.get_dummies(X_categorical['highestDegree'])\n",
    "# Category_dummies = pd.get_dummies(X_categorical['Category'])\n",
    "# instType_dummies = pd.get_dummies(X_categorical['instType'])\n",
    "\n",
    "# X_dummy_features = pd.concat([Function_dummies, gender_dummies, race_dummies, highestDegree_dummies, Category_dummies, instType_dummies], axis=1)\n",
    "\n",
    "# # convert to ndarray\n",
    "# X_dummy_features = X_dummy_features.as_matrix()"
   ]
  },
  {
   "cell_type": "code",
   "execution_count": 131,
   "metadata": {
    "collapsed": false
   },
   "outputs": [],
   "source": [
    "X_dummy_features = []\n",
    "for i in X_categorical.columns:\n",
    "    temp_dummies = pd.get_dummies(X_categorical[i])\n",
    "    X_dummy_features.append(temp_dummies)\n",
    "X_dummy_features = pd.concat(X_dummy_features, axis=1)\n",
    "# X_dummy_features.shape\n",
    "X_dummy_features = X_dummy_features.as_matrix()\n"
   ]
  },
  {
   "cell_type": "code",
   "execution_count": 132,
   "metadata": {
    "collapsed": false
   },
   "outputs": [],
   "source": [
    "X = np.concatenate((X_dummy_features, X_numeric_imputed), axis=1)\n"
   ]
  },
  {
   "cell_type": "code",
   "execution_count": 133,
   "metadata": {
    "collapsed": false
   },
   "outputs": [
    {
     "name": "stdout",
     "output_type": "stream",
     "text": [
      "[ 77308.  70863.  56557. ...,  49088.  32000.  32000.]\n"
     ]
    }
   ],
   "source": [
    "# y is salary\n",
    "y = sal2.iloc[:, 98].values\n",
    "print(y)"
   ]
  },
  {
   "cell_type": "code",
   "execution_count": 134,
   "metadata": {
    "collapsed": true
   },
   "outputs": [],
   "source": [
    "# create training and test sets\n",
    "from sklearn.cross_validation import train_test_split\n",
    "\n",
    "X_train, X_test, y_train, y_test = train_test_split(\n",
    "         X, y, test_size=0.3, random_state=0)"
   ]
  },
  {
   "cell_type": "code",
   "execution_count": 135,
   "metadata": {
    "collapsed": true
   },
   "outputs": [],
   "source": [
    "# keep track of variance on test data, to graph\n",
    "var_to_graph = {}\n",
    "# bring residual sum of squares from regression1.ipynb\n",
    "var_to_graph['simpReg'] = 265376883.08"
   ]
  },
  {
   "cell_type": "code",
   "execution_count": 136,
   "metadata": {
    "collapsed": true
   },
   "outputs": [],
   "source": [
    "from sklearn import datasets, linear_model\n",
    "# DOC: http://scikit-learn.org/stable/modules/generated/sklearn.linear_model.LinearRegression.html"
   ]
  },
  {
   "cell_type": "code",
   "execution_count": 137,
   "metadata": {
    "collapsed": false,
    "scrolled": false
   },
   "outputs": [
    {
     "name": "stdout",
     "output_type": "stream",
     "text": [
      "Intercept: \n",
      " 1.60071067512e-09\n",
      "Coefficients: \n",
      " [  5.38503800e-11  -1.83929308e-10  -1.47415791e-10   7.24428226e-11\n",
      "  -3.63307107e-10  -1.35733674e-10  -1.04721676e-10  -2.25890140e-10\n",
      "  -1.59351199e-10   1.69453987e-10  -1.87742884e-10  -1.72721165e-10\n",
      "  -2.37154747e-10  -1.26674439e-10  -1.36398512e-10  -1.07127265e-10\n",
      "  -1.42845842e-10  -1.58777199e-10  -9.87564255e-11  -1.60848906e-10\n",
      "   9.02056208e-17  -1.18820094e-10  -2.83269757e-10  -1.92166778e-10\n",
      "  -1.53965684e-10  -1.47613754e-10  -4.15024112e-11  -1.26045078e-10\n",
      "   3.16329598e-11   1.49126679e-11  -7.63535598e-11   7.63537220e-11\n",
      "  -8.20403606e-11  -7.78353178e-11  -1.59670501e-10  -2.18095971e-11\n",
      "  -1.31709786e-11  -1.92717818e-10  -2.24083137e-11  -3.71040906e-12\n",
      "   3.71040427e-12   3.02019461e-11  -3.02019379e-11  -4.25335208e-11\n",
      "  -3.64124598e-12   2.33820995e-10  -2.51051731e-11  -4.40086744e-11\n",
      "   2.62520535e-11   5.20951407e-11   1.12744795e-11  -6.59495171e-11\n",
      "  -2.32430940e-11   4.21354642e-11   2.69127077e-11   2.57322484e-11\n",
      "   1.31253589e-11   4.12814432e-12   1.19377986e-11   1.70729988e-12\n",
      "   4.70234435e-13   5.14524710e-12   3.27973893e-12  -2.95636669e-11\n",
      "   4.41714494e-12   1.70219394e-11   2.03047196e-11  -3.40149343e-11\n",
      "   4.77454004e-11   1.70811747e-12   5.34524958e-12   1.08840906e-12\n",
      "  -8.90852601e-12  -2.54829365e-11   3.96402936e-11  -2.31122545e-11\n",
      "  -2.35498122e-11  -1.80036144e-11   1.65671673e-11  -6.56278458e-12\n",
      "  -2.92389326e-11   2.50721752e-19   1.99226712e-11  -4.13728116e-13\n",
      "   4.25819301e-12   3.97433559e-12  -2.45560198e-11   1.91741199e-11\n",
      "   2.49632021e-11  -1.00800535e-11   3.00873020e-11  -2.33515492e-11\n",
      "  -1.01175995e-11   2.63066218e-11   1.84705931e-11   3.92713998e-11\n",
      "  -2.97553014e-11   1.94349161e-11   9.93930015e-12  -1.02724446e-11\n",
      "   1.23871510e-11   7.59661495e-13  -1.27435483e-11   1.72794721e-19\n",
      "   3.62624558e-11  -5.95212453e-11  -2.46822382e-11   2.97295483e-12\n",
      "  -1.41224789e-12   8.51876551e-12  -9.51130221e-12   1.86606426e-11\n",
      "  -3.89762750e-11   5.03695127e-11   6.46697269e-11  -2.70728904e-11\n",
      "  -3.58254628e-12   2.58312139e-11   3.99948788e-12  -1.09593674e-11\n",
      "   1.48020720e-11   4.56843838e-12  -2.37169225e-20  -1.00066721e-11\n",
      "   3.38227744e-11   4.74338450e-20  -2.01170113e-11   2.01284325e-11\n",
      "  -2.01685730e-11  -2.18827515e-11   4.58876291e-12   1.89916720e-11\n",
      "   4.15200104e-12  -2.84731168e-11   5.53743350e-13  -1.96992066e-11\n",
      "   3.44248907e-11  -3.83285501e-11  -1.88943115e-11   5.41123875e-12\n",
      "   1.74227394e-11  -4.96140168e-11  -9.19275654e-12   9.63499978e-21\n",
      "  -2.60116219e-11  -2.41404390e-20   3.89248896e-11   1.54484840e-11\n",
      "   1.03670334e-11  -2.83696889e-11   5.39070749e-12  -2.75213316e-11\n",
      "   6.85932613e-11   1.50164517e-12  -2.52365014e-11   1.98300072e-11\n",
      "  -2.85184430e-12  -1.50396296e-11  -2.68175041e-11  -3.61508465e-11\n",
      "   2.28092948e-11   3.24128905e-11  -7.97603840e-11  -8.99668439e-12\n",
      "  -1.04930093e-12   3.85896148e-11  -1.78244119e-11   1.11135851e-11\n",
      "  -4.01016413e-12   1.64996748e-11   3.26653375e-11  -6.56681104e-12\n",
      "   7.54040625e-11   4.68981879e-12  -3.14737307e-12   2.64962639e-11\n",
      "   8.14974106e-12  -1.06793822e-11  -4.22399613e-11   2.96258965e-11\n",
      "  -2.11145430e-12  -2.70453342e-11   2.09008235e-12  -3.90326835e-11\n",
      "  -7.42737128e-12  -1.08928730e-11  -2.87294134e-11  -3.65984729e-12\n",
      "  -9.77857224e-11  -3.68545469e-11   1.79356118e-11  -4.81681531e-12\n",
      "   1.88193202e-12   1.14068102e-11  -2.49226184e-11  -7.45263424e-12\n",
      "  -7.20065855e-12   2.88633278e-11  -7.25274639e-12  -3.60360412e-11\n",
      "   2.66842537e-11   1.84705932e-11   4.41714414e-12   1.43130712e-12\n",
      "   9.93930072e-12  -3.14332720e-13   9.74995388e-12   4.10286890e-13\n",
      "   1.33271834e-11   2.97295478e-12   1.53402218e-11  -4.59543342e-12\n",
      "  -3.49489979e-12   1.96519529e-12  -4.42757742e-11  -2.48743966e-11\n",
      "  -1.04301550e-12   4.77994624e-12  -6.45799999e-12  -3.59321483e-12\n",
      "   9.85275820e-12  -6.04649739e-12  -2.70983754e-11   3.11635629e-12\n",
      "  -1.27435483e-11   1.03670334e-11   3.00873020e-11  -1.41224793e-12\n",
      "   1.55227679e-12   6.90405792e-12  -1.20219281e-11   6.30703609e-13\n",
      "  -2.70728907e-11   4.49855452e-11   1.55726762e-11  -3.84561117e-12\n",
      "   1.40030313e-12  -1.40967399e-11  -5.91924732e-12  -8.36694683e-12\n",
      "   0.00000000e+00  -5.62296960e-11   5.62296960e-11   1.89547130e-11\n",
      "  -4.58100072e-11   2.62520583e-11   5.20951406e-11   1.12744802e-11\n",
      "  -6.59495187e-11  -2.32430928e-11   4.21354632e-11   2.69127105e-11\n",
      "   2.57322487e-11   1.31253606e-11   4.12814540e-12   1.19377990e-11\n",
      "   1.70729984e-12   4.70234253e-13   5.14524688e-12  -2.54496720e-11\n",
      "  -2.95636669e-11   4.41714414e-12   1.70219368e-11   2.03047171e-11\n",
      "  -3.40149334e-11   4.77453997e-11   1.70811743e-12   5.34525072e-12\n",
      "   1.08840921e-12  -8.90852656e-12  -2.54829363e-11   3.96402945e-11\n",
      "  -2.31122558e-11  -2.35498092e-11  -1.80036088e-11  -1.88943115e-11\n",
      "  -6.56278259e-12  -2.92389321e-11   0.00000000e+00   1.99226720e-11\n",
      "  -4.13727808e-13   4.25819313e-12   3.97433546e-12  -2.45560203e-11\n",
      "   1.91741196e-11   2.49632021e-11  -1.00800534e-11   3.00873020e-11\n",
      "  -2.33515490e-11  -1.01175991e-11   2.63066220e-11   1.84705932e-11\n",
      "   3.92713996e-11  -2.97553012e-11   1.94349159e-11   9.93930072e-12\n",
      "  -1.02724446e-11   1.23871510e-11   7.59661466e-13  -1.27435483e-11\n",
      "   0.00000000e+00   3.62624563e-11  -5.95212455e-11   2.97295478e-12\n",
      "  -1.41224793e-12   8.51876540e-12   2.58312138e-11  -9.51130226e-12\n",
      "   1.86606425e-11  -3.89762749e-11   5.03695128e-11   6.46697269e-11\n",
      "  -2.70728907e-11  -3.58254611e-12   3.99948793e-12  -1.09593675e-11\n",
      "   1.48020719e-11   4.56843843e-12  -1.00066721e-11   3.38227744e-11\n",
      "   0.00000000e+00  -2.01170113e-11   2.01284326e-11  -2.01685730e-11\n",
      "  -2.18827514e-11   4.58876282e-12   1.89916720e-11   4.15200104e-12\n",
      "   1.65671685e-11  -2.84731168e-11   5.53743280e-13  -1.96992067e-11\n",
      "   3.44248907e-11  -3.83285501e-11   5.41123873e-12   1.74227394e-11\n",
      "  -4.96140167e-11  -9.19275656e-12   0.00000000e+00  -2.46822377e-11\n",
      "  -2.60116219e-11   0.00000000e+00   3.89248896e-11   1.54484840e-11\n",
      "   1.03670334e-11  -2.83696889e-11   5.39070749e-12  -2.75213316e-11\n",
      "   6.85932613e-11   1.50164517e-12  -2.52365014e-11   1.98300072e-11\n",
      "  -2.85184430e-12  -1.50396296e-11  -2.68175041e-11   2.28092948e-11\n",
      "   3.24128905e-11  -7.97603840e-11   2.96258965e-11  -8.99668439e-12\n",
      "  -1.04930093e-12   3.85896148e-11  -1.78244119e-11   1.11135851e-11\n",
      "  -4.01016413e-12   1.64996748e-11   3.26653375e-11  -6.56681104e-12\n",
      "   7.54040625e-11   4.68981879e-12  -3.14737307e-12   2.64962639e-11\n",
      "   8.14974106e-12  -1.06793822e-11  -4.22399613e-11  -2.11145430e-12\n",
      "  -2.70453342e-11   2.09008235e-12  -3.90326835e-11  -7.42737128e-12\n",
      "  -1.08928730e-11   0.00000000e+00  -3.65984729e-12  -9.77857224e-11\n",
      "  -3.68545469e-11  -3.61508465e-11   1.79356118e-11  -4.81681531e-12\n",
      "   1.88193202e-12   1.14068102e-11  -2.49226184e-11  -7.45263424e-12\n",
      "  -7.20065855e-12   2.88633278e-11  -7.25274639e-12  -3.60360412e-11\n",
      "   2.66842537e-11   4.41714414e-12   1.84705932e-11   9.93930072e-12\n",
      "   1.43130712e-12  -3.14332720e-13   9.74995388e-12   4.10286890e-13\n",
      "   1.33271834e-11   2.97295478e-12  -4.59543342e-12  -3.49489979e-12\n",
      "   1.96519529e-12   1.53402218e-11  -4.42757742e-11  -2.48743966e-11\n",
      "  -1.04301550e-12  -6.45799999e-12   4.77994624e-12  -3.59321483e-12\n",
      "   9.85275820e-12  -2.70983754e-11  -6.04649739e-12   1.03670334e-11\n",
      "   3.00873020e-11  -1.41224793e-12   1.55227679e-12   3.11635629e-12\n",
      "  -1.27435483e-11   6.90405792e-12  -1.20219281e-11   6.30703609e-13\n",
      "  -2.70728907e-11   4.49855452e-11   1.55726762e-11  -3.84561117e-12\n",
      "   1.40030313e-12  -1.40967399e-11  -5.91924732e-12  -8.36694683e-12\n",
      "   1.84705932e-11   4.41714414e-12   1.43130712e-12   9.93930072e-12\n",
      "  -3.14332720e-13   9.74995388e-12   4.10286890e-13   1.33271834e-11\n",
      "   2.97295478e-12   1.53402218e-11  -4.59543342e-12  -3.49489979e-12\n",
      "   1.96519529e-12  -4.42757742e-11  -2.48743966e-11  -1.04301550e-12\n",
      "   4.77994624e-12  -6.45799999e-12  -3.59321483e-12   9.85275820e-12\n",
      "  -6.04649739e-12  -2.70983754e-11   3.11635629e-12  -1.27435483e-11\n",
      "   1.03670334e-11   3.00873020e-11  -1.41224793e-12   1.55227679e-12\n",
      "   6.90405792e-12  -1.20219281e-11   6.30703609e-13  -2.70728907e-11\n",
      "   4.49855452e-11   1.55726762e-11  -3.84561117e-12   1.40030313e-12\n",
      "  -1.40967399e-11  -5.91924732e-12  -8.36694683e-12   3.99948793e-12\n",
      "   7.59661466e-13  -5.95212455e-11  -1.88943115e-11   1.31253606e-11\n",
      "   1.19377990e-11   1.14068102e-11  -2.87294134e-11   3.27974137e-12\n",
      "  -3.68545469e-11   1.11135851e-11  -2.01685730e-11   4.58876282e-12\n",
      "  -2.31122558e-11   2.62520583e-11  -2.11145430e-12   2.57322487e-11\n",
      "   5.39070749e-12   8.14974106e-12  -2.46822377e-11   2.96258965e-11\n",
      "   5.34525072e-12   4.68981879e-12  -2.54829363e-11   9.93930072e-12\n",
      "  -8.90852656e-12   1.50164517e-12  -2.68175041e-11   0.00000000e+00\n",
      "  -4.96140167e-11   3.97433546e-12   4.12814540e-12   1.12744802e-11\n",
      "   1.49354718e-11   1.91741196e-11   4.15200104e-12  -2.70453342e-11\n",
      "  -2.75213316e-11   1.17282271e-12   1.84705932e-11   3.92713996e-11\n",
      "  -1.80036088e-11   3.38227744e-11   3.62624563e-11   2.88633278e-11\n",
      "  -2.35498092e-11   1.89916720e-11  -1.27435483e-11   1.08840921e-12\n",
      "  -2.27970156e-11   4.21354632e-11   3.43499792e-11   2.97295478e-12\n",
      "  -6.56681104e-12  -1.96992067e-11  -2.33515490e-11  -3.90326835e-11\n",
      "  -1.41224793e-12   2.69127105e-11  -2.75308146e-11   4.41714414e-12\n",
      "   1.86606425e-11   6.46697269e-11   5.14524688e-12   2.64962639e-11\n",
      "  -3.58254611e-12  -1.09593675e-11  -1.00800534e-11  -9.77857224e-11\n",
      "  -2.84731168e-11   2.63066220e-11   5.41123873e-12  -6.42862310e-12\n",
      "   1.79356118e-11   2.01284326e-11  -1.01175991e-11  -9.51130226e-12\n",
      "  -4.81681531e-12   0.00000000e+00   1.65671685e-11   5.53743280e-13\n",
      "  -1.06793822e-11   6.47673364e-11  -3.14737307e-12   1.54484840e-11\n",
      "  -7.20065855e-12   0.00000000e+00  -1.00066721e-11  -2.60116219e-11\n",
      "  -6.56278259e-12   3.24128905e-11   3.44248907e-11  -7.25274639e-12\n",
      "  -9.19275656e-12  -2.83696889e-11  -6.59495187e-11   6.85932613e-11\n",
      "   3.96402945e-11   2.28092948e-11   3.85896148e-11  -2.35264782e-11\n",
      "  -2.97553012e-11   1.98300072e-11   1.70729984e-12  -3.61508465e-11\n",
      "  -2.18827514e-11   1.74227394e-11  -7.97603840e-11  -1.89972346e-11\n",
      "  -4.01016413e-12   1.64996748e-11   3.26653375e-11  -1.94429457e-11\n",
      "   7.54040625e-11   1.99226720e-11  -7.45263424e-12  -1.08928730e-11\n",
      "  -8.99668439e-12   2.49632021e-11  -1.04930093e-12  -3.65984729e-12\n",
      "  -2.32430928e-11   3.00873020e-11   2.23947995e-11  -1.02724446e-11\n",
      "   5.20951406e-11   1.88193202e-12  -3.89762749e-11   4.70234253e-13\n",
      "  -7.42737128e-12   4.25819313e-12  -1.50396296e-11  -2.49226184e-11\n",
      "  -3.40149334e-11   4.27315380e-11   2.66842537e-11  -2.45560203e-11\n",
      "  -2.95636669e-11   0.00000000e+00  -2.85184430e-12   1.23871510e-11\n",
      "  -3.60360412e-11  -4.13727808e-13   0.00000000e+00   1.06321202e-14\n",
      "  -1.86569510e-15  -2.03404766e-12   2.10432665e-12   2.03404740e-12\n",
      "  -2.10432663e-12   3.16935334e-13  -1.95444629e-12   7.88988455e-12\n",
      "  -5.67268540e-12  -3.78936945e-12   1.51085827e-12   2.34850659e-13\n",
      "   2.84949575e-12   7.76375492e-15  -5.04200631e-14  -1.32384260e-12\n",
      "  -3.28159605e-13   9.53096421e-13   7.35333127e-13  -6.25423175e-14\n",
      "   1.62039306e-12  -5.74493523e-13  -2.79499541e-13  -1.73232549e-13\n",
      "   1.79263397e-13   7.15096385e-14  -1.41832618e-14   2.92823491e-13\n",
      "  -3.17613340e-13   1.32373387e-13  -3.39260087e-13   1.60464740e-13\n",
      "  -6.44874453e-13   3.91746531e-13  -3.70744126e-13  -1.45424363e-13\n",
      "   9.60742716e-15   8.57357262e-14   1.73063820e-13  -4.37600368e-13\n",
      "  -6.08397610e-13  -3.58239588e-13   5.42393279e-14  -1.33345592e-13\n",
      "   4.07733092e-13  -3.08957721e-13  -4.87925022e-13   1.19328917e-13\n",
      "  -4.82949293e-13   2.03967539e-13  -5.38173022e-14  -9.40930276e-14\n",
      "  -3.33597408e-13   8.72115422e-14   9.32955332e-13   3.87691398e-13\n",
      "  -1.02579338e-12   1.40136576e-12   1.02367756e-12   3.99064137e-13\n",
      "  -4.72278141e-13  -4.73237443e-14  -8.30260340e-14   2.52684755e-13\n",
      "   5.62772160e-13   2.09780544e-13   1.68940789e-13  -5.21709412e-14\n",
      "  -4.58361647e-14   2.76311309e-13   9.47219733e-14   2.47622018e-14\n",
      "   3.67389170e-13  -2.00903015e-13  -5.69810041e-14   1.14192510e-14\n",
      "  -1.20861112e-13  -2.12235828e-13  -8.69622462e-13  -1.31817625e-13\n",
      "   6.85616711e-13  -7.52273948e-14  -4.16975536e-13  -3.51503765e-13\n",
      "   2.50438234e-14  -2.28076564e-13  -6.28714217e-13  -1.96355178e-12\n",
      "   1.96355183e-12   6.88038865e-12  -6.97941588e-12   5.13764243e-14\n",
      "  -3.47961056e-12   5.30076281e-13   2.54382236e-13  -1.45291784e-12\n",
      "   1.00000000e+00   1.28768299e-12   1.35883340e-12  -2.23663969e-13\n",
      "   1.09526879e-11   7.11360950e-12   3.49787852e-12  -8.01923632e-14\n",
      "  -7.76039494e-13  -3.38271078e-17  -4.89192020e-15  -3.33066907e-16\n",
      "  -4.40186082e-17   5.27355937e-16  -3.60822483e-16  -1.38777878e-16\n",
      "   5.55111512e-17  -3.22723619e-15  -5.30825384e-16  -3.33066907e-16\n",
      "   4.99600361e-16   4.30211422e-16  -6.97098629e-15  -9.71445147e-16\n",
      "  -6.14092110e-16   1.66533454e-16   1.93595140e-15  -3.16066617e-15\n",
      "   2.22044605e-16  -9.08995101e-16   1.11022302e-16  -1.24900090e-15\n",
      "  -4.51028104e-16   9.43689571e-16  -1.24900090e-16   7.07767178e-16\n",
      "   5.91842022e-12   1.31829625e-11]\n",
      "Residual sum of squares, training data: 0.00\n",
      "Residual sum of squares, test data: 0.00\n",
      "Variance score, training data: 1.00\n",
      "Distribution of prediction error on training data:\n"
     ]
    },
    {
     "data": {
      "image/png": "[encoded data removed]",
      "text/plain": [
       "<matplotlib.figure.Figure at 0x120e232f390>"
      ]
     },
     "metadata": {},
     "output_type": "display_data"
    },
    {
     "name": "stdout",
     "output_type": "stream",
     "text": [
      "Distribution of prediction error on test data:\n"
     ]
    },
    {
     "data": {
      "image/png": "[encoded data removed]",
      "text/plain": [
       "<matplotlib.figure.Figure at 0x120e2311b00>"
      ]
     },
     "metadata": {},
     "output_type": "display_data"
    }
   ],
   "source": [
    "# Create linear regression object\n",
    "regr = linear_model.LinearRegression()\n",
    "\n",
    "# Train the model using the training sets\n",
    "X_train_no_intercept = X_train\n",
    "X_train = X_train.reshape(-1, X_train.shape[1])\n",
    "regr.fit(X_train, y_train)\n",
    "\n",
    "# The intercept\n",
    "print('Intercept: \\n', regr.intercept_)\n",
    "# The coefficients\n",
    "print('Coefficients: \\n', regr.coef_)\n",
    "# The mean square error\n",
    "print(\"Residual sum of squares, training data: %.2f\"\n",
    "      % np.mean((regr.predict(X_train) - y_train) ** 2))\n",
    "print(\"Residual sum of squares, test data: %.2f\"\n",
    "      % np.mean((regr.predict(X_test) - y_test) ** 2))\n",
    "var_to_graph['multReg_linear'] = np.mean((regr.predict(X_test) - y_test) ** 2)\n",
    "# Explained variance score: 1 is perfect prediction\n",
    "print('Variance score, training data: %.2f' % regr.score(X_train, y_train))\n",
    "#vector of prediction error\n",
    "print('Distribution of prediction error on training data:')\n",
    "predError = regr.predict(X_train) - y_train\n",
    "plt.hist(predError)\n",
    "plt.show()\n",
    "\n",
    "print('Distribution of prediction error on test data:')\n",
    "predError = regr.predict(X_test) - y_test\n",
    "plt.hist(predError)\n",
    "plt.show()"
   ]
  },
  {
   "cell_type": "code",
   "execution_count": 138,
   "metadata": {
    "collapsed": true
   },
   "outputs": [],
   "source": [
    "from sklearn.preprocessing import PolynomialFeatures\n",
    "# DOC: http://scikit-learn.org/stable/modules/preprocessing.html\n",
    "\n",
    "poly = PolynomialFeatures(2)\n",
    "X_poly = poly.fit_transform(X)"
   ]
  },
  {
   "cell_type": "code",
   "execution_count": 139,
   "metadata": {
    "collapsed": false
   },
   "outputs": [],
   "source": [
    "# create training and test sets\n",
    "from sklearn.cross_validation import train_test_split\n",
    "\n",
    "X_train, X_test, y_train, y_test = train_test_split(\n",
    "         X_poly, y, test_size=0.3, random_state=0)"
   ]
  },
  {
   "cell_type": "code",
   "execution_count": 140,
   "metadata": {
    "collapsed": false
   },
   "outputs": [
    {
     "name": "stdout",
     "output_type": "stream",
     "text": [
      "Intercept: \n",
      " 14182.6167731\n",
      "Coefficients: \n",
      " [  3.71802816e+01   8.05318401e+01  -2.88244200e+01 ...,   2.25679032e-04\n",
      "   5.08111840e-04  -2.41019436e-04]\n",
      "Residual sum of squares, training data: 0.00\n",
      "Residual sum of squares, test data: 16912180.80\n",
      "Variance score, training data: 1.00\n",
      "Distribution of prediction error on training data:\n"
     ]
    },
    {
     "data": {
      "image/png": "[encoded data removed]",
      "text/plain": [
       "<matplotlib.figure.Figure at 0x120e02210f0>"
      ]
     },
     "metadata": {},
     "output_type": "display_data"
    },
    {
     "name": "stdout",
     "output_type": "stream",
     "text": [
      "Distribution of prediction error on test data:\n"
     ]
    },
    {
     "data": {
      "image/png": "[encoded data removed]",
      "text/plain": [
       "<matplotlib.figure.Figure at 0x120e1e56208>"
      ]
     },
     "metadata": {},
     "output_type": "display_data"
    }
   ],
   "source": [
    "## POLYNOMINAL \n",
    "# Create linear regression object\n",
    "poly = linear_model.LinearRegression(normalize=True)\n",
    "\n",
    "# Train the model using the training sets\n",
    "X_train_no_intercept = X_train\n",
    "X_train = X_train.reshape(-1, X_train.shape[1])\n",
    "poly.fit(X_train, y_train)\n",
    "\n",
    "# The intercept\n",
    "print('Intercept: \\n', poly.intercept_)\n",
    "# The coefficients\n",
    "print('Coefficients: \\n', poly.coef_)\n",
    "# The mean square error\n",
    "print(\"Residual sum of squares, training data: %.2f\"\n",
    "      % np.mean((poly.predict(X_train) - y_train) ** 2))\n",
    "print(\"Residual sum of squares, test data: %.2f\"\n",
    "      % np.mean((poly.predict(X_test) - y_test) ** 2))\n",
    "var_to_graph['multReg_poly'] = np.mean((poly.predict(X_test) - y_test) ** 2)\n",
    "# Explained variance score: 1 is perfect prediction\n",
    "print('Variance score, training data: %.2f' % poly.score(X_train, y_train))\n",
    "#vector of prediction error\n",
    "print('Distribution of prediction error on training data:')\n",
    "predError = poly.predict(X_train) - y_train\n",
    "plt.hist(predError)\n",
    "plt.show()\n",
    "\n",
    "print('Distribution of prediction error on test data:')\n",
    "predError = poly.predict(X_test) - y_test\n",
    "plt.hist(predError)\n",
    "plt.show()"
   ]
  },
  {
   "cell_type": "code",
   "execution_count": 141,
   "metadata": {
    "collapsed": false,
    "scrolled": false
   },
   "outputs": [
    {
     "name": "stdout",
     "output_type": "stream",
     "text": [
      "Intercept: \n",
      " 2.25794065045e-06\n",
      "Coefficients: \n",
      " [  1.54536390e-07  -3.96123566e-08  -5.01274747e-08  -2.41014380e-08\n",
      "   1.78756312e-08   1.03245173e-07  -8.20774174e-08  -9.27539306e-08\n",
      "  -5.51221662e-08   3.53509704e-08  -1.27849981e-08  -2.64549391e-08\n",
      "  -7.76675310e-08  -9.29308772e-08  -1.10899451e-08   8.40675986e-09\n",
      "  -5.67535340e-08  -1.22984509e-07  -3.22813073e-08  -5.34748454e-08\n",
      "   0.00000000e+00   4.90058036e-08  -4.26645644e-08   2.88780749e-08\n",
      "  -6.12408661e-08  -2.80428865e-08   1.64706649e-08  -8.32673750e-08\n",
      "  -3.25908639e-08  -4.28443904e-08   7.85477404e-09  -7.96185252e-09\n",
      "   2.04142425e-09   4.80569170e-08  -3.16919818e-08   4.56754186e-08\n",
      "  -5.00972603e-08  -1.13299350e-08   1.96234995e-08  -3.16281604e-08\n",
      "   3.04453538e-08  -3.34439899e-09   3.25668662e-09  -1.43177776e-08\n",
      "   3.77446109e-09   1.45471003e-07   7.61392432e-08  -9.45103270e-08\n",
      "  -1.68960161e-08   7.73411342e-09   3.98677081e-09   2.97930854e-09\n",
      "   1.43438240e-09   1.11796925e-09  -9.40300288e-09  -1.24068454e-08\n",
      "   5.56317883e-10  -8.47759052e-09   2.68794447e-09  -2.63196176e-10\n",
      "   2.10374247e-08   6.53747240e-09   1.08014092e-08  -2.48099657e-08\n",
      "   5.11223857e-09   6.89498507e-09  -6.36567416e-11   9.29996160e-09\n",
      "  -4.28873874e-09   2.23594862e-09  -2.19375916e-09   1.84858964e-08\n",
      "  -7.64032169e-09  -9.33159785e-09  -1.43797325e-08  -7.50781493e-09\n",
      "  -1.78002784e-08  -2.40362666e-08   2.30288525e-08  -1.75918341e-09\n",
      "  -5.54731887e-09   0.00000000e+00   1.57933086e-08   3.08377447e-09\n",
      "  -8.83003909e-09  -7.51200288e-09   4.92305554e-09   8.95023221e-09\n",
      "  -2.42935091e-10  -1.06591764e-08  -2.76061270e-09  -6.04439255e-09\n",
      "  -1.26272052e-08  -2.38154899e-09   1.10414219e-08   2.22986490e-09\n",
      "  -4.50759301e-09   1.99103476e-08  -5.10097475e-09   3.16258637e-11\n",
      "   1.42919373e-08  -3.86859998e-10  -1.02796330e-08   0.00000000e+00\n",
      "   2.34844982e-09  -5.62161535e-09  -1.78052618e-08  -2.60187025e-09\n",
      "  -1.44752887e-09  -4.35381848e-09   4.26019734e-09  -9.97637825e-09\n",
      "  -7.04163471e-09  -4.04554382e-08  -6.95566689e-09   6.91853492e-09\n",
      "  -3.23303674e-09  -1.37869050e-08  -7.58777999e-09  -1.21225488e-08\n",
      "  -1.84380031e-09   2.01952051e-08   0.00000000e+00   4.29037163e-09\n",
      "   1.47215200e-08   0.00000000e+00  -1.65654620e-09  -1.43567334e-09\n",
      "  -1.64969700e-08   4.51897494e-09   6.78654916e-09  -1.08655241e-08\n",
      "   1.36693541e-08   1.54276034e-08   6.30783384e-10  -7.27263489e-09\n",
      "   2.34882441e-09  -1.53527216e-09  -1.73127308e-08   3.95574110e-09\n",
      "   2.80728219e-08   1.66853058e-09  -1.61490795e-08   0.00000000e+00\n",
      "  -1.94825306e-08   0.00000000e+00   1.40901070e-08  -5.54837026e-09\n",
      "  -4.07396499e-10  -1.81218253e-09   1.62917331e-08  -3.42951871e-09\n",
      "   1.92340458e-08  -1.94232311e-08   6.67587440e-09   1.23470330e-08\n",
      "   2.00642353e-09   3.75730312e-09  -5.93971602e-09   1.79160374e-08\n",
      "   7.33613548e-09   6.53614240e-09   6.04104825e-09   1.15218013e-08\n",
      "  -3.05571661e-09   2.44579162e-08   1.62389555e-09   9.16248950e-09\n",
      "  -1.75618427e-08   9.14223528e-09   1.02607068e-09   1.17760855e-08\n",
      "  -3.16468015e-09  -5.94207772e-11  -1.24355521e-08   2.38337231e-08\n",
      "   1.77907684e-08   5.71142414e-09   3.90515478e-09   2.09940860e-08\n",
      "   8.36180630e-09  -1.72684885e-08   1.52398090e-08  -4.78425754e-08\n",
      "   1.31540738e-08   3.86066963e-08   4.08021922e-09   3.23058392e-09\n",
      "  -5.59751343e-09  -1.22298642e-08   1.06417205e-08  -1.13266696e-08\n",
      "  -2.91392098e-08   1.94956985e-09  -1.07633085e-08  -2.94870749e-08\n",
      "   6.19224517e-09   4.41148080e-09   1.45974493e-08  -8.54571026e-09\n",
      "   1.32110870e-09   1.10282926e-08   5.11622972e-09  -3.96420151e-09\n",
      "  -5.10224987e-09  -1.26322700e-10   1.68818878e-09   9.69612289e-11\n",
      "   6.57135797e-09  -2.59708691e-09   7.22680495e-09   8.24147883e-09\n",
      "  -3.90109174e-11  -4.58421815e-09   1.73531200e-09   6.11715444e-09\n",
      "   1.66950768e-09   6.89141969e-09   4.01548737e-09  -3.32240935e-09\n",
      "  -4.09219135e-10   8.67494883e-10  -9.23234739e-10  -3.26762028e-09\n",
      "  -1.02956393e-08  -4.05790952e-10  -2.76186901e-09  -1.45500983e-09\n",
      "  -1.60458150e-09   1.87243638e-09  -4.02488644e-09  -1.01727796e-09\n",
      "   6.93058282e-09  -1.63033540e-08  -1.12001145e-08   4.84590239e-10\n",
      "   7.93670534e-10   3.65044119e-09   8.64687887e-10  -1.18734908e-09\n",
      "   0.00000000e+00   2.25876140e-08  -2.26786440e-08  -3.73061323e-08\n",
      "   4.16664080e-08  -1.68721660e-08   7.70805630e-09   3.98698288e-09\n",
      "   2.98905819e-09   1.42820685e-09   1.11470484e-09  -9.41615499e-09\n",
      "  -1.24373759e-08   5.41558133e-10  -8.48574052e-09   2.70391039e-09\n",
      "  -2.61252614e-10   2.13085231e-08   6.53997842e-09   1.48651023e-08\n",
      "  -2.48034126e-08   5.10997759e-09   6.81220787e-09  -6.02239231e-11\n",
      "   9.30698641e-09  -4.28158805e-09   2.21747622e-09  -2.19327174e-09\n",
      "   1.84790077e-08  -7.59160659e-09  -9.33200685e-09  -1.43169698e-08\n",
      "  -7.52869616e-09  -1.77602243e-08  -2.40330066e-08  -1.73113675e-08\n",
      "  -1.72136610e-09  -5.54161667e-09   0.00000000e+00   1.58034733e-08\n",
      "   2.82462538e-09  -8.79075318e-09  -7.45897383e-09   4.93489959e-09\n",
      "   8.95207328e-09  -2.36920782e-10  -1.06651376e-08  -2.75821559e-09\n",
      "  -6.04259687e-09  -1.26078543e-08  -2.36395271e-09   1.10316869e-08\n",
      "   2.12871237e-09  -4.50652906e-09   1.98910799e-08  -5.10194035e-09\n",
      "   2.30392862e-11   1.42953796e-08  -3.87126762e-10  -1.02942383e-08\n",
      "   0.00000000e+00   2.29903884e-09  -5.64549031e-09  -2.59657808e-09\n",
      "  -1.45346558e-09  -4.35827362e-09  -1.37918211e-08   4.27920718e-09\n",
      "  -9.98059875e-09  -6.97786148e-09  -4.04509522e-08  -6.96494536e-09\n",
      "   6.93083779e-09  -3.22515189e-09  -7.59982067e-09  -1.21071953e-08\n",
      "  -1.84808129e-09   2.01817793e-08   4.30145259e-09   1.47129486e-08\n",
      "   0.00000000e+00  -1.63642568e-09  -1.42784712e-09  -1.64890696e-08\n",
      "   4.53051920e-09   6.78639824e-09  -1.08623254e-08   1.36739102e-08\n",
      "   2.30154648e-08   1.54315729e-08   6.09021451e-10  -7.19341927e-09\n",
      "   2.35056083e-09  -1.53383686e-09   3.94995707e-09   2.80849913e-08\n",
      "   1.66188030e-09  -1.61440133e-08   0.00000000e+00  -1.78004664e-08\n",
      "  -1.94867839e-08   0.00000000e+00   1.40868383e-08  -5.57092438e-09\n",
      "  -4.04393703e-10  -1.81404148e-09   1.62728236e-08  -3.41359298e-09\n",
      "   1.92316874e-08  -1.94292112e-08   6.70922565e-09   1.23442188e-08\n",
      "   1.97456581e-09   3.75477189e-09  -5.95107890e-09   7.33790565e-09\n",
      "   6.55240547e-09   5.97188829e-09   2.09933024e-08   1.15042951e-08\n",
      "  -3.04862453e-09   2.44463491e-08   1.62440544e-09   9.11985155e-09\n",
      "  -1.75433346e-08   9.16224422e-09   1.02109519e-09   1.17589791e-08\n",
      "  -3.16940325e-09  -6.94666440e-11  -1.24365414e-08   2.38197672e-08\n",
      "   1.77966969e-08   5.71939402e-09   3.90703624e-09   8.49409232e-09\n",
      "  -1.72687906e-08   1.52097592e-08  -4.78074790e-08   1.31509569e-08\n",
      "   3.86024307e-08   0.00000000e+00   3.23241721e-09  -5.60262383e-09\n",
      "  -1.22340957e-08   1.79036957e-08   1.06449880e-08  -1.13126393e-08\n",
      "  -2.91697863e-08   1.97837079e-09  -1.07581011e-08  -2.94672854e-08\n",
      "   6.19279671e-09   4.41314384e-09   1.45944831e-08  -8.55647570e-09\n",
      "   1.32446263e-09   5.11173434e-09   1.10292333e-08  -5.10199309e-09\n",
      "  -3.96552733e-09  -1.50331873e-10   1.68628903e-09   6.45292890e-11\n",
      "   6.56728412e-09  -2.59604578e-09   8.23048177e-09  -4.50291151e-11\n",
      "  -4.66105293e-09   7.22662701e-09   1.69547595e-09   6.11716804e-09\n",
      "   1.67025480e-09   4.01585717e-09   6.86659133e-09  -3.32161517e-09\n",
      "  -3.79758419e-10  -9.13143087e-10   8.97372365e-10  -4.05352286e-10\n",
      "  -2.75542508e-09  -1.45348321e-09  -1.63379315e-09  -3.28452714e-09\n",
      "  -1.02943836e-08   1.86808354e-09  -4.02538181e-09  -1.01187172e-09\n",
      "   6.93061999e-09  -1.63009228e-08  -1.12142702e-08   4.82360108e-10\n",
      "   7.21330820e-10   3.63627380e-09   8.10383232e-10  -1.19656760e-09\n",
      "   1.10305099e-08   5.11238767e-09  -3.96522177e-09  -5.10205001e-09\n",
      "  -1.52889822e-10   1.68275772e-09   6.36994176e-11   6.56526817e-09\n",
      "  -2.59838121e-09   7.22697908e-09   8.23027683e-09  -4.54159442e-11\n",
      "  -4.66146598e-09   1.69756179e-09   6.11701394e-09   1.67034690e-09\n",
      "   6.85628403e-09   4.01601348e-09  -3.32188749e-09  -3.78130843e-10\n",
      "   8.97815064e-10  -9.13379867e-10  -3.28360854e-09  -1.02942069e-08\n",
      "  -4.02816046e-10  -2.75596570e-09  -1.45428967e-09  -1.63305954e-09\n",
      "   1.86846988e-09  -4.02441787e-09  -1.01054276e-09   6.93082532e-09\n",
      "  -1.62998177e-08  -1.12174617e-08   4.80576914e-10   7.27377584e-10\n",
      "   3.63827350e-09   8.11976056e-10  -1.19667105e-09  -7.59368801e-09\n",
      "  -3.87854463e-10  -5.64644505e-09  -1.73110052e-08   5.40760333e-10\n",
      "   2.70490641e-09   1.97893703e-09   4.07800753e-09   1.07764800e-08\n",
      "  -1.22427753e-08   9.11981148e-09  -1.64934651e-08   6.78850307e-09\n",
      "  -7.52334907e-09  -1.68655822e-08   8.49415601e-09  -1.24388262e-08\n",
      "   1.62719309e-08   1.77901641e-08  -1.78091370e-08   2.09944424e-08\n",
      "  -2.19233631e-09  -6.88031613e-11  -9.34340459e-09  -5.10195922e-09\n",
      "  -7.58520926e-09  -1.94298901e-08  -5.95211408e-09   0.00000000e+00\n",
      "   1.65542233e-09  -7.44882047e-09  -8.47632720e-09   3.98728495e-09\n",
      "   1.95295287e-08   8.95285946e-09   1.36733774e-08  -1.72680948e-08\n",
      "  -3.40987579e-09   1.41473441e-08   1.10282775e-08   2.12494655e-09\n",
      "  -2.40330338e-08   1.47113140e-08   2.29790600e-09   4.41359985e-09\n",
      "  -1.77514866e-08  -1.08629076e-08  -1.02947112e-08   1.84804185e-08\n",
      "   2.84635992e-10   1.12165196e-09  -1.82207569e-08  -2.59565367e-09\n",
      "   1.17624424e-08  -7.19660806e-09  -6.03997516e-09  -4.78089224e-08\n",
      "  -1.45418292e-09  -9.41828055e-09  -3.30960580e-09   5.11084858e-09\n",
      "  -9.98076465e-09  -6.96736159e-09   6.53908773e-09   2.38243376e-08\n",
      "  -3.23107753e-09  -1.21047179e-08  -1.06619170e-08  -5.60256664e-09\n",
      "   1.54284439e-08  -2.36258282e-09   3.94972756e-09   1.92288366e-08\n",
      "   1.06443224e-08  -1.42945409e-09  -1.26015492e-08   4.27838425e-09\n",
      "  -1.13180804e-08   0.00000000e+00   2.30411363e-08   6.12434902e-10\n",
      "   5.71919847e-09   2.69970711e-09  -1.24486703e-08  -5.56536098e-09\n",
      "   6.19338595e-09   0.00000000e+00   4.30589195e-09  -1.94785945e-08\n",
      "  -1.72225007e-09   6.55155440e-09   2.34799929e-09   1.46024272e-08\n",
      "  -1.61408173e-08  -1.81376321e-09   2.99139741e-09   1.92346917e-08\n",
      "  -1.43167136e-08   7.33796837e-09   2.44577715e-08  -3.36979150e-09\n",
      "  -4.50681159e-09   1.23443356e-08  -2.62341242e-10   1.79094760e-08\n",
      "   4.52444043e-09   2.80844423e-08   5.97131882e-09  -1.24761117e-08\n",
      "  -1.75429731e-08   9.15831825e-09   1.02045455e-09   3.71410600e-09\n",
      "  -3.16310627e-09   1.58006271e-08  -2.94673633e-08   3.86024370e-08\n",
      "   1.15050205e-08  -2.38930378e-10  -3.05334091e-09   3.23380719e-09\n",
      "   1.42816716e-09  -2.75578838e-09   1.52814040e-08   2.12678262e-11\n",
      "   7.70758633e-09  -2.91695884e-08  -6.98028555e-09   2.13074289e-08\n",
      "   1.31508337e-08  -8.78754802e-09   3.76046669e-09  -1.07593276e-08\n",
      "   9.30869840e-09  -1.36588464e-08   1.32539965e-09   4.93333169e-09\n",
      "  -2.48095489e-08   0.00000000e+00   1.97240131e-09   1.42916661e-08\n",
      "  -8.55147575e-09   2.82166409e-09   0.00000000e+00   6.03228917e-12\n",
      "  -3.25853964e-12   1.65539313e-09   8.59201265e-09   2.65307839e-09\n",
      "   4.79781576e-09   1.46266135e-09  -5.95053352e-10  -3.17708361e-09\n",
      "  -4.36192861e-09  -5.96606647e-09  -1.51964743e-09   1.15202406e-10\n",
      "  -5.44204666e-10   2.39448150e-07  -2.39508812e-07  -2.39947596e-07\n",
      "  -2.38572300e-07  -2.39433429e-07  -2.40309919e-07  -2.39214675e-07\n",
      "  -2.40810440e-07  -2.39279453e-07  -2.39171107e-07  -2.39951457e-07\n",
      "  -2.39616647e-07  -2.39387149e-07  -2.39136175e-07  -2.39531502e-07\n",
      "  -2.39274742e-07  -2.39617037e-07  -2.39757449e-07  -2.39357163e-07\n",
      "  -2.39668042e-07  -2.39337494e-07  -2.39466653e-07  -2.39600990e-07\n",
      "  -2.39561447e-07  -2.39304579e-07   9.29812662e-08  -9.29413722e-08\n",
      "  -9.29207883e-08  -9.31349870e-08  -9.31091877e-08  -9.29749070e-08\n",
      "  -9.28045403e-08  -9.31502283e-08  -9.30685859e-08  -9.27025123e-08\n",
      "  -9.31779127e-08  -9.30372037e-08  -9.28514641e-08  -9.30560820e-08\n",
      "  -9.23899173e-08  -9.33981174e-08  -9.30431161e-08  -9.29186051e-08\n",
      "  -9.34153373e-08  -9.30866733e-08  -9.38446347e-08  -9.22211306e-08\n",
      "  -9.16787108e-08  -9.29690933e-08   1.04309479e-07  -1.04509596e-07\n",
      "  -1.03788120e-07  -1.04723900e-07  -1.03921186e-07  -1.04312103e-07\n",
      "  -1.04272317e-07  -1.04260697e-07  -1.04237827e-07  -1.04488478e-07\n",
      "  -1.04360989e-07  -1.04346931e-07  -1.04147842e-07  -1.04316683e-07\n",
      "  -1.04407070e-07  -1.03966954e-07  -1.04346513e-07  -1.03766977e-07\n",
      "  -1.05201704e-07  -1.04317076e-07  -1.05004243e-07  -1.03896767e-07\n",
      "  -1.04392440e-07  -1.04608202e-07   4.54197901e-09  -2.83143178e-08\n",
      "  -2.85810195e-08   1.17299582e-09  -2.01820448e-09   2.94298508e-08\n",
      "   1.14374685e-08  -8.89697153e-09   1.64175489e-10   1.92263710e-11\n",
      "   1.00000000e+00   3.01841774e-09   5.20330949e-09   3.25710840e-09\n",
      "  -3.96230541e-09   2.79926853e-10   5.53765321e-09   8.65886337e-11\n",
      "   7.93820560e-10  -2.12621493e-15   3.68224508e-12  -9.69790710e-14\n",
      "   1.07735616e-15  -5.63327684e-13   2.91581421e-13   3.53388417e-13\n",
      "   3.70247608e-13  -1.84143809e-11   4.46109717e-14   4.82757735e-13\n",
      "  -5.38172757e-14   3.80584936e-12   2.81962749e-13  -3.64908781e-13\n",
      "  -3.64581196e-12  -2.37526403e-13  -2.96946240e-12  -1.21723464e-12\n",
      "  -5.34940961e-13  -8.64850028e-13   1.24057093e-14   1.15758623e-13\n",
      "  -4.50277679e-13   5.48644434e-14   1.20990076e-14  -3.65329949e-13\n",
      "   1.19105299e-08   3.87807649e-09]\n",
      "Residual sum of squares, training data: 0.00\n",
      "Residual sum of squares, test data: 0.00\n",
      "Variance score, training data: 1.00\n",
      "Distribution of prediction error on training data:\n"
     ]
    },
    {
     "data": {
      "image/png": "[encoded data removed]",
      "text/plain": [
       "<matplotlib.figure.Figure at 0x120e232f320>"
      ]
     },
     "metadata": {},
     "output_type": "display_data"
    },
    {
     "name": "stdout",
     "output_type": "stream",
     "text": [
      "Distribution of prediction error on test data:\n"
     ]
    },
    {
     "data": {
      "image/png": "[encoded data removed]",
      "text/plain": [
       "<matplotlib.figure.Figure at 0x120e1e492e8>"
      ]
     },
     "metadata": {},
     "output_type": "display_data"
    }
   ],
   "source": [
    "## RIDGE REGRESSION\n",
    "# DOC: http://scikit-learn.org/stable/modules/generated/sklearn.linear_model.Ridge.html\n",
    "\n",
    "# create training and test sets\n",
    "from sklearn.cross_validation import train_test_split\n",
    "\n",
    "X_train, X_test, y_train, y_test = train_test_split(\n",
    "         X, y, test_size=0.3, random_state=0)\n",
    "\n",
    "# Create linear regression object\n",
    "regr = linear_model.Ridge()\n",
    "\n",
    "# Train the model using the training sets\n",
    "X_train_no_intercept = X_train\n",
    "X_train = X_train.reshape(-1, X_train.shape[1])\n",
    "regr.fit(X_train, y_train)\n",
    "\n",
    "# The intercept\n",
    "print('Intercept: \\n', regr.intercept_)\n",
    "# The coefficients\n",
    "print('Coefficients: \\n', regr.coef_)\n",
    "# The mean square error\n",
    "print(\"Residual sum of squares, training data: %.2f\"\n",
    "      % np.mean((regr.predict(X_train) - y_train) ** 2))\n",
    "print(\"Residual sum of squares, test data: %.2f\"\n",
    "      % np.mean((regr.predict(X_test) - y_test) ** 2))\n",
    "var_to_graph['multReg_ridge'] = np.mean((regr.predict(X_test) - y_test) ** 2)\n",
    "# Explained variance score: 1 is perfect prediction\n",
    "print('Variance score, training data: %.2f' % regr.score(X_train, y_train))\n",
    "#vector of prediction error\n",
    "print('Distribution of prediction error on training data:')\n",
    "predError = regr.predict(X_train) - y_train\n",
    "plt.hist(predError)\n",
    "plt.show()\n",
    "\n",
    "print('Distribution of prediction error on test data:')\n",
    "predError = regr.predict(X_test) - y_test\n",
    "plt.hist(predError)\n",
    "plt.show()"
   ]
  },
  {
   "cell_type": "code",
   "execution_count": 142,
   "metadata": {
    "collapsed": false
   },
   "outputs": [
    {
     "data": {
      "image/png": "[encoded data removed]",
      "text/plain": [
       "<matplotlib.figure.Figure at 0x120e231ebe0>"
      ]
     },
     "metadata": {},
     "output_type": "display_data"
    }
   ],
   "source": [
    "# bar graph of dict with Residual Sum of Squares on test datasets\n",
    "\n",
    "#var_to_graph['multReg_poly'] = 0\n",
    "plt.bar(range(len(var_to_graph)), var_to_graph.values(), align='center')\n",
    "plt.xticks(range(len(var_to_graph)), var_to_graph.keys())\n",
    "\n",
    "plt.show()"
   ]
  },
  {
   "cell_type": "code",
   "execution_count": null,
   "metadata": {
    "collapsed": true
   },
   "outputs": [],
   "source": []
  }
 ],
 "metadata": {
  "kernelspec": {
   "display_name": "Python 3",
   "language": "python",
   "name": "python3"
  },
  "language_info": {
   "codemirror_mode": {
    "name": "ipython",
    "version": 3
   },
   "file_extension": ".py",
   "mimetype": "text/x-python",
   "name": "python",
   "nbconvert_exporter": "python",
   "pygments_lexer": "ipython3",
   "version": "3.5.1"
  }
 },
 "nbformat": 4,
 "nbformat_minor": 0
}
