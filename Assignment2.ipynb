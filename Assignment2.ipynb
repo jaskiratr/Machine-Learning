{
 "cells": [
  {
   "cell_type": "code",
   "execution_count": 5,
   "metadata": {
    "collapsed": true
   },
   "outputs": [],
   "source": [
    "# State Tax Collections http://www2.census.gov/govs/statetax/14staxcd.txt\n",
    "# Geo Data http://download.geonames.org/export/dump/\n",
    "# Subsidized Households 2008 http://www.HUDuser.org/portal/picture2008/2008_tract.zip\n",
    "# Zip Codes https://www.aggdata.com/node/86\n",
    "# Unemployment Rates http://www.bls.gov/lau/laucntycur14.txt\n",
    "import numpy as np\n",
    "import pandas as pd\n",
    "import matplotlib.pyplot as plt\n",
    "%matplotlib inline"
   ]
  },
  {
   "cell_type": "code",
   "execution_count": 6,
   "metadata": {
    "collapsed": false
   },
   "outputs": [],
   "source": [
    "sal = pd.read_csv('salaries.csv')"
   ]
  },
  {
   "cell_type": "code",
   "execution_count": 7,
   "metadata": {
    "collapsed": false
   },
   "outputs": [
    {
     "data": {
      "text/html": [
       "<div>\n",
       "<table border=\"1\" class=\"dataframe\">\n",
       "  <thead>\n",
       "    <tr style=\"text-align: right;\">\n",
       "      <th></th>\n",
       "      <th>Function</th>\n",
       "      <th>sup1</th>\n",
       "      <th>sup2</th>\n",
       "      <th>sup3</th>\n",
       "      <th>sup4</th>\n",
       "      <th>sup5</th>\n",
       "      <th>salary</th>\n",
       "      <th>gender</th>\n",
       "      <th>disabled</th>\n",
       "      <th>race</th>\n",
       "      <th>...</th>\n",
       "      <th>inst4</th>\n",
       "      <th>inst5</th>\n",
       "      <th>instBudget</th>\n",
       "      <th>City</th>\n",
       "      <th>State</th>\n",
       "      <th>Zip</th>\n",
       "      <th>country</th>\n",
       "      <th>Category</th>\n",
       "      <th>instSize</th>\n",
       "      <th>instType</th>\n",
       "    </tr>\n",
       "  </thead>\n",
       "  <tbody>\n",
       "    <tr>\n",
       "      <th>0</th>\n",
       "      <td>position1</td>\n",
       "      <td>16</td>\n",
       "      <td>1</td>\n",
       "      <td>0</td>\n",
       "      <td>350</td>\n",
       "      <td>135</td>\n",
       "      <td>125000.0</td>\n",
       "      <td>Woman</td>\n",
       "      <td>False</td>\n",
       "      <td>Caucasian</td>\n",
       "      <td>...</td>\n",
       "      <td>350</td>\n",
       "      <td>120</td>\n",
       "      <td>3100000.0</td>\n",
       "      <td>Edmonton</td>\n",
       "      <td>AB</td>\n",
       "      <td>T6G 2H9</td>\n",
       "      <td>CANADA</td>\n",
       "      <td>one</td>\n",
       "      <td>35630.0</td>\n",
       "      <td>Public Institution</td>\n",
       "    </tr>\n",
       "    <tr>\n",
       "      <th>1</th>\n",
       "      <td>position3</td>\n",
       "      <td>7</td>\n",
       "      <td>0</td>\n",
       "      <td>0</td>\n",
       "      <td>320</td>\n",
       "      <td>120</td>\n",
       "      <td>92000.0</td>\n",
       "      <td>Woman</td>\n",
       "      <td>False</td>\n",
       "      <td>Other</td>\n",
       "      <td>...</td>\n",
       "      <td>350</td>\n",
       "      <td>120</td>\n",
       "      <td>3100000.0</td>\n",
       "      <td>Edmonton</td>\n",
       "      <td>AB</td>\n",
       "      <td>T6G 2H9</td>\n",
       "      <td>CANADA</td>\n",
       "      <td>one</td>\n",
       "      <td>35630.0</td>\n",
       "      <td>Public Institution</td>\n",
       "    </tr>\n",
       "    <tr>\n",
       "      <th>2</th>\n",
       "      <td>position3</td>\n",
       "      <td>4</td>\n",
       "      <td>0</td>\n",
       "      <td>0</td>\n",
       "      <td>25</td>\n",
       "      <td>15</td>\n",
       "      <td>88000.0</td>\n",
       "      <td>Woman</td>\n",
       "      <td>False</td>\n",
       "      <td>Caucasian</td>\n",
       "      <td>...</td>\n",
       "      <td>350</td>\n",
       "      <td>120</td>\n",
       "      <td>3100000.0</td>\n",
       "      <td>Edmonton</td>\n",
       "      <td>AB</td>\n",
       "      <td>T6G 2H9</td>\n",
       "      <td>CANADA</td>\n",
       "      <td>one</td>\n",
       "      <td>35630.0</td>\n",
       "      <td>Public Institution</td>\n",
       "    </tr>\n",
       "    <tr>\n",
       "      <th>3</th>\n",
       "      <td>position5</td>\n",
       "      <td>0</td>\n",
       "      <td>0</td>\n",
       "      <td>0</td>\n",
       "      <td>5</td>\n",
       "      <td>0</td>\n",
       "      <td>75000.0</td>\n",
       "      <td>Woman</td>\n",
       "      <td>False</td>\n",
       "      <td>Caucasian</td>\n",
       "      <td>...</td>\n",
       "      <td>350</td>\n",
       "      <td>120</td>\n",
       "      <td>3100000.0</td>\n",
       "      <td>Edmonton</td>\n",
       "      <td>AB</td>\n",
       "      <td>T6G 2H9</td>\n",
       "      <td>CANADA</td>\n",
       "      <td>one</td>\n",
       "      <td>35630.0</td>\n",
       "      <td>Public Institution</td>\n",
       "    </tr>\n",
       "    <tr>\n",
       "      <th>4</th>\n",
       "      <td>position18</td>\n",
       "      <td>0</td>\n",
       "      <td>0</td>\n",
       "      <td>0</td>\n",
       "      <td>0</td>\n",
       "      <td>0</td>\n",
       "      <td>67000.0</td>\n",
       "      <td>Woman</td>\n",
       "      <td>False</td>\n",
       "      <td>Caucasian</td>\n",
       "      <td>...</td>\n",
       "      <td>350</td>\n",
       "      <td>120</td>\n",
       "      <td>3100000.0</td>\n",
       "      <td>Edmonton</td>\n",
       "      <td>AB</td>\n",
       "      <td>T6G 2H9</td>\n",
       "      <td>CANADA</td>\n",
       "      <td>one</td>\n",
       "      <td>35630.0</td>\n",
       "      <td>Public Institution</td>\n",
       "    </tr>\n",
       "  </tbody>\n",
       "</table>\n",
       "<p>5 rows × 29 columns</p>\n",
       "</div>"
      ],
      "text/plain": [
       "     Function  sup1  sup2  sup3  sup4  sup5    salary gender disabled  \\\n",
       "0   position1    16     1     0   350   135  125000.0  Woman    False   \n",
       "1   position3     7     0     0   320   120   92000.0  Woman    False   \n",
       "2   position3     4     0     0    25    15   88000.0  Woman    False   \n",
       "3   position5     0     0     0     5     0   75000.0  Woman    False   \n",
       "4  position18     0     0     0     0     0   67000.0  Woman    False   \n",
       "\n",
       "        race         ...          inst4  inst5  instBudget      City State  \\\n",
       "0  Caucasian         ...            350    120   3100000.0  Edmonton    AB   \n",
       "1      Other         ...            350    120   3100000.0  Edmonton    AB   \n",
       "2  Caucasian         ...            350    120   3100000.0  Edmonton    AB   \n",
       "3  Caucasian         ...            350    120   3100000.0  Edmonton    AB   \n",
       "4  Caucasian         ...            350    120   3100000.0  Edmonton    AB   \n",
       "\n",
       "       Zip  country  Category  instSize            instType  \n",
       "0  T6G 2H9   CANADA       one   35630.0  Public Institution  \n",
       "1  T6G 2H9   CANADA       one   35630.0  Public Institution  \n",
       "2  T6G 2H9   CANADA       one   35630.0  Public Institution  \n",
       "3  T6G 2H9   CANADA       one   35630.0  Public Institution  \n",
       "4  T6G 2H9   CANADA       one   35630.0  Public Institution  \n",
       "\n",
       "[5 rows x 29 columns]"
      ]
     },
     "execution_count": 7,
     "metadata": {},
     "output_type": "execute_result"
    }
   ],
   "source": [
    "sal.head(5)"
   ]
  },
  {
   "cell_type": "code",
   "execution_count": 8,
   "metadata": {
    "collapsed": false
   },
   "outputs": [
    {
     "data": {
      "text/plain": [
       "sup1                 1.425292e+00\n",
       "sup2                 7.375487e-01\n",
       "sup3                 6.006929e-01\n",
       "sup4                 4.977653e+01\n",
       "sup5                 4.090515e+00\n",
       "salary               4.923469e+04\n",
       "disabled             1.299264e-02\n",
       "yearsInPosition      5.690508e+00\n",
       "yearsInProfession    9.331236e+00\n",
       "age                  3.825722e+01\n",
       "cred1                6.712863e-02\n",
       "cred2                3.161542e-02\n",
       "inst1                1.657557e+01\n",
       "inst2                6.470333e+00\n",
       "inst3                3.541793e+00\n",
       "inst4                3.344331e+02\n",
       "inst5                4.103854e+01\n",
       "instBudget           4.751711e+06\n",
       "instSize             2.506621e+04\n",
       "dtype: float64"
      ]
     },
     "execution_count": 8,
     "metadata": {},
     "output_type": "execute_result"
    }
   ],
   "source": [
    "sal.mean()"
   ]
  },
  {
   "cell_type": "code",
   "execution_count": 9,
   "metadata": {
    "collapsed": false
   },
   "outputs": [],
   "source": [
    "# eliminate rows with missing Y values (NaN)\n",
    "sal['missingSalary'] = pd.isnull(sal['salary'])\n",
    "sal2 = sal[(sal.missingSalary == False)]"
   ]
  },
  {
   "cell_type": "code",
   "execution_count": 10,
   "metadata": {
    "collapsed": false
   },
   "outputs": [],
   "source": [
    "# list of X vars to include\n",
    "X_numeric_features = ['sup1', 'sup2', 'sup3', 'sup4', 'sup5', 'disabled', 'yearsInPosition', \n",
    "         'yearsInProfession', 'age', 'cred1', 'cred2', 'inst1', 'inst2', 'inst3', 'inst4', 'inst5', 'instBudget', 'instSize']\n",
    "X_numeric = sal2[X_numeric_features]\n",
    "X_categorical_features = ['Function', 'gender', 'race', 'highestDegree', 'Category', 'instType']\n",
    "X_categorical = sal2[X_categorical_features]"
   ]
  },
  {
   "cell_type": "code",
   "execution_count": 24,
   "metadata": {
    "collapsed": false
   },
   "outputs": [],
   "source": [
    "# create dummy variables for each of the categorical features\n",
    "# DOC: http://pandas.pydata.org/pandas-docs/stable/generated/pandas.get_dummies.html\n",
    "\n",
    "Function_dummies = pd.get_dummies(X_categorical['Function'])\n",
    "gender_dummies = pd.get_dummies(X_categorical['gender'])\n",
    "# print(gender_dummies)\n",
    "race_dummies = pd.get_dummies(X_categorical['race'])\n",
    "highestDegree_dummies = pd.get_dummies(X_categorical['highestDegree'])\n",
    "Category_dummies = pd.get_dummies(X_categorical['Category'])\n",
    "instType_dummies = pd.get_dummies(X_categorical['instType'])\n",
    "\n",
    "X_dummy_features = pd.concat([Function_dummies, gender_dummies, race_dummies, highestDegree_dummies, Category_dummies, instType_dummies], axis=1)\n",
    "\n",
    "# convert to ndarray\n",
    "X_dummy_features = X_dummy_features.as_matrix()"
   ]
  },
  {
   "cell_type": "code",
   "execution_count": 12,
   "metadata": {
    "collapsed": false
   },
   "outputs": [],
   "source": [
    "# impute missing values in numerical features\n",
    "# DOC: http://scikit-learn.org/stable/modules/preprocessing.html\n",
    "\n",
    "from sklearn.preprocessing import Imputer\n",
    "imp = Imputer()\n",
    "imp.fit(X_numeric)\n",
    "X_numeric_imputed = imp.transform(X_numeric)"
   ]
  },
  {
   "cell_type": "code",
   "execution_count": 13,
   "metadata": {
    "collapsed": false
   },
   "outputs": [],
   "source": [
    "X = np.concatenate((X_dummy_features, X_numeric_imputed), axis=1)"
   ]
  },
  {
   "cell_type": "code",
   "execution_count": 14,
   "metadata": {
    "collapsed": false
   },
   "outputs": [],
   "source": [
    "# y is salary\n",
    "y = sal2.iloc[:, 6].values"
   ]
  },
  {
   "cell_type": "code",
   "execution_count": 15,
   "metadata": {
    "collapsed": true
   },
   "outputs": [],
   "source": [
    "# create training and test sets\n",
    "from sklearn.cross_validation import train_test_split\n",
    "\n",
    "X_train, X_test, y_train, y_test = train_test_split(\n",
    "         X, y, test_size=0.3, random_state=0)"
   ]
  },
  {
   "cell_type": "code",
   "execution_count": 16,
   "metadata": {
    "collapsed": true
   },
   "outputs": [],
   "source": [
    "# keep track of variance on test data, to graph\n",
    "var_to_graph = {}\n",
    "# bring residual sum of squares from regression1.ipynb\n",
    "var_to_graph['simpReg'] = 265376883.08"
   ]
  },
  {
   "cell_type": "code",
   "execution_count": 17,
   "metadata": {
    "collapsed": true
   },
   "outputs": [],
   "source": [
    "from sklearn import datasets, linear_model\n",
    "# DOC: http://scikit-learn.org/stable/modules/generated/sklearn.linear_model.LinearRegression.html"
   ]
  },
  {
   "cell_type": "code",
   "execution_count": 18,
   "metadata": {
    "collapsed": false
   },
   "outputs": [
    {
     "name": "stdout",
     "output_type": "stream",
     "text": [
      "Intercept: \n",
      " 24679.7195096\n",
      "Coefficients: \n",
      " [  7.04704753e+03  -4.89849022e+03  -6.15011258e+03  -5.76475010e+03\n",
      "  -3.15999125e+03   4.85176883e+03  -6.56116978e+03  -5.92907309e+03\n",
      "  -4.44512339e+03  -1.24785486e+02  -2.47448813e+03  -3.14042551e+03\n",
      "  -7.51586873e+03  -7.18537600e+03  -5.50007990e+03  -9.68622360e+02\n",
      "  -5.97170349e+03  -1.25333607e+04  -1.78642150e+03  -4.43590255e+03\n",
      "  -4.31442558e+03   1.38041103e+03  -5.40497688e+03  -1.39662437e+03\n",
      "  -5.73739071e+03  -3.83429612e+03  -2.56743303e+03  -7.09593415e+03\n",
      "   1.42123126e+03   1.65266910e+02   2.17224951e+03   8.06448080e+03\n",
      "   7.25990301e+03   4.80258179e+03   1.62709106e+03   6.57256825e+03\n",
      "   3.16786819e+03   7.41347900e+02   5.09314855e+03   1.38008012e+04\n",
      "   7.54412417e+03  -6.15583906e+02   5.07276292e+03  -5.07276292e+03\n",
      "  -5.60522580e+03  -6.30844620e+03   1.86015844e+03   6.54297733e+02\n",
      "  -5.74364076e+01   1.12927166e+00  -1.34795738e+00   2.05537435e+02\n",
      "   1.39682102e+02   3.71887603e+02   1.49764706e+02   2.09818980e+03\n",
      "  -2.25216241e+02   6.65022078e+01  -1.51830030e+02  -2.13816353e+02\n",
      "   5.70892437e+00  -8.53527307e-01   3.86640977e-05   1.25793566e-01]\n",
      "Residual sum of squares, training data: 92170576.83\n",
      "Residual sum of squares, test data: 124707325.95\n",
      "Variance score, training data: 0.74\n",
      "Distribution of prediction error on training data:\n"
     ]
    },
    {
     "data": {
      "image/png": "[encoded data removed]",
      "text/plain": [
       "<matplotlib.figure.Figure at 0x2495a8899b0>"
      ]
     },
     "metadata": {},
     "output_type": "display_data"
    },
    {
     "name": "stdout",
     "output_type": "stream",
     "text": [
      "Distribution of prediction error on test data:\n"
     ]
    },
    {
     "data": {
      "image/png": "[encoded data removed]",
      "text/plain": [
       "<matplotlib.figure.Figure at 0x2495a789198>"
      ]
     },
     "metadata": {},
     "output_type": "display_data"
    }
   ],
   "source": [
    "# Create linear regression object\n",
    "regr = linear_model.LinearRegression()\n",
    "\n",
    "# Train the model using the training sets\n",
    "X_train_no_intercept = X_train\n",
    "X_train = X_train.reshape(-1, X_train.shape[1])\n",
    "regr.fit(X_train, y_train)\n",
    "\n",
    "# The intercept\n",
    "print('Intercept: \\n', regr.intercept_)\n",
    "# The coefficients\n",
    "print('Coefficients: \\n', regr.coef_)\n",
    "# The mean square error\n",
    "print(\"Residual sum of squares, training data: %.2f\"\n",
    "      % np.mean((regr.predict(X_train) - y_train) ** 2))\n",
    "print(\"Residual sum of squares, test data: %.2f\"\n",
    "      % np.mean((regr.predict(X_test) - y_test) ** 2))\n",
    "var_to_graph['multReg_linear'] = np.mean((regr.predict(X_test) - y_test) ** 2)\n",
    "# Explained variance score: 1 is perfect prediction\n",
    "print('Variance score, training data: %.2f' % regr.score(X_train, y_train))\n",
    "#vector of prediction error\n",
    "print('Distribution of prediction error on training data:')\n",
    "predError = regr.predict(X_train) - y_train\n",
    "plt.hist(predError)\n",
    "plt.show()\n",
    "\n",
    "print('Distribution of prediction error on test data:')\n",
    "predError = regr.predict(X_test) - y_test\n",
    "plt.hist(predError)\n",
    "plt.show()"
   ]
  },
  {
   "cell_type": "code",
   "execution_count": 19,
   "metadata": {
    "collapsed": true
   },
   "outputs": [],
   "source": [
    "from sklearn.preprocessing import PolynomialFeatures\n",
    "# DOC: http://scikit-learn.org/stable/modules/preprocessing.html\n",
    "\n",
    "poly = PolynomialFeatures(2)\n",
    "X_poly = poly.fit_transform(X)"
   ]
  },
  {
   "cell_type": "code",
   "execution_count": 20,
   "metadata": {
    "collapsed": false
   },
   "outputs": [],
   "source": [
    "# create training and test sets\n",
    "from sklearn.cross_validation import train_test_split\n",
    "\n",
    "X_train, X_test, y_train, y_test = train_test_split(\n",
    "         X_poly, y, test_size=0.3, random_state=0)"
   ]
  },
  {
   "cell_type": "code",
   "execution_count": 21,
   "metadata": {
    "collapsed": false
   },
   "outputs": [
    {
     "name": "stdout",
     "output_type": "stream",
     "text": [
      "Intercept: \n",
      " 1.09694177951e+18\n",
      "Coefficients: \n",
      " [ -1.25399569e+18  -2.05517284e+17  -2.42283163e+17 ...,  -2.06675930e-11\n",
      "  -5.89324393e-08   1.42612344e-06]\n",
      "Residual sum of squares, training data: 24328768.01\n",
      "Residual sum of squares, test data: 19415629627015558337248451314581504.00\n",
      "Variance score, training data: 0.93\n",
      "Distribution of prediction error on training data:\n"
     ]
    },
    {
     "data": {
      "image/png": "[encoded data removed]",
      "text/plain": [
       "<matplotlib.figure.Figure at 0x2495abfc8d0>"
      ]
     },
     "metadata": {},
     "output_type": "display_data"
    },
    {
     "name": "stdout",
     "output_type": "stream",
     "text": [
      "Distribution of prediction error on test data:\n"
     ]
    },
    {
     "data": {
      "image/png": "[encoded data removed]",
      "text/plain": [
       "<matplotlib.figure.Figure at 0x2495fbb5518>"
      ]
     },
     "metadata": {},
     "output_type": "display_data"
    }
   ],
   "source": [
    "## POLYNOMINAL \n",
    "# Create linear regression object\n",
    "poly = linear_model.LinearRegression(normalize=True)\n",
    "\n",
    "# Train the model using the training sets\n",
    "X_train_no_intercept = X_train\n",
    "X_train = X_train.reshape(-1, X_train.shape[1])\n",
    "poly.fit(X_train, y_train)\n",
    "\n",
    "# The intercept\n",
    "print('Intercept: \\n', poly.intercept_)\n",
    "# The coefficients\n",
    "print('Coefficients: \\n', poly.coef_)\n",
    "# The mean square error\n",
    "print(\"Residual sum of squares, training data: %.2f\"\n",
    "      % np.mean((poly.predict(X_train) - y_train) ** 2))\n",
    "print(\"Residual sum of squares, test data: %.2f\"\n",
    "      % np.mean((poly.predict(X_test) - y_test) ** 2))\n",
    "var_to_graph['multReg_poly'] = np.mean((poly.predict(X_test) - y_test) ** 2)\n",
    "# Explained variance score: 1 is perfect prediction\n",
    "print('Variance score, training data: %.2f' % poly.score(X_train, y_train))\n",
    "#vector of prediction error\n",
    "print('Distribution of prediction error on training data:')\n",
    "predError = poly.predict(X_train) - y_train\n",
    "plt.hist(predError)\n",
    "plt.show()\n",
    "\n",
    "print('Distribution of prediction error on test data:')\n",
    "predError = poly.predict(X_test) - y_test\n",
    "plt.hist(predError)\n",
    "plt.show()"
   ]
  },
  {
   "cell_type": "code",
   "execution_count": 22,
   "metadata": {
    "collapsed": false
   },
   "outputs": [
    {
     "name": "stdout",
     "output_type": "stream",
     "text": [
      "Intercept: \n",
      " 24096.7283525\n",
      "Coefficients: \n",
      " [  9.52951158e+03  -2.21366260e+03  -3.42145437e+03  -2.92193110e+03\n",
      "  -4.69055025e+02   7.23635271e+03  -3.90886484e+03  -2.98338808e+03\n",
      "  -1.70033004e+03   2.21233208e+03   1.87156551e+02  -5.32568540e+02\n",
      "  -4.75308283e+03  -4.31612642e+03  -2.78979841e+03   1.26444679e+03\n",
      "  -2.99335102e+03  -9.90620961e+03   6.32940117e+02  -1.65604697e+03\n",
      "  -1.02165318e+03   3.95887890e+03  -2.70911788e+03   1.28426798e+03\n",
      "  -3.03279101e+03  -1.14541278e+03   9.80661056e+01  -4.40290800e+03\n",
      "   3.66364478e+03   2.41827951e+03  -1.93106413e+02   5.53238353e+03\n",
      "   4.57912228e+03   2.49708815e+03  -6.64814654e+02   3.32089951e+03\n",
      "   9.04064945e+02  -7.10445489e+02   3.55961374e+03   1.18488348e+04\n",
      "   5.98763971e+03  -1.99177307e+03   4.83163200e+03  -4.83163200e+03\n",
      "  -5.68908214e+03  -6.53617867e+03   1.87723945e+03   6.49733597e+02\n",
      "  -5.04328147e+01   8.30717056e-01  -2.05371849e+00   1.38536827e+02\n",
      "   1.34754356e+02   3.80079593e+02   1.47483379e+02   2.17827785e+03\n",
      "  -2.41959792e+02   6.66049597e+01  -1.50000155e+02  -2.13778695e+02\n",
      "   5.70667418e+00  -9.01093591e-01   3.21810333e-05   1.26788845e-01]\n",
      "Residual sum of squares, training data: 92268236.06\n",
      "Residual sum of squares, test data: 124589459.80\n",
      "Variance score, training data: 0.74\n",
      "Distribution of prediction error on training data:\n"
     ]
    },
    {
     "data": {
      "image/png": "[encoded data removed]",
      "text/plain": [
       "<matplotlib.figure.Figure at 0x2495a889a58>"
      ]
     },
     "metadata": {},
     "output_type": "display_data"
    },
    {
     "name": "stdout",
     "output_type": "stream",
     "text": [
      "Distribution of prediction error on test data:\n"
     ]
    },
    {
     "data": {
      "image/png": "[encoded data removed]",
      "text/plain": [
       "<matplotlib.figure.Figure at 0x2495d645908>"
      ]
     },
     "metadata": {},
     "output_type": "display_data"
    }
   ],
   "source": [
    "## RIDGE REGRESSION\n",
    "# DOC: http://scikit-learn.org/stable/modules/generated/sklearn.linear_model.Ridge.html\n",
    "\n",
    "# create training and test sets\n",
    "from sklearn.cross_validation import train_test_split\n",
    "\n",
    "X_train, X_test, y_train, y_test = train_test_split(\n",
    "         X, y, test_size=0.3, random_state=0)\n",
    "\n",
    "# Create linear regression object\n",
    "regr = linear_model.Ridge()\n",
    "\n",
    "# Train the model using the training sets\n",
    "X_train_no_intercept = X_train\n",
    "X_train = X_train.reshape(-1, X_train.shape[1])\n",
    "regr.fit(X_train, y_train)\n",
    "\n",
    "# The intercept\n",
    "print('Intercept: \\n', regr.intercept_)\n",
    "# The coefficients\n",
    "print('Coefficients: \\n', regr.coef_)\n",
    "# The mean square error\n",
    "print(\"Residual sum of squares, training data: %.2f\"\n",
    "      % np.mean((regr.predict(X_train) - y_train) ** 2))\n",
    "print(\"Residual sum of squares, test data: %.2f\"\n",
    "      % np.mean((regr.predict(X_test) - y_test) ** 2))\n",
    "var_to_graph['multReg_ridge'] = np.mean((regr.predict(X_test) - y_test) ** 2)\n",
    "# Explained variance score: 1 is perfect prediction\n",
    "print('Variance score, training data: %.2f' % regr.score(X_train, y_train))\n",
    "#vector of prediction error\n",
    "print('Distribution of prediction error on training data:')\n",
    "predError = regr.predict(X_train) - y_train\n",
    "plt.hist(predError)\n",
    "plt.show()\n",
    "\n",
    "print('Distribution of prediction error on test data:')\n",
    "predError = regr.predict(X_test) - y_test\n",
    "plt.hist(predError)\n",
    "plt.show()"
   ]
  },
  {
   "cell_type": "code",
   "execution_count": 23,
   "metadata": {
    "collapsed": false
   },
   "outputs": [
    {
     "data": {
      "image/png": "[encoded data removed]",
      "text/plain": [
       "<matplotlib.figure.Figure at 0x2495a889588>"
      ]
     },
     "metadata": {},
     "output_type": "display_data"
    }
   ],
   "source": [
    "# bar graph of dict with Residual Sum of Squares on test datasets\n",
    "\n",
    "#var_to_graph['multReg_poly'] = 0\n",
    "plt.bar(range(len(var_to_graph)), var_to_graph.values(), align='center')\n",
    "plt.xticks(range(len(var_to_graph)), var_to_graph.keys())\n",
    "\n",
    "plt.show()"
   ]
  },
  {
   "cell_type": "code",
   "execution_count": null,
   "metadata": {
    "collapsed": true
   },
   "outputs": [],
   "source": []
  }
 ],
 "metadata": {
  "kernelspec": {
   "display_name": "Python 3",
   "language": "python",
   "name": "python3"
  },
  "language_info": {
   "codemirror_mode": {
    "name": "ipython",
    "version": 3
   },
   "file_extension": ".py",
   "mimetype": "text/x-python",
   "name": "python",
   "nbconvert_exporter": "python",
   "pygments_lexer": "ipython3",
   "version": "3.5.1"
  }
 },
 "nbformat": 4,
 "nbformat_minor": 0
}
